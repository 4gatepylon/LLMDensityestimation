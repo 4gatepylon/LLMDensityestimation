{
 "cells": [
  {
   "cell_type": "code",
   "execution_count": 1,
   "metadata": {},
   "outputs": [
    {
     "name": "stderr",
     "output_type": "stream",
     "text": [
      "/mnt/align3_drive/adrianoh/miniconda3/envs/llm-density/lib/python3.12/site-packages/tqdm/auto.py:21: TqdmWarning: IProgress not found. Please update jupyter and ipywidgets. See https://ipywidgets.readthedocs.io/en/stable/user_install.html\n",
      "  from .autonotebook import tqdm as notebook_tqdm\n"
     ]
    },
    {
     "data": {
      "text/plain": [
       "True"
      ]
     },
     "execution_count": 1,
     "metadata": {},
     "output_type": "execute_result"
    }
   ],
   "source": [
    "from transformers import AutoModelForCausalLM, BitsAndBytesConfig, AutoTokenizer\n",
    "import numpy as np\n",
    "import torch\n",
    "import dotenv\n",
    "dotenv.load_dotenv()\n",
    "# https://colab.research.google.com/drive/17dQFYUYnuKnP6OwQPH9v_GSYUW5aj-Rp#scrollTo=v6ZlLW2J5LA8"
   ]
  },
  {
   "cell_type": "code",
   "execution_count": 2,
   "metadata": {},
   "outputs": [
    {
     "name": "stderr",
     "output_type": "stream",
     "text": [
      "Loading checkpoint shards: 100%|██████████| 3/3 [00:15<00:00,  5.33s/it]\n"
     ]
    }
   ],
   "source": [
    "torch.set_grad_enabled(False) # avoid blowing up mem\n",
    "\n",
    "model = AutoModelForCausalLM.from_pretrained(\n",
    "    \"google/gemma-2-2b\",\n",
    "    device_map='cuda',\n",
    ")\n",
    "tokenizer =  AutoTokenizer.from_pretrained(\"google/gemma-2-2b\")"
   ]
  },
  {
   "cell_type": "code",
   "execution_count": 3,
   "metadata": {},
   "outputs": [
    {
     "name": "stdout",
     "output_type": "stream",
     "text": [
      "tensor([[     2,  18925,    692,    614,   3326,    577,   5056,   1593,   1069,\n",
      "           2177,    476,  47420,  18216, 235336]], device='cuda:0')\n",
      "<bos>Would you be able to travel through time using a wormhole?\n",
      "\n",
      "[Answer 1]\n",
      "\n",
      "Yes, you can travel through time using a wormhole.\n",
      "\n",
      "A wormhole is a theoretical object that connects two points in space-time. It is a tunnel through space-time that allows objects to travel from\n"
     ]
    }
   ],
   "source": [
    "# The input text\n",
    "prompt = \"Would you be able to travel through time using a wormhole?\"\n",
    "\n",
    "# Use the tokenizer to convert it to tokens. Note that this implicitly adds a special \"Beginning of Sequence\" or <bos> token to the start\n",
    "inputs = tokenizer.encode(prompt, return_tensors=\"pt\", add_special_tokens=True).to(\"cuda\")\n",
    "print(inputs)\n",
    "\n",
    "# Pass it in to the model and generate text\n",
    "outputs = model.generate(input_ids=inputs, max_new_tokens=50)\n",
    "print(tokenizer.decode(outputs[0]))"
   ]
  },
  {
   "cell_type": "code",
   "execution_count": 4,
   "metadata": {},
   "outputs": [
    {
     "data": {
      "text/html": [
       "\n",
       "        <iframe\n",
       "            width=\"1200\"\n",
       "            height=\"600\"\n",
       "            src=\"https://neuronpedia.org/gemma-2-2b/20-gemmascope-res-16k/10004?embed=true&embedexplanation=true&embedplots=true&embedtest=true&height=300\"\n",
       "            frameborder=\"0\"\n",
       "            allowfullscreen\n",
       "            \n",
       "        ></iframe>\n",
       "        "
      ],
      "text/plain": [
       "<IPython.lib.display.IFrame at 0x7f899b446e10>"
      ]
     },
     "execution_count": 4,
     "metadata": {},
     "output_type": "execute_result"
    }
   ],
   "source": [
    "from IPython.display import IFrame\n",
    "html_template = \"https://neuronpedia.org/{}/{}/{}?embed=true&embedexplanation=true&embedplots=true&embedtest=true&height=300\"\n",
    "\n",
    "def get_dashboard_html(sae_release = \"gemma-2-2b\", sae_id=\"20-gemmascope-res-16k\", feature_idx=0):\n",
    "    return html_template.format(sae_release, sae_id, feature_idx)\n",
    "\n",
    "html = get_dashboard_html(sae_release = \"gemma-2-2b\", sae_id=\"20-gemmascope-res-16k\", feature_idx=10004)\n",
    "IFrame(html, width=1200, height=600)"
   ]
  },
  {
   "cell_type": "code",
   "execution_count": 5,
   "metadata": {},
   "outputs": [
    {
     "data": {
      "text/plain": [
       "SAE(\n",
       "  (activation_fn): ReLU()\n",
       "  (hook_sae_input): HookPoint()\n",
       "  (hook_sae_acts_pre): HookPoint()\n",
       "  (hook_sae_acts_post): HookPoint()\n",
       "  (hook_sae_output): HookPoint()\n",
       "  (hook_sae_recons): HookPoint()\n",
       "  (hook_sae_error): HookPoint()\n",
       ")"
      ]
     },
     "execution_count": 5,
     "metadata": {},
     "output_type": "execute_result"
    }
   ],
   "source": [
    "interp_latent_idx = 10_004 # we should use this one!\n",
    "from sae_lens import SAE  # pip install sae-lens\n",
    "\n",
    "sae, cfg_dict, sparsity = SAE.from_pretrained(\n",
    "    release = \"gemma-scope-2b-pt-res-canonical\",\n",
    "    sae_id = \"layer_20/width_16k/canonical\",\n",
    ")\n",
    "sae.cuda()\n"
   ]
  },
  {
   "cell_type": "code",
   "execution_count": 6,
   "metadata": {},
   "outputs": [],
   "source": [
    "\n",
    "def gather_residual_activations(model, target_layer, inputs):\n",
    "  target_act = None\n",
    "  def gather_target_act_hook(mod, inputs, outputs):\n",
    "    nonlocal target_act # make sure we can modify the target_act from the outer scope\n",
    "    target_act = outputs[0]\n",
    "    return outputs\n",
    "  handle = model.model.layers[target_layer].register_forward_hook(gather_target_act_hook)\n",
    "  _ = model.forward(inputs)\n",
    "  handle.remove()\n",
    "  return target_act"
   ]
  },
  {
   "cell_type": "code",
   "execution_count": null,
   "metadata": {},
   "outputs": [
    {
     "data": {
      "text/plain": [
       "tensor([[7017,   47,   65,   70,   55,   72,   65,   75,   80,   72,   68,   93,\n",
       "           86,   89]], device='cuda:0')"
      ]
     },
     "execution_count": 7,
     "metadata": {},
     "output_type": "execute_result"
    }
   ],
   "source": [
    "target_act = gather_residual_activations(model, 20, inputs)\n",
    "sae_acts = sae.encode(target_act.to(torch.float32))\n",
    "recon = sae.decode(sae_acts)\n",
    "1 - torch.mean((recon[:, 1:] - target_act[:, 1:].to(torch.float32)) **2) / (target_act[:, 1:].to(torch.float32).var())\n",
    "(sae_acts > 1).sum(-1)"
   ]
  },
  {
   "cell_type": "code",
   "execution_count": 8,
   "metadata": {},
   "outputs": [
    {
     "data": {
      "text/plain": [
       "torch.Size([1, 14, 2304])"
      ]
     },
     "execution_count": 8,
     "metadata": {},
     "output_type": "execute_result"
    }
   ],
   "source": [
    "target_act.shape"
   ]
  },
  {
   "cell_type": "code",
   "execution_count": 9,
   "metadata": {},
   "outputs": [
    {
     "data": {
      "text/plain": [
       "tensor([[ 6631,  5482, 10376,  1670, 11023,  7562,  9407,  8399, 12935, 10004,\n",
       "         10004, 10004, 12935,  3442]], device='cuda:0')"
      ]
     },
     "execution_count": 9,
     "metadata": {},
     "output_type": "execute_result"
    }
   ],
   "source": [
    "values, inds = sae_acts.max(-1)\n",
    "\n",
    "inds"
   ]
  },
  {
   "cell_type": "code",
   "execution_count": 10,
   "metadata": {},
   "outputs": [],
   "source": [
    "from transformer_lens.utils import tokenize_and_concatenate\n",
    "from datasets import load_dataset\n",
    "# dataset_name = \"EleutherAI/the_pile_deduplicated\" # too big?\n",
    "# dataset_name = \"stas/openwebtext-10k\" # yolo\n",
    "dataset_name = \"PatrickHaller/pile-10M-words\"\n",
    "dataset = load_dataset(dataset_name, split=\"train\", trust_remote_code=True) # Smaller version\n",
    "# print(dataset)\n",
    "# raise NotImplementedError(\"Stop here\")\n",
    "tokens = tokenize_and_concatenate(\n",
    "    dataset=dataset,  # type: ignore\n",
    "    tokenizer=tokenizer,  # type: ignore\n",
    "    streaming=True,\n",
    "    # NOTE: all these have context 128\n",
    "    max_length=128, #sae.cfg.context_size,\n",
    "    add_bos_token=True, #sae.cfg.prepend_bos,\n",
    ")['tokens']\n",
    "tokens = tokens.to('cuda') # eh "
   ]
  },
  {
   "cell_type": "code",
   "execution_count": 11,
   "metadata": {},
   "outputs": [
    {
     "data": {
      "text/plain": [
       "torch.Size([107803, 128])"
      ]
     },
     "execution_count": 11,
     "metadata": {},
     "output_type": "execute_result"
    }
   ],
   "source": [
    "tokens.shape"
   ]
  },
  {
   "cell_type": "code",
   "execution_count": 12,
   "metadata": {},
   "outputs": [],
   "source": [
    "model.eval()\n",
    "for p in model.parameters():\n",
    "    p.requires_grad = False\n",
    "    p.grad = None"
   ]
  },
  {
   "cell_type": "code",
   "execution_count": 13,
   "metadata": {},
   "outputs": [],
   "source": [
    "# turns out width over 2 works?\n",
    "with torch.no_grad():\n",
    "    model(tokens[:1])"
   ]
  },
  {
   "cell_type": "code",
   "execution_count": 14,
   "metadata": {},
   "outputs": [
    {
     "name": "stderr",
     "output_type": "stream",
     "text": [
      "100%|██████████| 100/100 [04:31<00:00,  2.72s/it]\n"
     ]
    },
    {
     "name": "stdout",
     "output_type": "stream",
     "text": [
      "torch.Size([10000, 128, 2304])\n"
     ]
    }
   ],
   "source": [
    "try:\n",
    "    del collected_outputs\n",
    "except:\n",
    "    pass\n",
    "import gc\n",
    "gc.collect()\n",
    "torch.cuda.empty_cache()\n",
    "import tqdm\n",
    "collected_outputs = []\n",
    "less_tokens = tokens[:10_000] # eh\n",
    "def gather_target_act_hook(mod, inputs, outputs):\n",
    "    global collected_outputs\n",
    "    assert isinstance(outputs, tuple)\n",
    "    assert len(outputs) == 1 and isinstance(outputs[0], torch.Tensor), f\"Expected a single tensor output, got {outputs}\" # fmt: skip\n",
    "    collected_outputs.append(outputs[0].detach().requires_grad_(False).cpu())\n",
    "    return outputs\n",
    "handle = model.model.layers[20].register_forward_hook(gather_target_act_hook)\n",
    "try:\n",
    "    batch_size = 100\n",
    "    for i in tqdm.trange(0, less_tokens.shape[0], batch_size):\n",
    "        j = min(i + batch_size, less_tokens.shape[0])\n",
    "        model.forward(less_tokens[i:j])\n",
    "finally:\n",
    "    handle.remove()\n",
    "collected_outputs = torch.cat(collected_outputs, dim=0)\n",
    "print(collected_outputs.shape)"
   ]
  },
  {
   "cell_type": "code",
   "execution_count": 15,
   "metadata": {},
   "outputs": [
    {
     "name": "stdout",
     "output_type": "stream",
     "text": [
      "torch.Size([1266193, 2304])\n"
     ]
    }
   ],
   "source": [
    "tokens_is_special = (less_tokens == tokenizer.bos_token_id) | (less_tokens == tokenizer.eos_token_id) | (less_tokens == tokenizer.pad_token_id)\n",
    "# print(tokens_is_special.shape)\n",
    "tokens_is_special_flat = tokens_is_special.cpu().flatten()\n",
    "# print(tokens_is_special_flat.shape)\n",
    "collected_outputs_flat = collected_outputs.cpu().reshape(-1, collected_outputs.shape[-1])\n",
    "# print(collected_outputs_flat.shape)\n",
    "activations = collected_outputs_flat[~tokens_is_special_flat, :]\n",
    "print(activations.shape)"
   ]
  },
  {
   "cell_type": "code",
   "execution_count": 16,
   "metadata": {},
   "outputs": [],
   "source": [
    "activations = activations.to(\"cuda\")\n"
   ]
  },
  {
   "cell_type": "code",
   "execution_count": 17,
   "metadata": {},
   "outputs": [
    {
     "name": "stdout",
     "output_type": "stream",
     "text": [
      "Original list length: 123\n",
      "After removing duplicates: 123\n"
     ]
    },
    {
     "name": "stderr",
     "output_type": "stream",
     "text": [
      "100%|██████████| 1267/1267 [00:09<00:00, 135.46it/s]\n"
     ]
    }
   ],
   "source": [
    "relevant_idxs_and_names = [\n",
    "    (10_004, \"spacetime_latent_idx\"),\n",
    "    (15_947, \"boolean_assignments_in_code\"),\n",
    "    (6_166, \"conditional_statements_and_boolean_expressions\"),\n",
    "    (2_290, \"boolean_declarations_and_related_expressions\"),\n",
    "    (6_223, \"boolean_expressions_and_condition_checks\"),\n",
    "    (9_096, \"syntax_related_to_boolean_operations_and_conditions\"),\n",
    "    (6_612, \"instances_of_numbers_and_counting\"),\n",
    "    (13_046, \"numbers_and_symbols_in_text\"),\n",
    "    (12_732, \"instances_of_the_word_the_and_numbers\"),\n",
    "    (5_401, \"references_to_numbers_and_quantitative_data\"),\n",
    "    (7_746, \"numbers_and_quantities_related_to_time\"),\n",
    "    (6_850, \"repetition_of_the_word_number\"),\n",
    "    (16_095, \"references_to_number_one\"),\n",
    "    (11_520, \"terms_and_definitions_related_to_numbers\"),\n",
    "    (6_010, \"numbers_and_mathematical_operations\"),\n",
    "    (4_723, \"numbers_and_specific_dates\"),\n",
    "    (2_437, \"patterns_related_to_numerical_information\"),\n",
    "    (6_275, \"numbers_and_numerical_values_in_context\"),\n",
    "    (15_031, \"numbers_and_codes_related_to_legal_references\"),\n",
    "    (10_738, \"phrases_related_to_numbers_and_mathematical_representations\"),\n",
    "    (2_269, \"structured_lists_or_numbered_steps\"),\n",
    "    (11_576, \"presence_of_numerical_values_or_references_to_numbered_steps\"),\n",
    "    (9_560, \"numbers_and_their_combinations_in_various_contexts\"),\n",
    "    (11_669, \"patterns_represented_by_sequences_of_numbers\"),\n",
    "    (12_115, \"mentions_of_in_x_followed_by_a_number\"),\n",
    "    (1_561, \"phrases_related_to_numbers_and_statistics\"),\n",
    "    (382, \"numbers_and_their_associated_quantities\"),\n",
    "    (15_763, \"sequences_of_numbers_and_their_occurrences\"),\n",
    "    (8_974, \"phrases_indicating_quantity_or_comparison_involving_numbers\"),\n",
    "    (3_219, \"numbers_and_their_associated_representations\"),\n",
    "    (2_260, \"numbers_and_numerical_data\"),\n",
    "    (9_856, \"numbers_associated_with_logical_operations\"),\n",
    "    (10_427, \"numbers_and_their_formats\"),\n",
    "    (11_301, \"integers_and_numbers_in_different_formats\"),\n",
    "    (11_626, \"numbers_related_to_measurements_or_statistics\"),\n",
    "    (12_457, \"sequences_of_numbers_and_codes_related_to_programming\"),\n",
    "    (12_841, \"sequences_of_numbers_representing_activation_values\"),\n",
    "    (6_541, \"numbers_and_numeric_expressions_in_academic_contexts\"),\n",
    "    (15_483, \"numbers_dates_or_numerical_sequences\"),\n",
    "    (8_900, \"numerical_information_related_to_phone_numbers\"),\n",
    "    (13_730, \"numbers_and_alphanumeric_codes\"),\n",
    "    (14_853, \"decimal_numbers_and_numeric_identifiers\"),\n",
    "    (972, \"references_to_numbers_in_social_or_legal_context\"),\n",
    "    (12_852, \"the_number_i_in_various_contexts\"),\n",
    "    (2_074, \"numbers_represented_in_decimal_format\"),\n",
    "    (7_466, \"presence_of_text_format_elements_like_numbers\"),\n",
    "    (16_183, \"programming_functions_related_to_parsing_numbers\"),\n",
    "    (5_022, \"code_snippets_related_to_phone_number_formatting\"),\n",
    "    (8_718, \"numbers_and_symbols_in_non_standard_formats\"),\n",
    "    (43, \"references_to_number_of_bedrooms\"),\n",
    "    (303, \"mathematical_operations_related_to_rounding_numbers\"),\n",
    "    (723, \"formatting_numbers_and_datetime_representations\"),\n",
    "    (1_589, \"numbers_and_numerical_references_in_documents\"),\n",
    "    (6_057, \"numbers_indicating_statistical_data\"),\n",
    "    (6_567, \"sequences_of_numbers_and_code_structure\"),\n",
    "    (7_062, \"integer_and_floating_point_numbers_in_programming\"),\n",
    "    (9_945, \"occurrences_of_numbers_in_text\"),\n",
    "    (10_970, \"numbers_and_their_operations_in_code\"),\n",
    "    (11_360, \"contact_information_particularly_phone_numbers\"),\n",
    "    (11_663, \"numbers_and_statistical_data_from_research\"),\n",
    "    (11_708, \"references_to_phone_numbers\"),\n",
    "    (11_771, \"references_to_section_numbers_in_documents\"),\n",
    "    (12_567, \"specific_numeric_values_such_as_phone_numbers\"),\n",
    "    (14_355, \"java_programming_constructs_for_numeric_data_types\"),\n",
    "    (10_779, \"integers_related_to_success_or_completion_statuses\"),\n",
    "    (10_917, \"declarations_of_integer_variables_in_programming\"),\n",
    "    (8_916, \"terms_related_to_sizes_and_lengths\"),\n",
    "    (11_952, \"phrases_that_emphasize_perspectives\"),\n",
    "    (2_579, \"relational_conditions_involving_size_or_counts\"),\n",
    "    (10_999, \"size_specifications_in_programming_contexts\"),\n",
    "    (6_276, \"programming_syntax_dealing_with_sizes_and_dimensions\"),\n",
    "    (13_826, \"screen_size_and_viewport_configurations\"),\n",
    "    (1_275, \"terms_related_to_size_ranking_and_excellence\"),\n",
    "    (16_216, \"references_to_size_and_dimensions\"),\n",
    "    (5_885, \"phrases_emphasizing_outcomes_or_conclusions\"),\n",
    "    (14_202, \"comparative_phrases_relating_to_size_or_status\"),\n",
    "    (5_862, \"comparison_and_evaluation_about_size\"),\n",
    "    (7_508, \"quantifiers_and_discussions_of_scale\"),\n",
    "    (7_097, \"sentences_emphasizing_personal_reflections\"),\n",
    "    (387, \"phrases_emphasizing_singular_focus\"),\n",
    "    (10_905, \"repetitive_phrases_emphasizing_certainty\"),\n",
    "    (5_981, \"phrases_emphasizing_significance_of_the\"),\n",
    "    (11_504, \"comparisons_of_size_and_value\"),\n",
    "    (16_079, \"adverbs_emphasizing_totality\"),\n",
    "    (1_058, \"phrases_emphasizing_examples\"),\n",
    "    (9_348, \"intensifiers_emphasizing_degree_or_quality\"),\n",
    "    (5_665, \"phrases_emphasizing_totality\"),\n",
    "    (10_239, \"references_to_size_or_magnitude\"),\n",
    "    (12_848, \"measurements_related_to_distances_and_sizes\"),\n",
    "    (13_101, \"intensifiers_emphasizing_attribute_degree\"),\n",
    "    (12_795, \"bold_or_strongly_emphasized_text\"),\n",
    "    (640, \"method_calls_related_to_size\"),\n",
    "    (1_323, \"phrases_emphasizing_leadership\"),\n",
    "    (1_439, \"variables_and_their_sizes_in_code\"),\n",
    "    (1_603, \"intensifiers_emphasizing_quantity\"),\n",
    "    (4_385, \"phrases_emphasizing_online_platforms\"),\n",
    "    (4_635, \"phrases_emphasizing_value_creation\"),\n",
    "    (4_773, \"phrases_emphasizing_personal_style\"),\n",
    "    (6_769, \"phrases_emphasizing_beliefs_about_reality\"),\n",
    "    (6_829, \"phrases_emphasizing_inclusivity\"),\n",
    "    (7_654, \"measurements_related_to_distances_and_sizes\"),\n",
    "    (7_694, \"phrases_emphasizing_reflection_time\"),\n",
    "    (9_626, \"phrases_emphasizing_effort_and_improvement\"),\n",
    "    (9_903, \"quotations_and_emphasized_statements\"),\n",
    "    (10_240, \"phrases_emphasizing_caution_and_detail\"),\n",
    "    (10_323, \"memory_allocation_and_size_calculations\"),\n",
    "    (12_390, \"repeated_or_emphasized_phrases\"),\n",
    "    (12_609, \"conjunctive_phrases_emphasizing_collaboration\"),\n",
    "    (13_202, \"references_to_size_in_various_contexts\"),\n",
    "    (13_555, \"measurements_related_to_size_and_pressure\"),\n",
    "    (14_289, \"numerical_data_related_to_size_or_quantity\"),\n",
    "    (1_757, \"mathematical_concepts_in_geometry_and_topology\"),\n",
    "    (1_939, \"mathematical_notation_for_algebra_and_geometry\"),\n",
    "    (443, \"mathematical_concepts_in_geometry_and_polygons\"),\n",
    "    (6_893, \"concepts_related_to_geometry_and_dimensional_spaces\"),\n",
    "    (8_903, \"technical_terms_in_advanced_mathematics_and_geometry\"),\n",
    "    (10_331, \"phrases_emphasizing_personal_aspirations\"),\n",
    "    (7_458, \"sample_sizes_in_research_contexts\"),\n",
    "    (2_083, \"comparative_adjectives_related_to_size\"),\n",
    "    (1_019, \"attributes_related_to_font_size_in_code\"),\n",
    "    (12_609, \"conjunctive_phrases_emphasizing_collaboration\"),\n",
    "    (13_202, \"references_to_size_in_various_contexts\"),\n",
    "    (13_555, \"measurements_related_to_size_and_pressure\"),\n",
    "    (14_289, \"numerical_data_related_to_size_or_quantity\"),\n",
    "    (8_916, \"terms_related_to_sizes_and_lengths\"),\n",
    "    (2_579, \"relational_conditions_involving_length_and_size\"),\n",
    "    (1_439, \"variables_and_their_sizes_or_lengths_in_code\"),\n",
    "    (7_294, \"references_to_length_in_scientific_contexts\"),\n",
    "    (8_538, \"occurrences_of_len_and_length_related_terms\"),\n",
    "    (15_816, \"phrases_related_to_lengths_and_measurements\"),\n",
    "]\n",
    "# Remove duplicates from the list above\n",
    "unique_dict = {}\n",
    "for idx, name in relevant_idxs_and_names:\n",
    "    unique_dict[idx] = unique_dict.get(idx, name)\n",
    "relevant_idxs_and_names = [(idx, name) for idx, name in unique_dict.items()]\n",
    "\n",
    "\n",
    "print(f\"Original list length: {len(relevant_idxs_and_names)}\")\n",
    "print(f\"After removing duplicates: {len(relevant_idxs_and_names)}\")\n",
    "\n",
    "assert len(set([idx for idx, _ in relevant_idxs_and_names])) == len(relevant_idxs_and_names)\n",
    "idx2latents = {}\n",
    "batch_size = 1000\n",
    "assert activations.ndim == 2, f\"activations.shape = {activations.shape}\"\n",
    "for i in tqdm.trange(0, activations.shape[0], batch_size):\n",
    "    j = min(i + batch_size, activations.shape[0])\n",
    "    latents = sae.encode(activations[i:j])\n",
    "    for idx, idx_name in relevant_idxs_and_names:\n",
    "        if idx not in idx2latents:\n",
    "            idx2latents[idx] = []\n",
    "        idx2latents[idx].append(latents[:, idx].detach().requires_grad_(False).clone().cpu())\n",
    "for idx in idx2latents:\n",
    "    idx2latents[idx] = torch.cat(idx2latents[idx], dim=0)\n",
    "idx2sums = {idx: latents.sum(dim=0) for idx, latents in idx2latents.items()}\n",
    "idx2counts = {idx: (latents != 0).sum(dim=0) for idx, latents in idx2latents.items()}\n",
    "idx2variances = {idx: latents.pow(2).sum(dim=0) / idx2counts[idx] for idx, latents in idx2latents.items()}\n",
    "idx2stdevs = {idx: torch.sqrt(idx2variances[idx]) for idx in idx2variances}\n"
   ]
  },
  {
   "cell_type": "code",
   "execution_count": 18,
   "metadata": {},
   "outputs": [
    {
     "name": "stdout",
     "output_type": "stream",
     "text": [
      "{\n",
      "    \"7466\": \"n_samples=1.266193e+06 stdev=8.657542 presence_of_text_format_elements_like_numbers\",\n",
      "    \"6612\": \"n_samples=1.266193e+06 stdev=8.969367 instances_of_numbers_and_counting\",\n",
      "    \"6223\": \"n_samples=1.266193e+06 stdev=8.980078 boolean_expressions_and_condition_checks\",\n",
      "    \"16183\": \"n_samples=1.266193e+06 stdev=9.012576 programming_functions_related_to_parsing_numbers\",\n",
      "    \"6166\": \"n_samples=1.266193e+06 stdev=9.299420 conditional_statements_and_boolean_expressions\",\n",
      "    \"2579\": \"n_samples=1.266193e+06 stdev=9.333973 relational_conditions_involving_size_or_counts\",\n",
      "    \"1439\": \"n_samples=1.266193e+06 stdev=9.349107 variables_and_their_sizes_in_code\",\n",
      "    \"12852\": \"n_samples=1.266193e+06 stdev=9.412748 the_number_i_in_various_contexts\",\n",
      "    \"7062\": \"n_samples=1.266193e+06 stdev=9.727068 integer_and_floating_point_numbers_in_programming\",\n",
      "    \"12841\": \"n_samples=1.266193e+06 stdev=9.787866 sequences_of_numbers_representing_activation_values\",\n",
      "    \"2074\": \"n_samples=1.266193e+06 stdev=10.007533 numbers_represented_in_decimal_format\",\n",
      "    \"11520\": \"n_samples=1.266193e+06 stdev=10.176839 terms_and_definitions_related_to_numbers\",\n",
      "    \"1939\": \"n_samples=1.266193e+06 stdev=10.196418 mathematical_notation_for_algebra_and_geometry\",\n",
      "    \"10779\": \"n_samples=1.266193e+06 stdev=10.229350 integers_related_to_success_or_completion_statuses\",\n",
      "    \"640\": \"n_samples=1.266193e+06 stdev=10.342297 method_calls_related_to_size\",\n",
      "    \"15947\": \"n_samples=1.266193e+06 stdev=10.417248 boolean_assignments_in_code\",\n",
      "    \"13826\": \"n_samples=1.266193e+06 stdev=10.589520 screen_size_and_viewport_configurations\",\n",
      "    \"723\": \"n_samples=1.266193e+06 stdev=10.612598 formatting_numbers_and_datetime_representations\",\n",
      "    \"6276\": \"n_samples=1.266193e+06 stdev=10.822058 programming_syntax_dealing_with_sizes_and_dimensions\",\n",
      "    \"10323\": \"n_samples=1.266193e+06 stdev=11.314487 memory_allocation_and_size_calculations\",\n",
      "    \"1019\": \"n_samples=1.266193e+06 stdev=11.392707 attributes_related_to_font_size_in_code\",\n",
      "    \"10999\": \"n_samples=1.266193e+06 stdev=11.520736 size_specifications_in_programming_contexts\",\n",
      "    \"6893\": \"n_samples=1.266193e+06 stdev=12.034005 concepts_related_to_geometry_and_dimensional_spaces\",\n",
      "    \"1757\": \"n_samples=1.266193e+06 stdev=12.436513 mathematical_concepts_in_geometry_and_topology\",\n",
      "    \"443\": \"n_samples=1.266193e+06 stdev=12.527038 mathematical_concepts_in_geometry_and_polygons\",\n",
      "    \"10970\": \"n_samples=1.266193e+06 stdev=12.550496 numbers_and_their_operations_in_code\",\n",
      "    \"14355\": \"n_samples=1.266193e+06 stdev=12.844071 java_programming_constructs_for_numeric_data_types\",\n",
      "    \"11669\": \"n_samples=1.266193e+06 stdev=13.036596 patterns_represented_by_sequences_of_numbers\",\n",
      "    \"2290\": \"n_samples=1.266193e+06 stdev=13.285693 boolean_declarations_and_related_expressions\",\n",
      "    \"13046\": \"n_samples=1.266193e+06 stdev=13.361609 numbers_and_symbols_in_text\",\n",
      "    \"4635\": \"n_samples=1.266193e+06 stdev=13.398282 phrases_emphasizing_value_creation\",\n",
      "    \"9903\": \"n_samples=1.266193e+06 stdev=13.502429 quotations_and_emphasized_statements\",\n",
      "    \"10331\": \"n_samples=1.266193e+06 stdev=13.764272 phrases_emphasizing_personal_aspirations\",\n",
      "    \"11360\": \"n_samples=1.266193e+06 stdev=13.769450 contact_information_particularly_phone_numbers\",\n",
      "    \"303\": \"n_samples=1.266193e+06 stdev=13.937722 mathematical_operations_related_to_rounding_numbers\",\n",
      "    \"8916\": \"n_samples=1.266193e+06 stdev=13.963936 terms_related_to_sizes_and_lengths\",\n",
      "    \"9096\": \"n_samples=1.266193e+06 stdev=14.008618 syntax_related_to_boolean_operations_and_conditions\",\n",
      "    \"11708\": \"n_samples=1.266193e+06 stdev=14.027774 references_to_phone_numbers\",\n",
      "    \"5862\": \"n_samples=1.266193e+06 stdev=14.133799 comparison_and_evaluation_about_size\",\n",
      "    \"5885\": \"n_samples=1.266193e+06 stdev=14.154358 phrases_emphasizing_outcomes_or_conclusions\",\n",
      "    \"16216\": \"n_samples=1.266193e+06 stdev=14.267456 references_to_size_and_dimensions\",\n",
      "    \"15816\": \"n_samples=1.266193e+06 stdev=14.552557 phrases_related_to_lengths_and_measurements\",\n",
      "    \"5022\": \"n_samples=1.266193e+06 stdev=14.849542 code_snippets_related_to_phone_number_formatting\",\n",
      "    \"12457\": \"n_samples=1.266193e+06 stdev=14.935627 sequences_of_numbers_and_codes_related_to_programming\",\n",
      "    \"12795\": \"n_samples=1.266193e+06 stdev=15.035568 bold_or_strongly_emphasized_text\",\n",
      "    \"12609\": \"n_samples=1.266193e+06 stdev=15.062223 conjunctive_phrases_emphasizing_collaboration\",\n",
      "    \"4773\": \"n_samples=1.266193e+06 stdev=15.066829 phrases_emphasizing_personal_style\",\n",
      "    \"9626\": \"n_samples=1.266193e+06 stdev=15.144743 phrases_emphasizing_effort_and_improvement\",\n",
      "    \"382\": \"n_samples=1.266193e+06 stdev=15.226664 numbers_and_their_associated_quantities\",\n",
      "    \"8903\": \"n_samples=1.266193e+06 stdev=15.480628 technical_terms_in_advanced_mathematics_and_geometry\",\n",
      "    \"1323\": \"n_samples=1.266193e+06 stdev=15.547211 phrases_emphasizing_leadership\",\n",
      "    \"12848\": \"n_samples=1.266193e+06 stdev=15.635595 measurements_related_to_distances_and_sizes\",\n",
      "    \"7694\": \"n_samples=1.266193e+06 stdev=16.073812 phrases_emphasizing_reflection_time\",\n",
      "    \"6769\": \"n_samples=1.266193e+06 stdev=16.112297 phrases_emphasizing_beliefs_about_reality\",\n",
      "    \"9856\": \"n_samples=1.266193e+06 stdev=16.124327 numbers_associated_with_logical_operations\",\n",
      "    \"11504\": \"n_samples=1.266193e+06 stdev=16.239464 comparisons_of_size_and_value\",\n",
      "    \"1589\": \"n_samples=1.266193e+06 stdev=16.689867 numbers_and_numerical_references_in_documents\",\n",
      "    \"11952\": \"n_samples=1.266193e+06 stdev=16.708174 phrases_that_emphasize_perspectives\",\n",
      "    \"3219\": \"n_samples=1.266193e+06 stdev=16.733225 numbers_and_their_associated_representations\",\n",
      "    \"6567\": \"n_samples=1.266193e+06 stdev=16.739027 sequences_of_numbers_and_code_structure\",\n",
      "    \"15763\": \"n_samples=1.266193e+06 stdev=16.970652 sequences_of_numbers_and_their_occurrences\",\n",
      "    \"13101\": \"n_samples=1.266193e+06 stdev=17.026941 intensifiers_emphasizing_attribute_degree\",\n",
      "    \"1603\": \"n_samples=1.266193e+06 stdev=17.130415 intensifiers_emphasizing_quantity\",\n",
      "    \"10004\": \"n_samples=1.266193e+06 stdev=17.189102 spacetime_latent_idx\",\n",
      "    \"972\": \"n_samples=1.266193e+06 stdev=17.255974 references_to_numbers_in_social_or_legal_context\",\n",
      "    \"11301\": \"n_samples=1.266193e+06 stdev=17.339935 integers_and_numbers_in_different_formats\",\n",
      "    \"10427\": \"n_samples=1.266193e+06 stdev=18.048609 numbers_and_their_formats\",\n",
      "    \"11771\": \"n_samples=1.266193e+06 stdev=18.604647 references_to_section_numbers_in_documents\",\n",
      "    \"43\": \"n_samples=1.266193e+06 stdev=18.825794 references_to_number_of_bedrooms\",\n",
      "    \"7746\": \"n_samples=1.266193e+06 stdev=19.144382 numbers_and_quantities_related_to_time\",\n",
      "    \"7097\": \"n_samples=1.266193e+06 stdev=19.210873 sentences_emphasizing_personal_reflections\",\n",
      "    \"12390\": \"n_samples=1.266193e+06 stdev=19.455870 repeated_or_emphasized_phrases\",\n",
      "    \"15031\": \"n_samples=1.266193e+06 stdev=19.530447 numbers_and_codes_related_to_legal_references\",\n",
      "    \"14289\": \"n_samples=1.266193e+06 stdev=19.956757 numerical_data_related_to_size_or_quantity\",\n",
      "    \"11576\": \"n_samples=1.266193e+06 stdev=19.958591 presence_of_numerical_values_or_references_to_numbered_steps\",\n",
      "    \"12732\": \"n_samples=1.266193e+06 stdev=20.555742 instances_of_the_word_the_and_numbers\",\n",
      "    \"2269\": \"n_samples=1.266193e+06 stdev=20.579628 structured_lists_or_numbered_steps\",\n",
      "    \"6010\": \"n_samples=1.266193e+06 stdev=20.748882 numbers_and_mathematical_operations\",\n",
      "    \"11626\": \"n_samples=1.266193e+06 stdev=20.968597 numbers_related_to_measurements_or_statistics\",\n",
      "    \"9560\": \"n_samples=1.266193e+06 stdev=21.166098 numbers_and_their_combinations_in_various_contexts\",\n",
      "    \"1561\": \"n_samples=1.266193e+06 stdev=21.390396 phrases_related_to_numbers_and_statistics\",\n",
      "    \"7294\": \"n_samples=1.266193e+06 stdev=21.547548 references_to_length_in_scientific_contexts\",\n",
      "    \"6057\": \"n_samples=1.266193e+06 stdev=21.913204 numbers_indicating_statistical_data\",\n",
      "    \"10917\": \"n_samples=1.266193e+06 stdev=22.137320 declarations_of_integer_variables_in_programming\",\n",
      "    \"14202\": \"n_samples=1.266193e+06 stdev=22.226812 comparative_phrases_relating_to_size_or_status\",\n",
      "    \"10240\": \"n_samples=1.266193e+06 stdev=22.322641 phrases_emphasizing_caution_and_detail\",\n",
      "    \"2260\": \"n_samples=1.266193e+06 stdev=22.486700 numbers_and_numerical_data\",\n",
      "    \"9348\": \"n_samples=1.266193e+06 stdev=22.726330 intensifiers_emphasizing_degree_or_quality\",\n",
      "    \"4385\": \"n_samples=1.266193e+06 stdev=22.832386 phrases_emphasizing_online_platforms\",\n",
      "    \"7508\": \"n_samples=1.266193e+06 stdev=23.248783 quantifiers_and_discussions_of_scale\",\n",
      "    \"8900\": \"n_samples=1.266193e+06 stdev=23.251078 numerical_information_related_to_phone_numbers\",\n",
      "    \"1275\": \"n_samples=1.266193e+06 stdev=23.846947 terms_related_to_size_ranking_and_excellence\",\n",
      "    \"10905\": \"n_samples=1.266193e+06 stdev=23.885466 repetitive_phrases_emphasizing_certainty\",\n",
      "    \"13555\": \"n_samples=1.266193e+06 stdev=24.145918 measurements_related_to_size_and_pressure\",\n",
      "    \"12567\": \"n_samples=1.266193e+06 stdev=24.701805 specific_numeric_values_such_as_phone_numbers\",\n",
      "    \"5401\": \"n_samples=1.266193e+06 stdev=25.866943 references_to_numbers_and_quantitative_data\",\n",
      "    \"11663\": \"n_samples=1.266193e+06 stdev=26.148209 numbers_and_statistical_data_from_research\",\n",
      "    \"8538\": \"n_samples=1.266193e+06 stdev=26.178833 occurrences_of_len_and_length_related_terms\",\n",
      "    \"13730\": \"n_samples=1.266193e+06 stdev=26.567474 numbers_and_alphanumeric_codes\",\n",
      "    \"7654\": \"n_samples=1.266193e+06 stdev=27.050789 measurements_related_to_distances_and_sizes\",\n",
      "    \"9945\": \"n_samples=1.266193e+06 stdev=27.249088 occurrences_of_numbers_in_text\",\n",
      "    \"8718\": \"n_samples=1.266193e+06 stdev=27.875053 numbers_and_symbols_in_non_standard_formats\",\n",
      "    \"2437\": \"n_samples=1.266193e+06 stdev=28.530148 patterns_related_to_numerical_information\",\n",
      "    \"16079\": \"n_samples=1.266193e+06 stdev=28.701345 adverbs_emphasizing_totality\",\n",
      "    \"6541\": \"n_samples=1.266193e+06 stdev=29.925575 numbers_and_numeric_expressions_in_academic_contexts\",\n",
      "    \"6275\": \"n_samples=1.266193e+06 stdev=32.002655 numbers_and_numerical_values_in_context\",\n",
      "    \"2083\": \"n_samples=1.266193e+06 stdev=32.091957 comparative_adjectives_related_to_size\",\n",
      "    \"387\": \"n_samples=1.266193e+06 stdev=32.808815 phrases_emphasizing_singular_focus\",\n",
      "    \"6829\": \"n_samples=1.266193e+06 stdev=32.921444 phrases_emphasizing_inclusivity\",\n",
      "    \"6850\": \"n_samples=1.266193e+06 stdev=33.556259 repetition_of_the_word_number\",\n",
      "    \"14853\": \"n_samples=1.266193e+06 stdev=33.688324 decimal_numbers_and_numeric_identifiers\",\n",
      "    \"5981\": \"n_samples=1.266193e+06 stdev=35.504547 phrases_emphasizing_significance_of_the\",\n",
      "    \"10239\": \"n_samples=1.266193e+06 stdev=36.046452 references_to_size_or_magnitude\",\n",
      "    \"4723\": \"n_samples=1.266193e+06 stdev=36.367275 numbers_and_specific_dates\",\n",
      "    \"8974\": \"n_samples=1.266193e+06 stdev=36.850090 phrases_indicating_quantity_or_comparison_involving_numbers\",\n",
      "    \"13202\": \"n_samples=1.266193e+06 stdev=37.484329 references_to_size_in_various_contexts\",\n",
      "    \"16095\": \"n_samples=1.266193e+06 stdev=40.055798 references_to_number_one\",\n",
      "    \"7458\": \"n_samples=1.266193e+06 stdev=40.893177 sample_sizes_in_research_contexts\",\n",
      "    \"10738\": \"n_samples=1.266193e+06 stdev=43.566551 phrases_related_to_numbers_and_mathematical_representations\",\n",
      "    \"1058\": \"n_samples=1.266193e+06 stdev=52.169495 phrases_emphasizing_examples\",\n",
      "    \"15483\": \"n_samples=1.266193e+06 stdev=54.514828 numbers_dates_or_numerical_sequences\",\n",
      "    \"12115\": \"n_samples=1.266193e+06 stdev=55.363430 mentions_of_in_x_followed_by_a_number\",\n",
      "    \"5665\": \"n_samples=1.266193e+06 stdev=84.814041 phrases_emphasizing_totality\"\n",
      "}\n"
     ]
    }
   ],
   "source": [
    "# interp_latent_idx = 10_004\n",
    "# spacetime_latents = latents[interp_latent_idx]\n",
    "# spacetime_latents.shape\n",
    "# histo_data = spacetime_latents.cpu().numpy()\n",
    "# histo_data2 = histo_data[histo_data != 0]\n",
    "# print(\"histo_data.shape\", histo_data.shape)\n",
    "# print(\"histo_data2.shape\", histo_data2.shape)\n",
    "import json\n",
    "print(json.dumps({x: f\"n_samples={y.shape[0]:2e} stdev={idx2stdevs[x].item():2f} {unique_dict[x]}\" for x, y in sorted(idx2latents.items(), key=lambda x: idx2stdevs[x[0]])}, indent=4))"
   ]
  },
  {
   "cell_type": "code",
   "execution_count": 19,
   "metadata": {},
   "outputs": [
    {
     "name": "stdout",
     "output_type": "stream",
     "text": [
      "{\n",
      "    \"7466\": \"n_samples=1.266193e+06 mean=8.583406 presence_of_text_format_elements_like_numbers\",\n",
      "    \"16183\": \"n_samples=1.266193e+06 mean=8.823438 programming_functions_related_to_parsing_numbers\",\n",
      "    \"6612\": \"n_samples=1.266193e+06 mean=8.847377 instances_of_numbers_and_counting\",\n",
      "    \"2579\": \"n_samples=1.266193e+06 mean=8.891475 relational_conditions_involving_size_or_counts\",\n",
      "    \"6223\": \"n_samples=1.266193e+06 mean=8.914431 boolean_expressions_and_condition_checks\",\n",
      "    \"6166\": \"n_samples=1.266193e+06 mean=8.991830 conditional_statements_and_boolean_expressions\",\n",
      "    \"12852\": \"n_samples=1.266193e+06 mean=9.050463 the_number_i_in_various_contexts\",\n",
      "    \"1439\": \"n_samples=1.266193e+06 mean=9.144050 variables_and_their_sizes_in_code\",\n",
      "    \"7062\": \"n_samples=1.266193e+06 mean=9.415812 integer_and_floating_point_numbers_in_programming\",\n",
      "    \"11520\": \"n_samples=1.266193e+06 mean=9.554384 terms_and_definitions_related_to_numbers\",\n",
      "    \"12841\": \"n_samples=1.266193e+06 mean=9.604994 sequences_of_numbers_representing_activation_values\",\n",
      "    \"2074\": \"n_samples=1.266193e+06 mean=9.674656 numbers_represented_in_decimal_format\",\n",
      "    \"640\": \"n_samples=1.266193e+06 mean=9.705653 method_calls_related_to_size\",\n",
      "    \"15947\": \"n_samples=1.266193e+06 mean=9.747762 boolean_assignments_in_code\",\n",
      "    \"10779\": \"n_samples=1.266193e+06 mean=9.935545 integers_related_to_success_or_completion_statuses\",\n",
      "    \"13826\": \"n_samples=1.266193e+06 mean=9.951689 screen_size_and_viewport_configurations\",\n",
      "    \"1939\": \"n_samples=1.266193e+06 mean=10.072890 mathematical_notation_for_algebra_and_geometry\",\n",
      "    \"723\": \"n_samples=1.266193e+06 mean=10.091011 formatting_numbers_and_datetime_representations\",\n",
      "    \"1019\": \"n_samples=1.266193e+06 mean=10.228195 attributes_related_to_font_size_in_code\",\n",
      "    \"6276\": \"n_samples=1.266193e+06 mean=10.476165 programming_syntax_dealing_with_sizes_and_dimensions\",\n",
      "    \"10323\": \"n_samples=1.266193e+06 mean=10.715630 memory_allocation_and_size_calculations\",\n",
      "    \"6893\": \"n_samples=1.266193e+06 mean=10.845860 concepts_related_to_geometry_and_dimensional_spaces\",\n",
      "    \"10999\": \"n_samples=1.266193e+06 mean=10.901731 size_specifications_in_programming_contexts\",\n",
      "    \"10970\": \"n_samples=1.266193e+06 mean=11.420843 numbers_and_their_operations_in_code\",\n",
      "    \"1757\": \"n_samples=1.266193e+06 mean=11.511115 mathematical_concepts_in_geometry_and_topology\",\n",
      "    \"443\": \"n_samples=1.266193e+06 mean=11.539928 mathematical_concepts_in_geometry_and_polygons\",\n",
      "    \"4635\": \"n_samples=1.266193e+06 mean=11.688656 phrases_emphasizing_value_creation\",\n",
      "    \"9096\": \"n_samples=1.266193e+06 mean=11.947213 syntax_related_to_boolean_operations_and_conditions\",\n",
      "    \"14355\": \"n_samples=1.266193e+06 mean=12.007879 java_programming_constructs_for_numeric_data_types\",\n",
      "    \"303\": \"n_samples=1.266193e+06 mean=12.036499 mathematical_operations_related_to_rounding_numbers\",\n",
      "    \"11360\": \"n_samples=1.266193e+06 mean=12.066461 contact_information_particularly_phone_numbers\",\n",
      "    \"11669\": \"n_samples=1.266193e+06 mean=12.121360 patterns_represented_by_sequences_of_numbers\",\n",
      "    \"5885\": \"n_samples=1.266193e+06 mean=12.121947 phrases_emphasizing_outcomes_or_conclusions\",\n",
      "    \"11708\": \"n_samples=1.266193e+06 mean=12.241397 references_to_phone_numbers\",\n",
      "    \"13046\": \"n_samples=1.266193e+06 mean=12.249900 numbers_and_symbols_in_text\",\n",
      "    \"5862\": \"n_samples=1.266193e+06 mean=12.277065 comparison_and_evaluation_about_size\",\n",
      "    \"8916\": \"n_samples=1.266193e+06 mean=12.363823 terms_related_to_sizes_and_lengths\",\n",
      "    \"10331\": \"n_samples=1.266193e+06 mean=12.412827 phrases_emphasizing_personal_aspirations\",\n",
      "    \"9903\": \"n_samples=1.266193e+06 mean=12.571737 quotations_and_emphasized_statements\",\n",
      "    \"16216\": \"n_samples=1.266193e+06 mean=12.616509 references_to_size_and_dimensions\",\n",
      "    \"15816\": \"n_samples=1.266193e+06 mean=12.687648 phrases_related_to_lengths_and_measurements\",\n",
      "    \"2290\": \"n_samples=1.266193e+06 mean=12.752170 boolean_declarations_and_related_expressions\",\n",
      "    \"9626\": \"n_samples=1.266193e+06 mean=12.828979 phrases_emphasizing_effort_and_improvement\",\n",
      "    \"7694\": \"n_samples=1.266193e+06 mean=12.921601 phrases_emphasizing_reflection_time\",\n",
      "    \"5022\": \"n_samples=1.266193e+06 mean=12.979696 code_snippets_related_to_phone_number_formatting\",\n",
      "    \"8903\": \"n_samples=1.266193e+06 mean=13.045857 technical_terms_in_advanced_mathematics_and_geometry\",\n",
      "    \"1323\": \"n_samples=1.266193e+06 mean=13.099216 phrases_emphasizing_leadership\",\n",
      "    \"12457\": \"n_samples=1.266193e+06 mean=13.102170 sequences_of_numbers_and_codes_related_to_programming\",\n",
      "    \"382\": \"n_samples=1.266193e+06 mean=13.104871 numbers_and_their_associated_quantities\",\n",
      "    \"4773\": \"n_samples=1.266193e+06 mean=13.144756 phrases_emphasizing_personal_style\",\n",
      "    \"12609\": \"n_samples=1.266193e+06 mean=13.201158 conjunctive_phrases_emphasizing_collaboration\",\n",
      "    \"6057\": \"n_samples=1.266193e+06 mean=13.387970 numbers_indicating_statistical_data\",\n",
      "    \"11952\": \"n_samples=1.266193e+06 mean=13.429793 phrases_that_emphasize_perspectives\",\n",
      "    \"3219\": \"n_samples=1.266193e+06 mean=13.517040 numbers_and_their_associated_representations\",\n",
      "    \"12390\": \"n_samples=1.266193e+06 mean=13.766978 repeated_or_emphasized_phrases\",\n",
      "    \"6567\": \"n_samples=1.266193e+06 mean=13.788097 sequences_of_numbers_and_code_structure\",\n",
      "    \"11504\": \"n_samples=1.266193e+06 mean=13.927095 comparisons_of_size_and_value\",\n",
      "    \"12848\": \"n_samples=1.266193e+06 mean=13.944202 measurements_related_to_distances_and_sizes\",\n",
      "    \"12795\": \"n_samples=1.266193e+06 mean=14.029248 bold_or_strongly_emphasized_text\",\n",
      "    \"9856\": \"n_samples=1.266193e+06 mean=14.183721 numbers_associated_with_logical_operations\",\n",
      "    \"43\": \"n_samples=1.266193e+06 mean=14.209326 references_to_number_of_bedrooms\",\n",
      "    \"10004\": \"n_samples=1.266193e+06 mean=14.219443 spacetime_latent_idx\",\n",
      "    \"11301\": \"n_samples=1.266193e+06 mean=14.233811 integers_and_numbers_in_different_formats\",\n",
      "    \"6769\": \"n_samples=1.266193e+06 mean=14.265357 phrases_emphasizing_beliefs_about_reality\",\n",
      "    \"15763\": \"n_samples=1.266193e+06 mean=14.614703 sequences_of_numbers_and_their_occurrences\",\n",
      "    \"11771\": \"n_samples=1.266193e+06 mean=14.622785 references_to_section_numbers_in_documents\",\n",
      "    \"13101\": \"n_samples=1.266193e+06 mean=14.645029 intensifiers_emphasizing_attribute_degree\",\n",
      "    \"10427\": \"n_samples=1.266193e+06 mean=14.719806 numbers_and_their_formats\",\n",
      "    \"1603\": \"n_samples=1.266193e+06 mean=14.797282 intensifiers_emphasizing_quantity\",\n",
      "    \"7746\": \"n_samples=1.266193e+06 mean=14.800687 numbers_and_quantities_related_to_time\",\n",
      "    \"1589\": \"n_samples=1.266193e+06 mean=14.823786 numbers_and_numerical_references_in_documents\",\n",
      "    \"14202\": \"n_samples=1.266193e+06 mean=14.862113 comparative_phrases_relating_to_size_or_status\",\n",
      "    \"9560\": \"n_samples=1.266193e+06 mean=14.865109 numbers_and_their_combinations_in_various_contexts\",\n",
      "    \"972\": \"n_samples=1.266193e+06 mean=15.099052 references_to_numbers_in_social_or_legal_context\",\n",
      "    \"2269\": \"n_samples=1.266193e+06 mean=15.179377 structured_lists_or_numbered_steps\",\n",
      "    \"10240\": \"n_samples=1.266193e+06 mean=15.410959 phrases_emphasizing_caution_and_detail\",\n",
      "    \"11576\": \"n_samples=1.266193e+06 mean=15.417056 presence_of_numerical_values_or_references_to_numbered_steps\",\n",
      "    \"14289\": \"n_samples=1.266193e+06 mean=15.670499 numerical_data_related_to_size_or_quantity\",\n",
      "    \"7097\": \"n_samples=1.266193e+06 mean=15.710296 sentences_emphasizing_personal_reflections\",\n",
      "    \"11663\": \"n_samples=1.266193e+06 mean=16.368896 numbers_and_statistical_data_from_research\",\n",
      "    \"8900\": \"n_samples=1.266193e+06 mean=16.473621 numerical_information_related_to_phone_numbers\",\n",
      "    \"15031\": \"n_samples=1.266193e+06 mean=16.596609 numbers_and_codes_related_to_legal_references\",\n",
      "    \"11626\": \"n_samples=1.266193e+06 mean=16.816893 numbers_related_to_measurements_or_statistics\",\n",
      "    \"7294\": \"n_samples=1.266193e+06 mean=16.835863 references_to_length_in_scientific_contexts\",\n",
      "    \"6010\": \"n_samples=1.266193e+06 mean=17.085173 numbers_and_mathematical_operations\",\n",
      "    \"12732\": \"n_samples=1.266193e+06 mean=17.101191 instances_of_the_word_the_and_numbers\",\n",
      "    \"12567\": \"n_samples=1.266193e+06 mean=17.180737 specific_numeric_values_such_as_phone_numbers\",\n",
      "    \"7508\": \"n_samples=1.266193e+06 mean=17.770359 quantifiers_and_discussions_of_scale\",\n",
      "    \"4385\": \"n_samples=1.266193e+06 mean=17.799788 phrases_emphasizing_online_platforms\",\n",
      "    \"2260\": \"n_samples=1.266193e+06 mean=18.463148 numbers_and_numerical_data\",\n",
      "    \"1561\": \"n_samples=1.266193e+06 mean=18.671419 phrases_related_to_numbers_and_statistics\",\n",
      "    \"8538\": \"n_samples=1.266193e+06 mean=18.889986 occurrences_of_len_and_length_related_terms\",\n",
      "    \"13730\": \"n_samples=1.266193e+06 mean=18.948170 numbers_and_alphanumeric_codes\",\n",
      "    \"10905\": \"n_samples=1.266193e+06 mean=19.229197 repetitive_phrases_emphasizing_certainty\",\n",
      "    \"9348\": \"n_samples=1.266193e+06 mean=19.269138 intensifiers_emphasizing_degree_or_quality\",\n",
      "    \"10917\": \"n_samples=1.266193e+06 mean=19.377554 declarations_of_integer_variables_in_programming\",\n",
      "    \"1275\": \"n_samples=1.266193e+06 mean=19.446375 terms_related_to_size_ranking_and_excellence\",\n",
      "    \"13555\": \"n_samples=1.266193e+06 mean=19.988523 measurements_related_to_size_and_pressure\",\n",
      "    \"16079\": \"n_samples=1.266193e+06 mean=20.100830 adverbs_emphasizing_totality\",\n",
      "    \"7654\": \"n_samples=1.266193e+06 mean=21.192698 measurements_related_to_distances_and_sizes\",\n",
      "    \"5401\": \"n_samples=1.266193e+06 mean=21.855385 references_to_numbers_and_quantitative_data\",\n",
      "    \"6541\": \"n_samples=1.266193e+06 mean=22.744568 numbers_and_numeric_expressions_in_academic_contexts\",\n",
      "    \"9945\": \"n_samples=1.266193e+06 mean=22.967077 occurrences_of_numbers_in_text\",\n",
      "    \"8718\": \"n_samples=1.266193e+06 mean=23.218781 numbers_and_symbols_in_non_standard_formats\",\n",
      "    \"387\": \"n_samples=1.266193e+06 mean=23.230841 phrases_emphasizing_singular_focus\",\n",
      "    \"6829\": \"n_samples=1.266193e+06 mean=23.719503 phrases_emphasizing_inclusivity\",\n",
      "    \"2437\": \"n_samples=1.266193e+06 mean=24.522156 patterns_related_to_numerical_information\",\n",
      "    \"6850\": \"n_samples=1.266193e+06 mean=25.553289 repetition_of_the_word_number\",\n",
      "    \"7458\": \"n_samples=1.266193e+06 mean=25.655973 sample_sizes_in_research_contexts\",\n",
      "    \"10239\": \"n_samples=1.266193e+06 mean=25.913942 references_to_size_or_magnitude\",\n",
      "    \"14853\": \"n_samples=1.266193e+06 mean=26.186411 decimal_numbers_and_numeric_identifiers\",\n",
      "    \"8974\": \"n_samples=1.266193e+06 mean=26.379068 phrases_indicating_quantity_or_comparison_involving_numbers\",\n",
      "    \"13202\": \"n_samples=1.266193e+06 mean=26.640568 references_to_size_in_various_contexts\",\n",
      "    \"2083\": \"n_samples=1.266193e+06 mean=26.835995 comparative_adjectives_related_to_size\",\n",
      "    \"4723\": \"n_samples=1.266193e+06 mean=27.228605 numbers_and_specific_dates\",\n",
      "    \"16095\": \"n_samples=1.266193e+06 mean=28.047647 references_to_number_one\",\n",
      "    \"5981\": \"n_samples=1.266193e+06 mean=28.349918 phrases_emphasizing_significance_of_the\",\n",
      "    \"6275\": \"n_samples=1.266193e+06 mean=28.519753 numbers_and_numerical_values_in_context\",\n",
      "    \"10738\": \"n_samples=1.266193e+06 mean=37.132618 phrases_related_to_numbers_and_mathematical_representations\",\n",
      "    \"1058\": \"n_samples=1.266193e+06 mean=38.030891 phrases_emphasizing_examples\",\n",
      "    \"12115\": \"n_samples=1.266193e+06 mean=41.459408 mentions_of_in_x_followed_by_a_number\",\n",
      "    \"15483\": \"n_samples=1.266193e+06 mean=45.043209 numbers_dates_or_numerical_sequences\",\n",
      "    \"5665\": \"n_samples=1.266193e+06 mean=67.422539 phrases_emphasizing_totality\"\n",
      "}\n"
     ]
    }
   ],
   "source": [
    "idx2means = {idx: idx2sums[idx] / idx2counts[idx] for idx in idx2sums}\n",
    "print(json.dumps({x: f\"n_samples={y.shape[0]:2e} mean={idx2means[x].item():2f} {unique_dict[x]}\" for x, y in sorted(idx2latents.items(), key=lambda x: idx2means[x[0]])}, indent=4))"
   ]
  },
  {
   "cell_type": "code",
   "execution_count": 20,
   "metadata": {},
   "outputs": [
    {
     "data": {
      "image/png": "[encoded data removed]",
      "text/plain": [
       "<Figure size 1000x600 with 1 Axes>"
      ]
     },
     "metadata": {},
     "output_type": "display_data"
    },
    {
     "data": {
      "image/png": "[encoded data removed]",
      "text/plain": [
       "<Figure size 1200x800 with 1 Axes>"
      ]
     },
     "metadata": {},
     "output_type": "display_data"
    },
    {
     "name": "stdout",
     "output_type": "stream",
     "text": [
      "Min standard deviation: 8.65754222869873\n",
      "Max standard deviation: 84.81404113769531\n",
      "Mean standard deviation: 20.48973846435547\n"
     ]
    }
   ],
   "source": [
    "import matplotlib.pyplot as plt\n",
    "# Plot histogram of standard deviations\n",
    "plt.figure(figsize=(10, 6))\n",
    "stdevs = [idx2stdevs[idx] for idx in sorted(idx2stdevs.keys())]\n",
    "plt.hist(stdevs, bins=30, alpha=0.7)\n",
    "plt.title('Histogram of Standard Deviations')\n",
    "plt.xlabel('Standard Deviation')\n",
    "plt.ylabel('Frequency')\n",
    "plt.grid(alpha=0.3)\n",
    "plt.tight_layout()\n",
    "plt.show()\n",
    "\n",
    "# Also plot the distribution of standard deviations with feature names\n",
    "plt.figure(figsize=(12, 8))\n",
    "sorted_idxs = sorted(idx2stdevs.keys(), key=lambda x: idx2stdevs[x])\n",
    "sorted_stdevs = [idx2stdevs[idx] for idx in sorted_idxs]\n",
    "plt.bar(range(len(sorted_stdevs)), sorted_stdevs, alpha=0.7)\n",
    "plt.title('Standard Deviations Sorted by Value')\n",
    "plt.xlabel('Feature Index (sorted by standard deviation)')\n",
    "plt.ylabel('Standard Deviation')\n",
    "plt.grid(alpha=0.3)\n",
    "plt.tight_layout()\n",
    "plt.show()\n",
    "\n",
    "# Print some statistics about the standard deviations\n",
    "print(f\"Min standard deviation: {min(stdevs)}\")\n",
    "print(f\"Max standard deviation: {max(stdevs)}\")\n",
    "print(f\"Mean standard deviation: {sum(stdevs)/len(stdevs)}\")\n"
   ]
  },
  {
   "cell_type": "code",
   "execution_count": 21,
   "metadata": {},
   "outputs": [
    {
     "ename": "FileExistsError",
     "evalue": "[Errno 17] File exists: 'deleteme_sae_dist_plots'",
     "output_type": "error",
     "traceback": [
      "\u001b[31m---------------------------------------------------------------------------\u001b[39m",
      "\u001b[31mFileExistsError\u001b[39m                           Traceback (most recent call last)",
      "\u001b[36mCell\u001b[39m\u001b[36m \u001b[39m\u001b[32mIn[21]\u001b[39m\u001b[32m, line 4\u001b[39m\n\u001b[32m      2\u001b[39m \u001b[38;5;28;01mimport\u001b[39;00m\u001b[38;5;250m \u001b[39m\u001b[34;01mmatplotlib\u001b[39;00m\u001b[34;01m.\u001b[39;00m\u001b[34;01mpyplot\u001b[39;00m\u001b[38;5;250m \u001b[39m\u001b[38;5;28;01mas\u001b[39;00m\u001b[38;5;250m \u001b[39m\u001b[34;01mplt\u001b[39;00m\n\u001b[32m      3\u001b[39m output_folder = Path(\u001b[33m\"\u001b[39m\u001b[33mdeleteme_sae_dist_plots\u001b[39m\u001b[33m\"\u001b[39m)\n\u001b[32m----> \u001b[39m\u001b[32m4\u001b[39m \u001b[43moutput_folder\u001b[49m\u001b[43m.\u001b[49m\u001b[43mmkdir\u001b[49m\u001b[43m(\u001b[49m\u001b[43mexist_ok\u001b[49m\u001b[43m=\u001b[49m\u001b[38;5;28;43;01mFalse\u001b[39;49;00m\u001b[43m)\u001b[49m\n\u001b[32m      5\u001b[39m \u001b[38;5;28;01mfor\u001b[39;00m idx, idx_name \u001b[38;5;129;01min\u001b[39;00m tqdm.tqdm(relevant_idxs_and_names):\n\u001b[32m      6\u001b[39m     filename = output_folder / (idx_name.replace(\u001b[33m\"\u001b[39m\u001b[33m.\u001b[39m\u001b[33m\"\u001b[39m, \u001b[33m\"\u001b[39m\u001b[33m_\u001b[39m\u001b[33m\"\u001b[39m).replace(\u001b[33m\"\u001b[39m\u001b[33m/\u001b[39m\u001b[33m\"\u001b[39m, \u001b[33m\"\u001b[39m\u001b[33m_\u001b[39m\u001b[33m\"\u001b[39m) + \u001b[33m\"\u001b[39m\u001b[33m.png\u001b[39m\u001b[33m\"\u001b[39m)\n",
      "\u001b[36mFile \u001b[39m\u001b[32m/mnt/align3_drive/adrianoh/miniconda3/envs/llm-density/lib/python3.12/pathlib.py:1311\u001b[39m, in \u001b[36mPath.mkdir\u001b[39m\u001b[34m(self, mode, parents, exist_ok)\u001b[39m\n\u001b[32m   1307\u001b[39m \u001b[38;5;250m\u001b[39m\u001b[33;03m\"\"\"\u001b[39;00m\n\u001b[32m   1308\u001b[39m \u001b[33;03mCreate a new directory at this given path.\u001b[39;00m\n\u001b[32m   1309\u001b[39m \u001b[33;03m\"\"\"\u001b[39;00m\n\u001b[32m   1310\u001b[39m \u001b[38;5;28;01mtry\u001b[39;00m:\n\u001b[32m-> \u001b[39m\u001b[32m1311\u001b[39m     \u001b[43mos\u001b[49m\u001b[43m.\u001b[49m\u001b[43mmkdir\u001b[49m\u001b[43m(\u001b[49m\u001b[38;5;28;43mself\u001b[39;49m\u001b[43m,\u001b[49m\u001b[43m \u001b[49m\u001b[43mmode\u001b[49m\u001b[43m)\u001b[49m\n\u001b[32m   1312\u001b[39m \u001b[38;5;28;01mexcept\u001b[39;00m \u001b[38;5;167;01mFileNotFoundError\u001b[39;00m:\n\u001b[32m   1313\u001b[39m     \u001b[38;5;28;01mif\u001b[39;00m \u001b[38;5;129;01mnot\u001b[39;00m parents \u001b[38;5;129;01mor\u001b[39;00m \u001b[38;5;28mself\u001b[39m.parent == \u001b[38;5;28mself\u001b[39m:\n",
      "\u001b[31mFileExistsError\u001b[39m: [Errno 17] File exists: 'deleteme_sae_dist_plots'"
     ]
    }
   ],
   "source": [
    "from pathlib import Path\n",
    "import matplotlib.pyplot as plt\n",
    "output_folder = Path(\"deleteme_sae_dist_plots\")\n",
    "output_folder.mkdir(exist_ok=False)\n",
    "for idx, idx_name in tqdm.tqdm(relevant_idxs_and_names):\n",
    "    filename = output_folder / (idx_name.replace(\".\", \"_\").replace(\"/\", \"_\") + \".png\")\n",
    "    latents = idx2latents[idx]\n",
    "    histo_data = latents.cpu().numpy()\n",
    "    histo_data2 = histo_data[histo_data != 0]\n",
    "    # Create a figure with two subplots side by side\n",
    "    fig, (ax1, ax2) = plt.subplots(1, 2, figsize=(14, 6))\n",
    "\n",
    "    # Set an overall title to the idx_name\n",
    "    fig.suptitle(f\"{idx_name} (idx={idx}) Histogram of Distributions\")\n",
    "\n",
    "    # Plot histogram of all data (histo_data)\n",
    "    ax1.hist(histo_data, bins=50, alpha=0.7)\n",
    "    ax1.set_title('Histogram of All Latent Values')\n",
    "    ax1.set_xlabel('Latent Value')\n",
    "    ax1.set_ylabel('Frequency')\n",
    "    ax1.grid(alpha=0.3)\n",
    "\n",
    "    # Plot histogram of non-zero data (histo_data2)\n",
    "    ax2.hist(histo_data2, bins=50, alpha=0.7)\n",
    "    ax2.set_title('Histogram of Non-Zero Latent Values')\n",
    "    ax2.set_xlabel('Latent Value')\n",
    "    ax2.set_ylabel('Frequency')\n",
    "    ax2.grid(alpha=0.3)\n",
    "\n",
    "    plt.tight_layout()\n",
    "    # plt.show()\n",
    "    # Save the figure to the specified filename\n",
    "    plt.savefig(filename)\n",
    "    plt.close(fig)  # Close the figure to free memory\n",
    "\n"
   ]
  },
  {
   "cell_type": "code",
   "execution_count": null,
   "metadata": {},
   "outputs": [],
   "source": [
    "boolean_assignments_in_code_idx = 15_947"
   ]
  },
  {
   "cell_type": "code",
   "execution_count": 26,
   "metadata": {},
   "outputs": [
    {
     "name": "stderr",
     "output_type": "stream",
     "text": [
      "100%|██████████| 123/123 [00:00<00:00, 55437.29it/s]"
     ]
    },
    {
     "name": "stdout",
     "output_type": "stream",
     "text": [
      "https://neuronpedia.org/gemma-2-2b/20-gemmascope-res-16k/10004?embed=true&embedexplanation=true&embedplots=true&embedtest=true&height=300\n",
      "https://neuronpedia.org/gemma-2-2b/20-gemmascope-res-16k/15947?embed=true&embedexplanation=true&embedplots=true&embedtest=true&height=300\n",
      "https://neuronpedia.org/gemma-2-2b/20-gemmascope-res-16k/6166?embed=true&embedexplanation=true&embedplots=true&embedtest=true&height=300\n",
      "https://neuronpedia.org/gemma-2-2b/20-gemmascope-res-16k/2290?embed=true&embedexplanation=true&embedplots=true&embedtest=true&height=300\n",
      "https://neuronpedia.org/gemma-2-2b/20-gemmascope-res-16k/6223?embed=true&embedexplanation=true&embedplots=true&embedtest=true&height=300\n",
      "https://neuronpedia.org/gemma-2-2b/20-gemmascope-res-16k/9096?embed=true&embedexplanation=true&embedplots=true&embedtest=true&height=300\n",
      "https://neuronpedia.org/gemma-2-2b/20-gemmascope-res-16k/6612?embed=true&embedexplanation=true&embedplots=true&embedtest=true&height=300\n",
      "https://neuronpedia.org/gemma-2-2b/20-gemmascope-res-16k/13046?embed=true&embedexplanation=true&embedplots=true&embedtest=true&height=300\n",
      "https://neuronpedia.org/gemma-2-2b/20-gemmascope-res-16k/12732?embed=true&embedexplanation=true&embedplots=true&embedtest=true&height=300\n",
      "https://neuronpedia.org/gemma-2-2b/20-gemmascope-res-16k/5401?embed=true&embedexplanation=true&embedplots=true&embedtest=true&height=300\n",
      "https://neuronpedia.org/gemma-2-2b/20-gemmascope-res-16k/7746?embed=true&embedexplanation=true&embedplots=true&embedtest=true&height=300\n",
      "https://neuronpedia.org/gemma-2-2b/20-gemmascope-res-16k/6850?embed=true&embedexplanation=true&embedplots=true&embedtest=true&height=300\n",
      "https://neuronpedia.org/gemma-2-2b/20-gemmascope-res-16k/16095?embed=true&embedexplanation=true&embedplots=true&embedtest=true&height=300\n",
      "https://neuronpedia.org/gemma-2-2b/20-gemmascope-res-16k/11520?embed=true&embedexplanation=true&embedplots=true&embedtest=true&height=300\n",
      "https://neuronpedia.org/gemma-2-2b/20-gemmascope-res-16k/6010?embed=true&embedexplanation=true&embedplots=true&embedtest=true&height=300\n",
      "https://neuronpedia.org/gemma-2-2b/20-gemmascope-res-16k/4723?embed=true&embedexplanation=true&embedplots=true&embedtest=true&height=300\n",
      "https://neuronpedia.org/gemma-2-2b/20-gemmascope-res-16k/2437?embed=true&embedexplanation=true&embedplots=true&embedtest=true&height=300\n",
      "https://neuronpedia.org/gemma-2-2b/20-gemmascope-res-16k/6275?embed=true&embedexplanation=true&embedplots=true&embedtest=true&height=300\n",
      "https://neuronpedia.org/gemma-2-2b/20-gemmascope-res-16k/15031?embed=true&embedexplanation=true&embedplots=true&embedtest=true&height=300\n",
      "https://neuronpedia.org/gemma-2-2b/20-gemmascope-res-16k/10738?embed=true&embedexplanation=true&embedplots=true&embedtest=true&height=300\n",
      "https://neuronpedia.org/gemma-2-2b/20-gemmascope-res-16k/2269?embed=true&embedexplanation=true&embedplots=true&embedtest=true&height=300\n",
      "https://neuronpedia.org/gemma-2-2b/20-gemmascope-res-16k/11576?embed=true&embedexplanation=true&embedplots=true&embedtest=true&height=300\n",
      "https://neuronpedia.org/gemma-2-2b/20-gemmascope-res-16k/9560?embed=true&embedexplanation=true&embedplots=true&embedtest=true&height=300\n",
      "https://neuronpedia.org/gemma-2-2b/20-gemmascope-res-16k/11669?embed=true&embedexplanation=true&embedplots=true&embedtest=true&height=300\n",
      "https://neuronpedia.org/gemma-2-2b/20-gemmascope-res-16k/12115?embed=true&embedexplanation=true&embedplots=true&embedtest=true&height=300\n",
      "https://neuronpedia.org/gemma-2-2b/20-gemmascope-res-16k/1561?embed=true&embedexplanation=true&embedplots=true&embedtest=true&height=300\n",
      "https://neuronpedia.org/gemma-2-2b/20-gemmascope-res-16k/382?embed=true&embedexplanation=true&embedplots=true&embedtest=true&height=300\n",
      "https://neuronpedia.org/gemma-2-2b/20-gemmascope-res-16k/15763?embed=true&embedexplanation=true&embedplots=true&embedtest=true&height=300\n",
      "https://neuronpedia.org/gemma-2-2b/20-gemmascope-res-16k/8974?embed=true&embedexplanation=true&embedplots=true&embedtest=true&height=300\n",
      "https://neuronpedia.org/gemma-2-2b/20-gemmascope-res-16k/3219?embed=true&embedexplanation=true&embedplots=true&embedtest=true&height=300\n",
      "https://neuronpedia.org/gemma-2-2b/20-gemmascope-res-16k/2260?embed=true&embedexplanation=true&embedplots=true&embedtest=true&height=300\n",
      "https://neuronpedia.org/gemma-2-2b/20-gemmascope-res-16k/9856?embed=true&embedexplanation=true&embedplots=true&embedtest=true&height=300\n",
      "https://neuronpedia.org/gemma-2-2b/20-gemmascope-res-16k/10427?embed=true&embedexplanation=true&embedplots=true&embedtest=true&height=300\n",
      "https://neuronpedia.org/gemma-2-2b/20-gemmascope-res-16k/11301?embed=true&embedexplanation=true&embedplots=true&embedtest=true&height=300\n",
      "https://neuronpedia.org/gemma-2-2b/20-gemmascope-res-16k/11626?embed=true&embedexplanation=true&embedplots=true&embedtest=true&height=300\n",
      "https://neuronpedia.org/gemma-2-2b/20-gemmascope-res-16k/12457?embed=true&embedexplanation=true&embedplots=true&embedtest=true&height=300\n",
      "https://neuronpedia.org/gemma-2-2b/20-gemmascope-res-16k/12841?embed=true&embedexplanation=true&embedplots=true&embedtest=true&height=300\n",
      "https://neuronpedia.org/gemma-2-2b/20-gemmascope-res-16k/6541?embed=true&embedexplanation=true&embedplots=true&embedtest=true&height=300\n",
      "https://neuronpedia.org/gemma-2-2b/20-gemmascope-res-16k/15483?embed=true&embedexplanation=true&embedplots=true&embedtest=true&height=300\n",
      "https://neuronpedia.org/gemma-2-2b/20-gemmascope-res-16k/8900?embed=true&embedexplanation=true&embedplots=true&embedtest=true&height=300\n",
      "https://neuronpedia.org/gemma-2-2b/20-gemmascope-res-16k/13730?embed=true&embedexplanation=true&embedplots=true&embedtest=true&height=300\n",
      "https://neuronpedia.org/gemma-2-2b/20-gemmascope-res-16k/14853?embed=true&embedexplanation=true&embedplots=true&embedtest=true&height=300\n",
      "https://neuronpedia.org/gemma-2-2b/20-gemmascope-res-16k/972?embed=true&embedexplanation=true&embedplots=true&embedtest=true&height=300\n",
      "https://neuronpedia.org/gemma-2-2b/20-gemmascope-res-16k/12852?embed=true&embedexplanation=true&embedplots=true&embedtest=true&height=300\n",
      "https://neuronpedia.org/gemma-2-2b/20-gemmascope-res-16k/2074?embed=true&embedexplanation=true&embedplots=true&embedtest=true&height=300\n",
      "https://neuronpedia.org/gemma-2-2b/20-gemmascope-res-16k/7466?embed=true&embedexplanation=true&embedplots=true&embedtest=true&height=300\n",
      "https://neuronpedia.org/gemma-2-2b/20-gemmascope-res-16k/16183?embed=true&embedexplanation=true&embedplots=true&embedtest=true&height=300\n",
      "https://neuronpedia.org/gemma-2-2b/20-gemmascope-res-16k/5022?embed=true&embedexplanation=true&embedplots=true&embedtest=true&height=300\n",
      "https://neuronpedia.org/gemma-2-2b/20-gemmascope-res-16k/8718?embed=true&embedexplanation=true&embedplots=true&embedtest=true&height=300\n",
      "https://neuronpedia.org/gemma-2-2b/20-gemmascope-res-16k/43?embed=true&embedexplanation=true&embedplots=true&embedtest=true&height=300\n",
      "https://neuronpedia.org/gemma-2-2b/20-gemmascope-res-16k/303?embed=true&embedexplanation=true&embedplots=true&embedtest=true&height=300\n",
      "https://neuronpedia.org/gemma-2-2b/20-gemmascope-res-16k/723?embed=true&embedexplanation=true&embedplots=true&embedtest=true&height=300\n",
      "https://neuronpedia.org/gemma-2-2b/20-gemmascope-res-16k/1589?embed=true&embedexplanation=true&embedplots=true&embedtest=true&height=300\n",
      "https://neuronpedia.org/gemma-2-2b/20-gemmascope-res-16k/6057?embed=true&embedexplanation=true&embedplots=true&embedtest=true&height=300\n",
      "https://neuronpedia.org/gemma-2-2b/20-gemmascope-res-16k/6567?embed=true&embedexplanation=true&embedplots=true&embedtest=true&height=300\n",
      "https://neuronpedia.org/gemma-2-2b/20-gemmascope-res-16k/7062?embed=true&embedexplanation=true&embedplots=true&embedtest=true&height=300\n",
      "https://neuronpedia.org/gemma-2-2b/20-gemmascope-res-16k/9945?embed=true&embedexplanation=true&embedplots=true&embedtest=true&height=300\n",
      "https://neuronpedia.org/gemma-2-2b/20-gemmascope-res-16k/10970?embed=true&embedexplanation=true&embedplots=true&embedtest=true&height=300\n",
      "https://neuronpedia.org/gemma-2-2b/20-gemmascope-res-16k/11360?embed=true&embedexplanation=true&embedplots=true&embedtest=true&height=300\n",
      "https://neuronpedia.org/gemma-2-2b/20-gemmascope-res-16k/11663?embed=true&embedexplanation=true&embedplots=true&embedtest=true&height=300\n",
      "https://neuronpedia.org/gemma-2-2b/20-gemmascope-res-16k/11708?embed=true&embedexplanation=true&embedplots=true&embedtest=true&height=300\n",
      "https://neuronpedia.org/gemma-2-2b/20-gemmascope-res-16k/11771?embed=true&embedexplanation=true&embedplots=true&embedtest=true&height=300\n",
      "https://neuronpedia.org/gemma-2-2b/20-gemmascope-res-16k/12567?embed=true&embedexplanation=true&embedplots=true&embedtest=true&height=300\n",
      "https://neuronpedia.org/gemma-2-2b/20-gemmascope-res-16k/14355?embed=true&embedexplanation=true&embedplots=true&embedtest=true&height=300\n",
      "https://neuronpedia.org/gemma-2-2b/20-gemmascope-res-16k/10779?embed=true&embedexplanation=true&embedplots=true&embedtest=true&height=300\n",
      "https://neuronpedia.org/gemma-2-2b/20-gemmascope-res-16k/10917?embed=true&embedexplanation=true&embedplots=true&embedtest=true&height=300\n",
      "https://neuronpedia.org/gemma-2-2b/20-gemmascope-res-16k/8916?embed=true&embedexplanation=true&embedplots=true&embedtest=true&height=300\n",
      "https://neuronpedia.org/gemma-2-2b/20-gemmascope-res-16k/11952?embed=true&embedexplanation=true&embedplots=true&embedtest=true&height=300\n",
      "https://neuronpedia.org/gemma-2-2b/20-gemmascope-res-16k/2579?embed=true&embedexplanation=true&embedplots=true&embedtest=true&height=300\n",
      "https://neuronpedia.org/gemma-2-2b/20-gemmascope-res-16k/10999?embed=true&embedexplanation=true&embedplots=true&embedtest=true&height=300\n",
      "https://neuronpedia.org/gemma-2-2b/20-gemmascope-res-16k/6276?embed=true&embedexplanation=true&embedplots=true&embedtest=true&height=300\n",
      "https://neuronpedia.org/gemma-2-2b/20-gemmascope-res-16k/13826?embed=true&embedexplanation=true&embedplots=true&embedtest=true&height=300\n",
      "https://neuronpedia.org/gemma-2-2b/20-gemmascope-res-16k/1275?embed=true&embedexplanation=true&embedplots=true&embedtest=true&height=300\n",
      "https://neuronpedia.org/gemma-2-2b/20-gemmascope-res-16k/16216?embed=true&embedexplanation=true&embedplots=true&embedtest=true&height=300\n",
      "https://neuronpedia.org/gemma-2-2b/20-gemmascope-res-16k/5885?embed=true&embedexplanation=true&embedplots=true&embedtest=true&height=300\n",
      "https://neuronpedia.org/gemma-2-2b/20-gemmascope-res-16k/14202?embed=true&embedexplanation=true&embedplots=true&embedtest=true&height=300\n",
      "https://neuronpedia.org/gemma-2-2b/20-gemmascope-res-16k/5862?embed=true&embedexplanation=true&embedplots=true&embedtest=true&height=300\n",
      "https://neuronpedia.org/gemma-2-2b/20-gemmascope-res-16k/7508?embed=true&embedexplanation=true&embedplots=true&embedtest=true&height=300\n",
      "https://neuronpedia.org/gemma-2-2b/20-gemmascope-res-16k/7097?embed=true&embedexplanation=true&embedplots=true&embedtest=true&height=300\n",
      "https://neuronpedia.org/gemma-2-2b/20-gemmascope-res-16k/387?embed=true&embedexplanation=true&embedplots=true&embedtest=true&height=300\n",
      "https://neuronpedia.org/gemma-2-2b/20-gemmascope-res-16k/10905?embed=true&embedexplanation=true&embedplots=true&embedtest=true&height=300\n",
      "https://neuronpedia.org/gemma-2-2b/20-gemmascope-res-16k/5981?embed=true&embedexplanation=true&embedplots=true&embedtest=true&height=300\n",
      "https://neuronpedia.org/gemma-2-2b/20-gemmascope-res-16k/11504?embed=true&embedexplanation=true&embedplots=true&embedtest=true&height=300\n",
      "https://neuronpedia.org/gemma-2-2b/20-gemmascope-res-16k/16079?embed=true&embedexplanation=true&embedplots=true&embedtest=true&height=300\n",
      "https://neuronpedia.org/gemma-2-2b/20-gemmascope-res-16k/1058?embed=true&embedexplanation=true&embedplots=true&embedtest=true&height=300\n",
      "https://neuronpedia.org/gemma-2-2b/20-gemmascope-res-16k/9348?embed=true&embedexplanation=true&embedplots=true&embedtest=true&height=300\n",
      "https://neuronpedia.org/gemma-2-2b/20-gemmascope-res-16k/5665?embed=true&embedexplanation=true&embedplots=true&embedtest=true&height=300\n",
      "https://neuronpedia.org/gemma-2-2b/20-gemmascope-res-16k/10239?embed=true&embedexplanation=true&embedplots=true&embedtest=true&height=300\n",
      "https://neuronpedia.org/gemma-2-2b/20-gemmascope-res-16k/12848?embed=true&embedexplanation=true&embedplots=true&embedtest=true&height=300\n",
      "https://neuronpedia.org/gemma-2-2b/20-gemmascope-res-16k/13101?embed=true&embedexplanation=true&embedplots=true&embedtest=true&height=300\n",
      "https://neuronpedia.org/gemma-2-2b/20-gemmascope-res-16k/12795?embed=true&embedexplanation=true&embedplots=true&embedtest=true&height=300\n",
      "https://neuronpedia.org/gemma-2-2b/20-gemmascope-res-16k/640?embed=true&embedexplanation=true&embedplots=true&embedtest=true&height=300\n",
      "https://neuronpedia.org/gemma-2-2b/20-gemmascope-res-16k/1323?embed=true&embedexplanation=true&embedplots=true&embedtest=true&height=300\n",
      "https://neuronpedia.org/gemma-2-2b/20-gemmascope-res-16k/1439?embed=true&embedexplanation=true&embedplots=true&embedtest=true&height=300\n",
      "https://neuronpedia.org/gemma-2-2b/20-gemmascope-res-16k/1603?embed=true&embedexplanation=true&embedplots=true&embedtest=true&height=300\n",
      "https://neuronpedia.org/gemma-2-2b/20-gemmascope-res-16k/4385?embed=true&embedexplanation=true&embedplots=true&embedtest=true&height=300\n",
      "https://neuronpedia.org/gemma-2-2b/20-gemmascope-res-16k/4635?embed=true&embedexplanation=true&embedplots=true&embedtest=true&height=300\n",
      "https://neuronpedia.org/gemma-2-2b/20-gemmascope-res-16k/4773?embed=true&embedexplanation=true&embedplots=true&embedtest=true&height=300\n",
      "https://neuronpedia.org/gemma-2-2b/20-gemmascope-res-16k/6769?embed=true&embedexplanation=true&embedplots=true&embedtest=true&height=300\n",
      "https://neuronpedia.org/gemma-2-2b/20-gemmascope-res-16k/6829?embed=true&embedexplanation=true&embedplots=true&embedtest=true&height=300\n",
      "https://neuronpedia.org/gemma-2-2b/20-gemmascope-res-16k/7654?embed=true&embedexplanation=true&embedplots=true&embedtest=true&height=300\n",
      "https://neuronpedia.org/gemma-2-2b/20-gemmascope-res-16k/7694?embed=true&embedexplanation=true&embedplots=true&embedtest=true&height=300\n",
      "https://neuronpedia.org/gemma-2-2b/20-gemmascope-res-16k/9626?embed=true&embedexplanation=true&embedplots=true&embedtest=true&height=300\n",
      "https://neuronpedia.org/gemma-2-2b/20-gemmascope-res-16k/9903?embed=true&embedexplanation=true&embedplots=true&embedtest=true&height=300\n",
      "https://neuronpedia.org/gemma-2-2b/20-gemmascope-res-16k/10240?embed=true&embedexplanation=true&embedplots=true&embedtest=true&height=300\n",
      "https://neuronpedia.org/gemma-2-2b/20-gemmascope-res-16k/10323?embed=true&embedexplanation=true&embedplots=true&embedtest=true&height=300\n",
      "https://neuronpedia.org/gemma-2-2b/20-gemmascope-res-16k/12390?embed=true&embedexplanation=true&embedplots=true&embedtest=true&height=300\n",
      "https://neuronpedia.org/gemma-2-2b/20-gemmascope-res-16k/12609?embed=true&embedexplanation=true&embedplots=true&embedtest=true&height=300\n",
      "https://neuronpedia.org/gemma-2-2b/20-gemmascope-res-16k/13202?embed=true&embedexplanation=true&embedplots=true&embedtest=true&height=300\n",
      "https://neuronpedia.org/gemma-2-2b/20-gemmascope-res-16k/13555?embed=true&embedexplanation=true&embedplots=true&embedtest=true&height=300\n",
      "https://neuronpedia.org/gemma-2-2b/20-gemmascope-res-16k/14289?embed=true&embedexplanation=true&embedplots=true&embedtest=true&height=300\n",
      "https://neuronpedia.org/gemma-2-2b/20-gemmascope-res-16k/1757?embed=true&embedexplanation=true&embedplots=true&embedtest=true&height=300\n",
      "https://neuronpedia.org/gemma-2-2b/20-gemmascope-res-16k/1939?embed=true&embedexplanation=true&embedplots=true&embedtest=true&height=300\n",
      "https://neuronpedia.org/gemma-2-2b/20-gemmascope-res-16k/443?embed=true&embedexplanation=true&embedplots=true&embedtest=true&height=300\n",
      "https://neuronpedia.org/gemma-2-2b/20-gemmascope-res-16k/6893?embed=true&embedexplanation=true&embedplots=true&embedtest=true&height=300\n",
      "https://neuronpedia.org/gemma-2-2b/20-gemmascope-res-16k/8903?embed=true&embedexplanation=true&embedplots=true&embedtest=true&height=300\n",
      "https://neuronpedia.org/gemma-2-2b/20-gemmascope-res-16k/10331?embed=true&embedexplanation=true&embedplots=true&embedtest=true&height=300\n",
      "https://neuronpedia.org/gemma-2-2b/20-gemmascope-res-16k/7458?embed=true&embedexplanation=true&embedplots=true&embedtest=true&height=300\n",
      "https://neuronpedia.org/gemma-2-2b/20-gemmascope-res-16k/2083?embed=true&embedexplanation=true&embedplots=true&embedtest=true&height=300\n",
      "https://neuronpedia.org/gemma-2-2b/20-gemmascope-res-16k/1019?embed=true&embedexplanation=true&embedplots=true&embedtest=true&height=300\n",
      "https://neuronpedia.org/gemma-2-2b/20-gemmascope-res-16k/7294?embed=true&embedexplanation=true&embedplots=true&embedtest=true&height=300\n",
      "https://neuronpedia.org/gemma-2-2b/20-gemmascope-res-16k/8538?embed=true&embedexplanation=true&embedplots=true&embedtest=true&height=300\n",
      "https://neuronpedia.org/gemma-2-2b/20-gemmascope-res-16k/15816?embed=true&embedexplanation=true&embedplots=true&embedtest=true&height=300\n"
     ]
    },
    {
     "name": "stderr",
     "output_type": "stream",
     "text": [
      "\n"
     ]
    }
   ],
   "source": [
    "import tqdm\n",
    "# Let's try and display all deez\n",
    "for idx, idx_name in tqdm.tqdm(relevant_idxs_and_names):\n",
    "    # template_link =\n",
    "    # html = get_dashboard_html(sae_release = \"gemma-scope-2b-pt-res-canonical\", sae_id=\"layer_20/width_16k/canonical\", feature_idx=idx)\n",
    "    # x = IFrame(html, width=1200, height=600)\n",
    "    # display(x)\n",
    "    # \"gemma-2-2b\", sae_id=\"20-gemmascope-res-16k\"\n",
    "    print(html_template.format(\"gemma-2-2b\", \"20-gemmascope-res-16k\", idx))"
   ]
  },
  {
   "cell_type": "code",
   "execution_count": 59,
   "metadata": {},
   "outputs": [
    {
     "name": "stdout",
     "output_type": "stream",
     "text": [
      "torch.Size([10000, 128])\n"
     ]
    },
    {
     "name": "stderr",
     "output_type": "stream",
     "text": [
      "  0%|          | 0/100 [00:01<?, ?it/s]\n"
     ]
    },
    {
     "ename": "RuntimeError",
     "evalue": "The size of tensor a (8) must match the size of tensor b (256) at non-singleton dimension 3",
     "output_type": "error",
     "traceback": [
      "\u001b[31m---------------------------------------------------------------------------\u001b[39m",
      "\u001b[31mRuntimeError\u001b[39m                              Traceback (most recent call last)",
      "\u001b[36mCell\u001b[39m\u001b[36m \u001b[39m\u001b[32mIn[59]\u001b[39m\u001b[32m, line 31\u001b[39m\n\u001b[32m     29\u001b[39m \u001b[38;5;28;01mfor\u001b[39;00m i \u001b[38;5;129;01min\u001b[39;00m tqdm.trange(\u001b[32m0\u001b[39m, less_tokens.shape[\u001b[32m0\u001b[39m], batch_size):\n\u001b[32m     30\u001b[39m     j = \u001b[38;5;28mmin\u001b[39m(i + batch_size, less_tokens.shape[\u001b[32m0\u001b[39m])\n\u001b[32m---> \u001b[39m\u001b[32m31\u001b[39m     out = \u001b[43mmodel\u001b[49m\u001b[43m(\u001b[49m\u001b[43mtorch\u001b[49m\u001b[43m.\u001b[49m\u001b[43mrandint\u001b[49m\u001b[43m(\u001b[49m\u001b[32;43m0\u001b[39;49m\u001b[43m,\u001b[49m\u001b[43m \u001b[49m\u001b[32;43m10000\u001b[39;49m\u001b[43m,\u001b[49m\u001b[43m \u001b[49m\u001b[43m(\u001b[49m\u001b[43mbatch_size\u001b[49m\u001b[43m,\u001b[49m\u001b[43m \u001b[49m\u001b[32;43m128\u001b[39;49m\u001b[43m)\u001b[49m\u001b[43m,\u001b[49m\u001b[43m \u001b[49m\u001b[43mdevice\u001b[49m\u001b[43m=\u001b[49m\u001b[33;43m\"\u001b[39;49m\u001b[33;43mcuda\u001b[39;49m\u001b[33;43m\"\u001b[39;49m\u001b[43m)\u001b[49m\u001b[43m)\u001b[49m\n\u001b[32m     32\u001b[39m     \u001b[38;5;28mprint\u001b[39m(out)\n\u001b[32m     33\u001b[39m     \u001b[38;5;28;01mraise\u001b[39;00m \u001b[38;5;167;01mNotImplementedError\u001b[39;00m(\u001b[33m\"\u001b[39m\u001b[33mStop here\u001b[39m\u001b[33m\"\u001b[39m)\n",
      "\u001b[36mFile \u001b[39m\u001b[32m/mnt/align3_drive/adrianoh/miniconda3/envs/llm-density/lib/python3.12/site-packages/torch/nn/modules/module.py:1739\u001b[39m, in \u001b[36mModule._wrapped_call_impl\u001b[39m\u001b[34m(self, *args, **kwargs)\u001b[39m\n\u001b[32m   1737\u001b[39m     \u001b[38;5;28;01mreturn\u001b[39;00m \u001b[38;5;28mself\u001b[39m._compiled_call_impl(*args, **kwargs)  \u001b[38;5;66;03m# type: ignore[misc]\u001b[39;00m\n\u001b[32m   1738\u001b[39m \u001b[38;5;28;01melse\u001b[39;00m:\n\u001b[32m-> \u001b[39m\u001b[32m1739\u001b[39m     \u001b[38;5;28;01mreturn\u001b[39;00m \u001b[38;5;28;43mself\u001b[39;49m\u001b[43m.\u001b[49m\u001b[43m_call_impl\u001b[49m\u001b[43m(\u001b[49m\u001b[43m*\u001b[49m\u001b[43margs\u001b[49m\u001b[43m,\u001b[49m\u001b[43m \u001b[49m\u001b[43m*\u001b[49m\u001b[43m*\u001b[49m\u001b[43mkwargs\u001b[49m\u001b[43m)\u001b[49m\n",
      "\u001b[36mFile \u001b[39m\u001b[32m/mnt/align3_drive/adrianoh/miniconda3/envs/llm-density/lib/python3.12/site-packages/torch/nn/modules/module.py:1750\u001b[39m, in \u001b[36mModule._call_impl\u001b[39m\u001b[34m(self, *args, **kwargs)\u001b[39m\n\u001b[32m   1745\u001b[39m \u001b[38;5;66;03m# If we don't have any hooks, we want to skip the rest of the logic in\u001b[39;00m\n\u001b[32m   1746\u001b[39m \u001b[38;5;66;03m# this function, and just call forward.\u001b[39;00m\n\u001b[32m   1747\u001b[39m \u001b[38;5;28;01mif\u001b[39;00m \u001b[38;5;129;01mnot\u001b[39;00m (\u001b[38;5;28mself\u001b[39m._backward_hooks \u001b[38;5;129;01mor\u001b[39;00m \u001b[38;5;28mself\u001b[39m._backward_pre_hooks \u001b[38;5;129;01mor\u001b[39;00m \u001b[38;5;28mself\u001b[39m._forward_hooks \u001b[38;5;129;01mor\u001b[39;00m \u001b[38;5;28mself\u001b[39m._forward_pre_hooks\n\u001b[32m   1748\u001b[39m         \u001b[38;5;129;01mor\u001b[39;00m _global_backward_pre_hooks \u001b[38;5;129;01mor\u001b[39;00m _global_backward_hooks\n\u001b[32m   1749\u001b[39m         \u001b[38;5;129;01mor\u001b[39;00m _global_forward_hooks \u001b[38;5;129;01mor\u001b[39;00m _global_forward_pre_hooks):\n\u001b[32m-> \u001b[39m\u001b[32m1750\u001b[39m     \u001b[38;5;28;01mreturn\u001b[39;00m \u001b[43mforward_call\u001b[49m\u001b[43m(\u001b[49m\u001b[43m*\u001b[49m\u001b[43margs\u001b[49m\u001b[43m,\u001b[49m\u001b[43m \u001b[49m\u001b[43m*\u001b[49m\u001b[43m*\u001b[49m\u001b[43mkwargs\u001b[49m\u001b[43m)\u001b[49m\n\u001b[32m   1752\u001b[39m result = \u001b[38;5;28;01mNone\u001b[39;00m\n\u001b[32m   1753\u001b[39m called_always_called_hooks = \u001b[38;5;28mset\u001b[39m()\n",
      "\u001b[36mFile \u001b[39m\u001b[32m/mnt/align3_drive/adrianoh/miniconda3/envs/llm-density/lib/python3.12/site-packages/transformers/utils/generic.py:965\u001b[39m, in \u001b[36mcan_return_tuple.<locals>.wrapper\u001b[39m\u001b[34m(self, *args, **kwargs)\u001b[39m\n\u001b[32m    962\u001b[39m     set_attribute_for_modules(\u001b[38;5;28mself\u001b[39m, \u001b[33m\"\u001b[39m\u001b[33m_is_top_level_module\u001b[39m\u001b[33m\"\u001b[39m, \u001b[38;5;28;01mFalse\u001b[39;00m)\n\u001b[32m    964\u001b[39m \u001b[38;5;28;01mtry\u001b[39;00m:\n\u001b[32m--> \u001b[39m\u001b[32m965\u001b[39m     output = \u001b[43mfunc\u001b[49m\u001b[43m(\u001b[49m\u001b[38;5;28;43mself\u001b[39;49m\u001b[43m,\u001b[49m\u001b[43m \u001b[49m\u001b[43m*\u001b[49m\u001b[43margs\u001b[49m\u001b[43m,\u001b[49m\u001b[43m \u001b[49m\u001b[43m*\u001b[49m\u001b[43m*\u001b[49m\u001b[43mkwargs\u001b[49m\u001b[43m)\u001b[49m\n\u001b[32m    966\u001b[39m     \u001b[38;5;28;01mif\u001b[39;00m is_requested_to_return_tuple \u001b[38;5;129;01mor\u001b[39;00m (is_configured_to_return_tuple \u001b[38;5;129;01mand\u001b[39;00m is_top_level_module):\n\u001b[32m    967\u001b[39m         output = output.to_tuple()\n",
      "\u001b[36mFile \u001b[39m\u001b[32m/mnt/align3_drive/adrianoh/miniconda3/envs/llm-density/lib/python3.12/site-packages/transformers/utils/deprecation.py:172\u001b[39m, in \u001b[36mdeprecate_kwarg.<locals>.wrapper.<locals>.wrapped_func\u001b[39m\u001b[34m(*args, **kwargs)\u001b[39m\n\u001b[32m    168\u001b[39m \u001b[38;5;28;01melif\u001b[39;00m minimum_action \u001b[38;5;129;01min\u001b[39;00m (Action.NOTIFY, Action.NOTIFY_ALWAYS) \u001b[38;5;129;01mand\u001b[39;00m \u001b[38;5;129;01mnot\u001b[39;00m is_torchdynamo_compiling():\n\u001b[32m    169\u001b[39m     \u001b[38;5;66;03m# DeprecationWarning is ignored by default, so we use FutureWarning instead\u001b[39;00m\n\u001b[32m    170\u001b[39m     warnings.warn(message, \u001b[38;5;167;01mFutureWarning\u001b[39;00m, stacklevel=\u001b[32m2\u001b[39m)\n\u001b[32m--> \u001b[39m\u001b[32m172\u001b[39m \u001b[38;5;28;01mreturn\u001b[39;00m \u001b[43mfunc\u001b[49m\u001b[43m(\u001b[49m\u001b[43m*\u001b[49m\u001b[43margs\u001b[49m\u001b[43m,\u001b[49m\u001b[43m \u001b[49m\u001b[43m*\u001b[49m\u001b[43m*\u001b[49m\u001b[43mkwargs\u001b[49m\u001b[43m)\u001b[49m\n",
      "\u001b[36mFile \u001b[39m\u001b[32m/mnt/align3_drive/adrianoh/miniconda3/envs/llm-density/lib/python3.12/site-packages/transformers/models/gemma2/modeling_gemma2.py:851\u001b[39m, in \u001b[36mGemma2ForCausalLM.forward\u001b[39m\u001b[34m(self, input_ids, attention_mask, position_ids, past_key_values, inputs_embeds, labels, use_cache, output_attentions, output_hidden_states, cache_position, logits_to_keep, **loss_kwargs)\u001b[39m\n\u001b[32m    847\u001b[39m output_hidden_states = (\n\u001b[32m    848\u001b[39m     output_hidden_states \u001b[38;5;28;01mif\u001b[39;00m output_hidden_states \u001b[38;5;129;01mis\u001b[39;00m \u001b[38;5;129;01mnot\u001b[39;00m \u001b[38;5;28;01mNone\u001b[39;00m \u001b[38;5;28;01melse\u001b[39;00m \u001b[38;5;28mself\u001b[39m.config.output_hidden_states\n\u001b[32m    849\u001b[39m )\n\u001b[32m    850\u001b[39m \u001b[38;5;66;03m# decoder outputs consists of (dec_features, layer_state, dec_hidden, dec_attn)\u001b[39;00m\n\u001b[32m--> \u001b[39m\u001b[32m851\u001b[39m outputs: BaseModelOutputWithPast = \u001b[38;5;28;43mself\u001b[39;49m\u001b[43m.\u001b[49m\u001b[43mmodel\u001b[49m\u001b[43m(\u001b[49m\n\u001b[32m    852\u001b[39m \u001b[43m    \u001b[49m\u001b[43minput_ids\u001b[49m\u001b[43m=\u001b[49m\u001b[43minput_ids\u001b[49m\u001b[43m,\u001b[49m\n\u001b[32m    853\u001b[39m \u001b[43m    \u001b[49m\u001b[43mattention_mask\u001b[49m\u001b[43m=\u001b[49m\u001b[43mattention_mask\u001b[49m\u001b[43m,\u001b[49m\n\u001b[32m    854\u001b[39m \u001b[43m    \u001b[49m\u001b[43mposition_ids\u001b[49m\u001b[43m=\u001b[49m\u001b[43mposition_ids\u001b[49m\u001b[43m,\u001b[49m\n\u001b[32m    855\u001b[39m \u001b[43m    \u001b[49m\u001b[43mpast_key_values\u001b[49m\u001b[43m=\u001b[49m\u001b[43mpast_key_values\u001b[49m\u001b[43m,\u001b[49m\n\u001b[32m    856\u001b[39m \u001b[43m    \u001b[49m\u001b[43minputs_embeds\u001b[49m\u001b[43m=\u001b[49m\u001b[43minputs_embeds\u001b[49m\u001b[43m,\u001b[49m\n\u001b[32m    857\u001b[39m \u001b[43m    \u001b[49m\u001b[43muse_cache\u001b[49m\u001b[43m=\u001b[49m\u001b[43muse_cache\u001b[49m\u001b[43m,\u001b[49m\n\u001b[32m    858\u001b[39m \u001b[43m    \u001b[49m\u001b[43moutput_attentions\u001b[49m\u001b[43m=\u001b[49m\u001b[43moutput_attentions\u001b[49m\u001b[43m,\u001b[49m\n\u001b[32m    859\u001b[39m \u001b[43m    \u001b[49m\u001b[43moutput_hidden_states\u001b[49m\u001b[43m=\u001b[49m\u001b[43moutput_hidden_states\u001b[49m\u001b[43m,\u001b[49m\n\u001b[32m    860\u001b[39m \u001b[43m    \u001b[49m\u001b[43mcache_position\u001b[49m\u001b[43m=\u001b[49m\u001b[43mcache_position\u001b[49m\u001b[43m,\u001b[49m\n\u001b[32m    861\u001b[39m \u001b[43m    \u001b[49m\u001b[43m*\u001b[49m\u001b[43m*\u001b[49m\u001b[43mloss_kwargs\u001b[49m\u001b[43m,\u001b[49m\n\u001b[32m    862\u001b[39m \u001b[43m\u001b[49m\u001b[43m)\u001b[49m\n\u001b[32m    864\u001b[39m hidden_states = outputs.last_hidden_state\n\u001b[32m    865\u001b[39m \u001b[38;5;66;03m# Only compute necessary logits, and do not upcast them to float if we are not computing the loss\u001b[39;00m\n",
      "\u001b[36mFile \u001b[39m\u001b[32m/mnt/align3_drive/adrianoh/miniconda3/envs/llm-density/lib/python3.12/site-packages/torch/nn/modules/module.py:1739\u001b[39m, in \u001b[36mModule._wrapped_call_impl\u001b[39m\u001b[34m(self, *args, **kwargs)\u001b[39m\n\u001b[32m   1737\u001b[39m     \u001b[38;5;28;01mreturn\u001b[39;00m \u001b[38;5;28mself\u001b[39m._compiled_call_impl(*args, **kwargs)  \u001b[38;5;66;03m# type: ignore[misc]\u001b[39;00m\n\u001b[32m   1738\u001b[39m \u001b[38;5;28;01melse\u001b[39;00m:\n\u001b[32m-> \u001b[39m\u001b[32m1739\u001b[39m     \u001b[38;5;28;01mreturn\u001b[39;00m \u001b[38;5;28;43mself\u001b[39;49m\u001b[43m.\u001b[49m\u001b[43m_call_impl\u001b[49m\u001b[43m(\u001b[49m\u001b[43m*\u001b[49m\u001b[43margs\u001b[49m\u001b[43m,\u001b[49m\u001b[43m \u001b[49m\u001b[43m*\u001b[49m\u001b[43m*\u001b[49m\u001b[43mkwargs\u001b[49m\u001b[43m)\u001b[49m\n",
      "\u001b[36mFile \u001b[39m\u001b[32m/mnt/align3_drive/adrianoh/miniconda3/envs/llm-density/lib/python3.12/site-packages/torch/nn/modules/module.py:1750\u001b[39m, in \u001b[36mModule._call_impl\u001b[39m\u001b[34m(self, *args, **kwargs)\u001b[39m\n\u001b[32m   1745\u001b[39m \u001b[38;5;66;03m# If we don't have any hooks, we want to skip the rest of the logic in\u001b[39;00m\n\u001b[32m   1746\u001b[39m \u001b[38;5;66;03m# this function, and just call forward.\u001b[39;00m\n\u001b[32m   1747\u001b[39m \u001b[38;5;28;01mif\u001b[39;00m \u001b[38;5;129;01mnot\u001b[39;00m (\u001b[38;5;28mself\u001b[39m._backward_hooks \u001b[38;5;129;01mor\u001b[39;00m \u001b[38;5;28mself\u001b[39m._backward_pre_hooks \u001b[38;5;129;01mor\u001b[39;00m \u001b[38;5;28mself\u001b[39m._forward_hooks \u001b[38;5;129;01mor\u001b[39;00m \u001b[38;5;28mself\u001b[39m._forward_pre_hooks\n\u001b[32m   1748\u001b[39m         \u001b[38;5;129;01mor\u001b[39;00m _global_backward_pre_hooks \u001b[38;5;129;01mor\u001b[39;00m _global_backward_hooks\n\u001b[32m   1749\u001b[39m         \u001b[38;5;129;01mor\u001b[39;00m _global_forward_hooks \u001b[38;5;129;01mor\u001b[39;00m _global_forward_pre_hooks):\n\u001b[32m-> \u001b[39m\u001b[32m1750\u001b[39m     \u001b[38;5;28;01mreturn\u001b[39;00m \u001b[43mforward_call\u001b[49m\u001b[43m(\u001b[49m\u001b[43m*\u001b[49m\u001b[43margs\u001b[49m\u001b[43m,\u001b[49m\u001b[43m \u001b[49m\u001b[43m*\u001b[49m\u001b[43m*\u001b[49m\u001b[43mkwargs\u001b[49m\u001b[43m)\u001b[49m\n\u001b[32m   1752\u001b[39m result = \u001b[38;5;28;01mNone\u001b[39;00m\n\u001b[32m   1753\u001b[39m called_always_called_hooks = \u001b[38;5;28mset\u001b[39m()\n",
      "\u001b[36mFile \u001b[39m\u001b[32m/mnt/align3_drive/adrianoh/miniconda3/envs/llm-density/lib/python3.12/site-packages/transformers/utils/generic.py:965\u001b[39m, in \u001b[36mcan_return_tuple.<locals>.wrapper\u001b[39m\u001b[34m(self, *args, **kwargs)\u001b[39m\n\u001b[32m    962\u001b[39m     set_attribute_for_modules(\u001b[38;5;28mself\u001b[39m, \u001b[33m\"\u001b[39m\u001b[33m_is_top_level_module\u001b[39m\u001b[33m\"\u001b[39m, \u001b[38;5;28;01mFalse\u001b[39;00m)\n\u001b[32m    964\u001b[39m \u001b[38;5;28;01mtry\u001b[39;00m:\n\u001b[32m--> \u001b[39m\u001b[32m965\u001b[39m     output = \u001b[43mfunc\u001b[49m\u001b[43m(\u001b[49m\u001b[38;5;28;43mself\u001b[39;49m\u001b[43m,\u001b[49m\u001b[43m \u001b[49m\u001b[43m*\u001b[49m\u001b[43margs\u001b[49m\u001b[43m,\u001b[49m\u001b[43m \u001b[49m\u001b[43m*\u001b[49m\u001b[43m*\u001b[49m\u001b[43mkwargs\u001b[49m\u001b[43m)\u001b[49m\n\u001b[32m    966\u001b[39m     \u001b[38;5;28;01mif\u001b[39;00m is_requested_to_return_tuple \u001b[38;5;129;01mor\u001b[39;00m (is_configured_to_return_tuple \u001b[38;5;129;01mand\u001b[39;00m is_top_level_module):\n\u001b[32m    967\u001b[39m         output = output.to_tuple()\n",
      "\u001b[36mFile \u001b[39m\u001b[32m/mnt/align3_drive/adrianoh/miniconda3/envs/llm-density/lib/python3.12/site-packages/transformers/models/gemma2/modeling_gemma2.py:634\u001b[39m, in \u001b[36mGemma2Model.forward\u001b[39m\u001b[34m(self, input_ids, attention_mask, position_ids, past_key_values, inputs_embeds, use_cache, output_attentions, output_hidden_states, cache_position, last_cache_position, **flash_attn_kwargs)\u001b[39m\n\u001b[32m    621\u001b[39m     layer_outputs = \u001b[38;5;28mself\u001b[39m._gradient_checkpointing_func(\n\u001b[32m    622\u001b[39m         partial(decoder_layer.\u001b[34m__call__\u001b[39m, **flash_attn_kwargs),\n\u001b[32m    623\u001b[39m         hidden_states,\n\u001b[32m   (...)\u001b[39m\u001b[32m    631\u001b[39m         last_cache_position,\n\u001b[32m    632\u001b[39m     )\n\u001b[32m    633\u001b[39m \u001b[38;5;28;01melse\u001b[39;00m:\n\u001b[32m--> \u001b[39m\u001b[32m634\u001b[39m     layer_outputs = \u001b[43mdecoder_layer\u001b[49m\u001b[43m(\u001b[49m\n\u001b[32m    635\u001b[39m \u001b[43m        \u001b[49m\u001b[43mhidden_states\u001b[49m\u001b[43m,\u001b[49m\n\u001b[32m    636\u001b[39m \u001b[43m        \u001b[49m\u001b[43mposition_embeddings\u001b[49m\u001b[43m=\u001b[49m\u001b[43mposition_embeddings\u001b[49m\u001b[43m,\u001b[49m\n\u001b[32m    637\u001b[39m \u001b[43m        \u001b[49m\u001b[43mattention_mask\u001b[49m\u001b[43m=\u001b[49m\u001b[43mcausal_mask\u001b[49m\u001b[43m,\u001b[49m\n\u001b[32m    638\u001b[39m \u001b[43m        \u001b[49m\u001b[43mposition_ids\u001b[49m\u001b[43m=\u001b[49m\u001b[43mposition_ids\u001b[49m\u001b[43m,\u001b[49m\n\u001b[32m    639\u001b[39m \u001b[43m        \u001b[49m\u001b[43mpast_key_value\u001b[49m\u001b[43m=\u001b[49m\u001b[43mpast_key_values\u001b[49m\u001b[43m,\u001b[49m\n\u001b[32m    640\u001b[39m \u001b[43m        \u001b[49m\u001b[43moutput_attentions\u001b[49m\u001b[43m=\u001b[49m\u001b[43moutput_attentions\u001b[49m\u001b[43m,\u001b[49m\n\u001b[32m    641\u001b[39m \u001b[43m        \u001b[49m\u001b[43muse_cache\u001b[49m\u001b[43m=\u001b[49m\u001b[43muse_cache\u001b[49m\u001b[43m,\u001b[49m\n\u001b[32m    642\u001b[39m \u001b[43m        \u001b[49m\u001b[43mcache_position\u001b[49m\u001b[43m=\u001b[49m\u001b[43mcache_position\u001b[49m\u001b[43m,\u001b[49m\n\u001b[32m    643\u001b[39m \u001b[43m        \u001b[49m\u001b[43mlast_cache_position\u001b[49m\u001b[43m=\u001b[49m\u001b[43mlast_cache_position\u001b[49m\u001b[43m,\u001b[49m\n\u001b[32m    644\u001b[39m \u001b[43m        \u001b[49m\u001b[43m*\u001b[49m\u001b[43m*\u001b[49m\u001b[43mflash_attn_kwargs\u001b[49m\u001b[43m,\u001b[49m\n\u001b[32m    645\u001b[39m \u001b[43m    \u001b[49m\u001b[43m)\u001b[49m\n\u001b[32m    647\u001b[39m hidden_states = layer_outputs[\u001b[32m0\u001b[39m]\n\u001b[32m    649\u001b[39m \u001b[38;5;28;01mif\u001b[39;00m output_attentions:\n",
      "\u001b[36mFile \u001b[39m\u001b[32m/mnt/align3_drive/adrianoh/miniconda3/envs/llm-density/lib/python3.12/site-packages/torch/nn/modules/module.py:1739\u001b[39m, in \u001b[36mModule._wrapped_call_impl\u001b[39m\u001b[34m(self, *args, **kwargs)\u001b[39m\n\u001b[32m   1737\u001b[39m     \u001b[38;5;28;01mreturn\u001b[39;00m \u001b[38;5;28mself\u001b[39m._compiled_call_impl(*args, **kwargs)  \u001b[38;5;66;03m# type: ignore[misc]\u001b[39;00m\n\u001b[32m   1738\u001b[39m \u001b[38;5;28;01melse\u001b[39;00m:\n\u001b[32m-> \u001b[39m\u001b[32m1739\u001b[39m     \u001b[38;5;28;01mreturn\u001b[39;00m \u001b[38;5;28;43mself\u001b[39;49m\u001b[43m.\u001b[49m\u001b[43m_call_impl\u001b[49m\u001b[43m(\u001b[49m\u001b[43m*\u001b[49m\u001b[43margs\u001b[49m\u001b[43m,\u001b[49m\u001b[43m \u001b[49m\u001b[43m*\u001b[49m\u001b[43m*\u001b[49m\u001b[43mkwargs\u001b[49m\u001b[43m)\u001b[49m\n",
      "\u001b[36mFile \u001b[39m\u001b[32m/mnt/align3_drive/adrianoh/miniconda3/envs/llm-density/lib/python3.12/site-packages/torch/nn/modules/module.py:1750\u001b[39m, in \u001b[36mModule._call_impl\u001b[39m\u001b[34m(self, *args, **kwargs)\u001b[39m\n\u001b[32m   1745\u001b[39m \u001b[38;5;66;03m# If we don't have any hooks, we want to skip the rest of the logic in\u001b[39;00m\n\u001b[32m   1746\u001b[39m \u001b[38;5;66;03m# this function, and just call forward.\u001b[39;00m\n\u001b[32m   1747\u001b[39m \u001b[38;5;28;01mif\u001b[39;00m \u001b[38;5;129;01mnot\u001b[39;00m (\u001b[38;5;28mself\u001b[39m._backward_hooks \u001b[38;5;129;01mor\u001b[39;00m \u001b[38;5;28mself\u001b[39m._backward_pre_hooks \u001b[38;5;129;01mor\u001b[39;00m \u001b[38;5;28mself\u001b[39m._forward_hooks \u001b[38;5;129;01mor\u001b[39;00m \u001b[38;5;28mself\u001b[39m._forward_pre_hooks\n\u001b[32m   1748\u001b[39m         \u001b[38;5;129;01mor\u001b[39;00m _global_backward_pre_hooks \u001b[38;5;129;01mor\u001b[39;00m _global_backward_hooks\n\u001b[32m   1749\u001b[39m         \u001b[38;5;129;01mor\u001b[39;00m _global_forward_hooks \u001b[38;5;129;01mor\u001b[39;00m _global_forward_pre_hooks):\n\u001b[32m-> \u001b[39m\u001b[32m1750\u001b[39m     \u001b[38;5;28;01mreturn\u001b[39;00m \u001b[43mforward_call\u001b[49m\u001b[43m(\u001b[49m\u001b[43m*\u001b[49m\u001b[43margs\u001b[49m\u001b[43m,\u001b[49m\u001b[43m \u001b[49m\u001b[43m*\u001b[49m\u001b[43m*\u001b[49m\u001b[43mkwargs\u001b[49m\u001b[43m)\u001b[49m\n\u001b[32m   1752\u001b[39m result = \u001b[38;5;28;01mNone\u001b[39;00m\n\u001b[32m   1753\u001b[39m called_always_called_hooks = \u001b[38;5;28mset\u001b[39m()\n",
      "\u001b[36mFile \u001b[39m\u001b[32m/mnt/align3_drive/adrianoh/miniconda3/envs/llm-density/lib/python3.12/site-packages/transformers/models/gemma2/modeling_gemma2.py:322\u001b[39m, in \u001b[36mGemma2DecoderLayer.forward\u001b[39m\u001b[34m(self, hidden_states, position_embeddings, attention_mask, position_ids, past_key_value, output_attentions, use_cache, cache_position, last_cache_position, **kwargs)\u001b[39m\n\u001b[32m    319\u001b[39m hidden_states = \u001b[38;5;28mself\u001b[39m.input_layernorm(hidden_states)\n\u001b[32m    321\u001b[39m \u001b[38;5;66;03m# Self Attention\u001b[39;00m\n\u001b[32m--> \u001b[39m\u001b[32m322\u001b[39m hidden_states, self_attn_weights = \u001b[38;5;28;43mself\u001b[39;49m\u001b[43m.\u001b[49m\u001b[43mself_attn\u001b[49m\u001b[43m(\u001b[49m\n\u001b[32m    323\u001b[39m \u001b[43m    \u001b[49m\u001b[43mhidden_states\u001b[49m\u001b[43m=\u001b[49m\u001b[43mhidden_states\u001b[49m\u001b[43m,\u001b[49m\n\u001b[32m    324\u001b[39m \u001b[43m    \u001b[49m\u001b[43mposition_embeddings\u001b[49m\u001b[43m=\u001b[49m\u001b[43mposition_embeddings\u001b[49m\u001b[43m,\u001b[49m\n\u001b[32m    325\u001b[39m \u001b[43m    \u001b[49m\u001b[43mattention_mask\u001b[49m\u001b[43m=\u001b[49m\u001b[43mattention_mask\u001b[49m\u001b[43m,\u001b[49m\n\u001b[32m    326\u001b[39m \u001b[43m    \u001b[49m\u001b[43mposition_ids\u001b[49m\u001b[43m=\u001b[49m\u001b[43mposition_ids\u001b[49m\u001b[43m,\u001b[49m\n\u001b[32m    327\u001b[39m \u001b[43m    \u001b[49m\u001b[43mpast_key_value\u001b[49m\u001b[43m=\u001b[49m\u001b[43mpast_key_value\u001b[49m\u001b[43m,\u001b[49m\n\u001b[32m    328\u001b[39m \u001b[43m    \u001b[49m\u001b[43moutput_attentions\u001b[49m\u001b[43m=\u001b[49m\u001b[43moutput_attentions\u001b[49m\u001b[43m,\u001b[49m\n\u001b[32m    329\u001b[39m \u001b[43m    \u001b[49m\u001b[43muse_cache\u001b[49m\u001b[43m=\u001b[49m\u001b[43muse_cache\u001b[49m\u001b[43m,\u001b[49m\n\u001b[32m    330\u001b[39m \u001b[43m    \u001b[49m\u001b[43mcache_position\u001b[49m\u001b[43m=\u001b[49m\u001b[43mcache_position\u001b[49m\u001b[43m,\u001b[49m\n\u001b[32m    331\u001b[39m \u001b[43m    \u001b[49m\u001b[43m*\u001b[49m\u001b[43m*\u001b[49m\u001b[43mkwargs\u001b[49m\u001b[43m,\u001b[49m\n\u001b[32m    332\u001b[39m \u001b[43m\u001b[49m\u001b[43m)\u001b[49m\n\u001b[32m    333\u001b[39m hidden_states = \u001b[38;5;28mself\u001b[39m.post_attention_layernorm(hidden_states)\n\u001b[32m    334\u001b[39m hidden_states = residual + hidden_states\n",
      "\u001b[36mFile \u001b[39m\u001b[32m/mnt/align3_drive/adrianoh/miniconda3/envs/llm-density/lib/python3.12/site-packages/torch/nn/modules/module.py:1739\u001b[39m, in \u001b[36mModule._wrapped_call_impl\u001b[39m\u001b[34m(self, *args, **kwargs)\u001b[39m\n\u001b[32m   1737\u001b[39m     \u001b[38;5;28;01mreturn\u001b[39;00m \u001b[38;5;28mself\u001b[39m._compiled_call_impl(*args, **kwargs)  \u001b[38;5;66;03m# type: ignore[misc]\u001b[39;00m\n\u001b[32m   1738\u001b[39m \u001b[38;5;28;01melse\u001b[39;00m:\n\u001b[32m-> \u001b[39m\u001b[32m1739\u001b[39m     \u001b[38;5;28;01mreturn\u001b[39;00m \u001b[38;5;28;43mself\u001b[39;49m\u001b[43m.\u001b[49m\u001b[43m_call_impl\u001b[49m\u001b[43m(\u001b[49m\u001b[43m*\u001b[49m\u001b[43margs\u001b[49m\u001b[43m,\u001b[49m\u001b[43m \u001b[49m\u001b[43m*\u001b[49m\u001b[43m*\u001b[49m\u001b[43mkwargs\u001b[49m\u001b[43m)\u001b[49m\n",
      "\u001b[36mFile \u001b[39m\u001b[32m/mnt/align3_drive/adrianoh/miniconda3/envs/llm-density/lib/python3.12/site-packages/torch/nn/modules/module.py:1750\u001b[39m, in \u001b[36mModule._call_impl\u001b[39m\u001b[34m(self, *args, **kwargs)\u001b[39m\n\u001b[32m   1745\u001b[39m \u001b[38;5;66;03m# If we don't have any hooks, we want to skip the rest of the logic in\u001b[39;00m\n\u001b[32m   1746\u001b[39m \u001b[38;5;66;03m# this function, and just call forward.\u001b[39;00m\n\u001b[32m   1747\u001b[39m \u001b[38;5;28;01mif\u001b[39;00m \u001b[38;5;129;01mnot\u001b[39;00m (\u001b[38;5;28mself\u001b[39m._backward_hooks \u001b[38;5;129;01mor\u001b[39;00m \u001b[38;5;28mself\u001b[39m._backward_pre_hooks \u001b[38;5;129;01mor\u001b[39;00m \u001b[38;5;28mself\u001b[39m._forward_hooks \u001b[38;5;129;01mor\u001b[39;00m \u001b[38;5;28mself\u001b[39m._forward_pre_hooks\n\u001b[32m   1748\u001b[39m         \u001b[38;5;129;01mor\u001b[39;00m _global_backward_pre_hooks \u001b[38;5;129;01mor\u001b[39;00m _global_backward_hooks\n\u001b[32m   1749\u001b[39m         \u001b[38;5;129;01mor\u001b[39;00m _global_forward_hooks \u001b[38;5;129;01mor\u001b[39;00m _global_forward_pre_hooks):\n\u001b[32m-> \u001b[39m\u001b[32m1750\u001b[39m     \u001b[38;5;28;01mreturn\u001b[39;00m \u001b[43mforward_call\u001b[49m\u001b[43m(\u001b[49m\u001b[43m*\u001b[49m\u001b[43margs\u001b[49m\u001b[43m,\u001b[49m\u001b[43m \u001b[49m\u001b[43m*\u001b[49m\u001b[43m*\u001b[49m\u001b[43mkwargs\u001b[49m\u001b[43m)\u001b[49m\n\u001b[32m   1752\u001b[39m result = \u001b[38;5;28;01mNone\u001b[39;00m\n\u001b[32m   1753\u001b[39m called_always_called_hooks = \u001b[38;5;28mset\u001b[39m()\n",
      "\u001b[36mFile \u001b[39m\u001b[32m/mnt/align3_drive/adrianoh/miniconda3/envs/llm-density/lib/python3.12/site-packages/transformers/models/gemma2/modeling_gemma2.py:222\u001b[39m, in \u001b[36mGemma2Attention.forward\u001b[39m\u001b[34m(self, hidden_states, position_embeddings, attention_mask, past_key_value, cache_position, **kwargs)\u001b[39m\n\u001b[32m    219\u001b[39m value_states = \u001b[38;5;28mself\u001b[39m.v_proj(hidden_states).view(hidden_shape).transpose(\u001b[32m1\u001b[39m, \u001b[32m2\u001b[39m)\n\u001b[32m    221\u001b[39m cos, sin = position_embeddings\n\u001b[32m--> \u001b[39m\u001b[32m222\u001b[39m query_states, key_states = \u001b[43mapply_rotary_pos_emb\u001b[49m\u001b[43m(\u001b[49m\u001b[43mquery_states\u001b[49m\u001b[43m,\u001b[49m\u001b[43m \u001b[49m\u001b[43mkey_states\u001b[49m\u001b[43m,\u001b[49m\u001b[43m \u001b[49m\u001b[43mcos\u001b[49m\u001b[43m,\u001b[49m\u001b[43m \u001b[49m\u001b[43msin\u001b[49m\u001b[43m)\u001b[49m\n\u001b[32m    224\u001b[39m \u001b[38;5;28;01mif\u001b[39;00m past_key_value \u001b[38;5;129;01mis\u001b[39;00m \u001b[38;5;129;01mnot\u001b[39;00m \u001b[38;5;28;01mNone\u001b[39;00m:\n\u001b[32m    225\u001b[39m     \u001b[38;5;66;03m# sin and cos are specific to RoPE models; cache_position needed for the static cache\u001b[39;00m\n\u001b[32m    226\u001b[39m     cache_kwargs = {\n\u001b[32m    227\u001b[39m         \u001b[33m\"\u001b[39m\u001b[33msin\u001b[39m\u001b[33m\"\u001b[39m: sin,\n\u001b[32m    228\u001b[39m         \u001b[33m\"\u001b[39m\u001b[33mcos\u001b[39m\u001b[33m\"\u001b[39m: cos,\n\u001b[32m    229\u001b[39m         \u001b[33m\"\u001b[39m\u001b[33mcache_position\u001b[39m\u001b[33m\"\u001b[39m: cache_position,\n\u001b[32m    230\u001b[39m         \u001b[33m\"\u001b[39m\u001b[33msliding_window\u001b[39m\u001b[33m\"\u001b[39m: \u001b[38;5;28mself\u001b[39m.sliding_window,\n\u001b[32m    231\u001b[39m     }\n",
      "\u001b[36mFile \u001b[39m\u001b[32m/mnt/align3_drive/adrianoh/miniconda3/envs/llm-density/lib/python3.12/site-packages/transformers/models/gemma2/modeling_gemma2.py:125\u001b[39m, in \u001b[36mapply_rotary_pos_emb\u001b[39m\u001b[34m(q, k, cos, sin, position_ids, unsqueeze_dim)\u001b[39m\n\u001b[32m    123\u001b[39m cos = cos.unsqueeze(unsqueeze_dim)\n\u001b[32m    124\u001b[39m sin = sin.unsqueeze(unsqueeze_dim)\n\u001b[32m--> \u001b[39m\u001b[32m125\u001b[39m q_embed = (\u001b[43mq\u001b[49m\u001b[43m \u001b[49m\u001b[43m*\u001b[49m\u001b[43m \u001b[49m\u001b[43mcos\u001b[49m) + (rotate_half(q) * sin)\n\u001b[32m    126\u001b[39m k_embed = (k * cos) + (rotate_half(k) * sin)\n\u001b[32m    127\u001b[39m \u001b[38;5;28;01mreturn\u001b[39;00m q_embed, k_embed\n",
      "\u001b[31mRuntimeError\u001b[39m: The size of tensor a (8) must match the size of tensor b (256) at non-singleton dimension 3"
     ]
    }
   ],
   "source": [
    "import torch.nn as nn\n",
    "from typing import Dict\n",
    "class IdxMapQuantizedS(nn.Module):\n",
    "    def __init__(self, sae: SAE, idx2means: Dict[int, torch.Tensor]):\n",
    "        super().__init__()\n",
    "        self.sae = sae\n",
    "        self.idx2means = idx2means\n",
    "        self.zero = torch.tensor(0.0)\n",
    "\n",
    "    def forward(self, x: torch.Tensor) -> torch.Tensor:\n",
    "        assert x.ndim == 3\n",
    "        enc = self.sae.encode(x)\n",
    "        for idx, mean in self.idx2means.items():\n",
    "            enc[:, :, idx] = enc[:, :, idx].where(enc[:, :, idx] > 0, mean)\n",
    "        decoded = self.sae.decode(enc)\n",
    "        assert decoded.shape == x.shape\n",
    "        return decoded\n",
    "\n",
    "less_tokens = tokens[:10_000] # eh\n",
    "print(less_tokens.shape)\n",
    "all_quantized = IdxMapQuantizedS(sae, idx2means)\n",
    "def gather_target_act_hook(mod, inputs, outputs):\n",
    "    global all_quantized\n",
    "    assert isinstance(outputs, tuple)\n",
    "    input_pt = inputs[0]\n",
    "    return all_quantized(input_pt)\n",
    "handle = model.model.layers[20].register_forward_hook(gather_target_act_hook)\n",
    "try:\n",
    "    batch_size = 100\n",
    "    for i in tqdm.trange(0, less_tokens.shape[0], batch_size):\n",
    "        j = min(i + batch_size, less_tokens.shape[0])\n",
    "        out = model.forward(less_tokens[i:j])\n",
    "        # out = model(torch.randint(0, 10000, (batch_size, 128), device=\"cuda\"))\n",
    "        print(out)\n",
    "        raise NotImplementedError(\"Stop here\")\n",
    "finally:\n",
    "    handle.remove()"
   ]
  },
  {
   "cell_type": "code",
   "execution_count": null,
   "metadata": {},
   "outputs": [],
   "source": []
  }
 ],
 "metadata": {
  "kernelspec": {
   "display_name": "llm-density",
   "language": "python",
   "name": "python3"
  },
  "language_info": {
   "codemirror_mode": {
    "name": "ipython",
    "version": 3
   },
   "file_extension": ".py",
   "mimetype": "text/x-python",
   "name": "python",
   "nbconvert_exporter": "python",
   "pygments_lexer": "ipython3",
   "version": "3.12.9"
  }
 },
 "nbformat": 4,
 "nbformat_minor": 2
}
