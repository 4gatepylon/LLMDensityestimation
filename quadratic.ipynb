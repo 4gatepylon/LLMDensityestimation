{
 "cells": [
  {
   "cell_type": "code",
   "execution_count": 1,
   "metadata": {},
   "outputs": [
    {
     "name": "stderr",
     "output_type": "stream",
     "text": [
      "/mnt/align3_drive/adrianoh/miniconda3/envs/llm-density/lib/python3.12/site-packages/tqdm/auto.py:21: TqdmWarning: IProgress not found. Please update jupyter and ipywidgets. See https://ipywidgets.readthedocs.io/en/stable/user_install.html\n",
      "  from .autonotebook import tqdm as notebook_tqdm\n"
     ]
    }
   ],
   "source": [
    "import gc\n",
    "from transformers import AutoModelForCausalLM, AutoTokenizer\n",
    "from sae_lens import SAE  # pip install sae-lens\n",
    "import torch\n",
    "from jaxtyping import Float\n",
    "from torch import Tensor\n",
    "from typing import List, Tuple, Optional\n",
    "import tqdm\n",
    "from transformer_lens.utils import tokenize_and_concatenate\n",
    "from datasets import load_dataset\n",
    "import os\n",
    "os.environ['CUDA_VISIBLE_DEVICES'] = '3'\n",
    "\n",
    "def get_sae(model_name: str = \"google/gemma-2-2b\", layer: int = 20):\n",
    "    assert model_name in [\"gpt2\", \"google/gemma-2-2b\"]\n",
    "    with torch.no_grad():\n",
    "        # 1. Fetch the SAE\n",
    "        assert model_name in [\"gpt2\", \"google/gemma-2-2b\"]\n",
    "        if model_name == \"gpt2\":\n",
    "            sae, cfg_dict, sparsity = SAE.from_pretrained(\n",
    "                    release = \"gpt2-small-res-jb\",\n",
    "                    sae_id = f\"blocks.{layer}.hook_resid_pre\",\n",
    "                    device = \"cuda\"\n",
    "                )\n",
    "        else:\n",
    "            sae, cfg_dict, sparsity = SAE.from_pretrained(\n",
    "                release=\"gemma-scope-2b-pt-res-canonical\",\n",
    "                sae_id=f\"layer_{layer}/width_16k/canonical\",\n",
    "            )\n",
    "        sae.cuda()\n",
    "        sae.eval()\n",
    "        for p in sae.parameters():\n",
    "            p.requires_grad = False\n",
    "            p.grad = None\n",
    "        return sae\n",
    "def get_model(model_name: str = \"google/gemma-2-2b\"):\n",
    "    model = AutoModelForCausalLM.from_pretrained(model_name, device_map=\"cuda\")\n",
    "    model.eval()\n",
    "    for p in model.parameters():\n",
    "        p.requires_grad = False\n",
    "        p.grad = None\n",
    "    return model\n",
    "    \n",
    "def get_tokenizer(model_name: str = \"google/gemma-2-2b\"):\n",
    "    return AutoTokenizer.from_pretrained(model_name)\n",
    "\n",
    "def get_dataset(dataset_name: str = \"stas/openwebtext-10k\", batch_size: Optional[int] = None, tokenizer: Optional[AutoTokenizer] = None):\n",
    "    if tokenizer is None:\n",
    "        raise ValueError(\"Tokenizer is required for `get_dataset`\")\n",
    "    dataset_name = \"stas/openwebtext-10k\"  # yolo\n",
    "    dataset = load_dataset(\n",
    "        dataset_name, split=\"train\", trust_remote_code=True\n",
    "    )  # Smaller version\n",
    "    tokens = tokenize_and_concatenate(\n",
    "        dataset=dataset,  # type: ignore\n",
    "        tokenizer=tokenizer,  # type: ignore\n",
    "        streaming=True,\n",
    "        # NOTE: all these have context 128\n",
    "        max_length=128,  # sae.cfg.context_size,\n",
    "        add_bos_token=True,  # sae.cfg.prepend_bos,\n",
    "    )[\"tokens\"]\n",
    "    tokens = tokens.to(\"cuda\")  # eh\n",
    "    if batch_size is not None:\n",
    "        tokens = tokens[:batch_size]\n",
    "    return tokens\n",
    "\n",
    "def get_activations(model_name: str = \"google/gemma-2-2b\", layer: int = 20, return_raw: bool = False, n_batch: int = 10_000):\n",
    "    torch.set_grad_enabled(False)\n",
    "    with torch.no_grad():\n",
    "        \"\"\"\n",
    "        Load the things...\n",
    "        \"\"\"\n",
    "        # 1. Get our model tokenizer etc...\n",
    "        # sae = get_sae(model_name, layer) # Not used yet lmao\n",
    "        model = get_model(model_name)\n",
    "        tokenizer = get_tokenizer(model_name)\n",
    "\n",
    "        # GEt the full dataset\n",
    "        dataset_name = \"stas/openwebtext-10k\"  # yolo\n",
    "        tokens = get_dataset(dataset_name, batch_size=n_batch, tokenizer=tokenizer)\n",
    "\n",
    "    \"\"\"\n",
    "    Collect some output activations.\n",
    "    \"\"\"\n",
    "    collected_outputs = []\n",
    "    def gather_target_act_hook(mod, inputs, outputs):\n",
    "        nonlocal collected_outputs\n",
    "        assert isinstance(outputs, tuple)\n",
    "        assert isinstance(outputs[0], torch.Tensor), f\"Expected a single tensor output, got {outputs}\" # fmt: skip\n",
    "        collected_outputs.append(outputs[0].detach().requires_grad_(False).cpu())\n",
    "        return outputs\n",
    "\n",
    "\n",
    "    if model_name == \"gpt2\":\n",
    "        handle = model.transformer.h[layer].register_forward_hook(gather_target_act_hook)\n",
    "    else:\n",
    "        handle = model.model.layers[layer].register_forward_hook(gather_target_act_hook)\n",
    "    try:\n",
    "        batch_size = 100\n",
    "        for i in tqdm.trange(0, tokens.shape[0], batch_size):\n",
    "            j = min(i + batch_size, tokens.shape[0])\n",
    "            model.forward(tokens[i:j])\n",
    "    finally:\n",
    "        handle.remove()\n",
    "    collected_outputs = torch.cat(collected_outputs, dim=0)\n",
    "    print(collected_outputs.shape)\n",
    "\n",
    "    tokens_is_special = (\n",
    "        (tokens == tokenizer.bos_token_id)\n",
    "        | (tokens == tokenizer.eos_token_id)\n",
    "        | (tokens == tokenizer.pad_token_id)\n",
    "    )\n",
    "    if return_raw:\n",
    "        assert tokens.shape == collected_outputs.shape[:-1], f\"tokens.shape: {tokens.shape}, collected_outputs.shape: {collected_outputs.shape}\"\n",
    "        assert collected_outputs.shape[:-1] == tokens_is_special.shape, f\"collected_outputs.shape: {collected_outputs.shape}, tokens_is_special.shape: {tokens_is_special.shape}\"\n",
    "        return collected_outputs, tokens_is_special, tokens\n",
    "    tokens_is_special_flat = tokens_is_special.cpu().flatten()\n",
    "    collected_outputs_flat = collected_outputs.cpu().reshape(\n",
    "        -1, collected_outputs.shape[-1]\n",
    "    )\n",
    "    activations = collected_outputs_flat[~tokens_is_special_flat, :]\n",
    "    print(activations.shape)  # These are the ones we will use to understand our SAE\n",
    "    return activations"
   ]
  },
  {
   "cell_type": "code",
   "execution_count": 2,
   "metadata": {},
   "outputs": [
    {
     "name": "stdout",
     "output_type": "stream",
     "text": [
      "phi shape: torch.Size([1024, 2145]) from bias=1 plus quadratic=2080 + linear=64\n"
     ]
    },
    {
     "name": "stderr",
     "output_type": "stream",
     "text": [
      "Fitting probe over batches (batch_size=1024): 100%|██████████| 1/1 [00:00<00:00, 77.42it/s]\n"
     ]
    },
    {
     "name": "stdout",
     "output_type": "stream",
     "text": [
      "R²: 0.9999999999981426\n",
      "R² batched: 0.9999999999981426\n",
      "R² on linear targets: 0.9999999999987129\n"
     ]
    },
    {
     "name": "stderr",
     "output_type": "stream",
     "text": [
      "Computing R² over batches (batch_size=1024): 100%|██████████| 1/1 [00:00<00:00, 570.50it/s]"
     ]
    },
    {
     "name": "stdout",
     "output_type": "stream",
     "text": [
      "R² batched on linear targets: 0.9999999999987129\n"
     ]
    },
    {
     "name": "stderr",
     "output_type": "stream",
     "text": [
      "\n"
     ]
    }
   ],
   "source": [
    "import torch\n",
    "from torch import Tensor\n",
    "from typing import Callable, Optional\n",
    "\n",
    "class QuadraticFeatureMap:\n",
    "    \"\"\"Second‑order (quadratic) feature expansion.\n",
    "\n",
    "    Given activations X ∈ ℝ^{N×d}, returns Φ(X) that concatenates an optional bias,\n",
    "    the original linear terms, and the unique quadratic terms x_i x_j with i ≤ j.\n",
    "    Optionally subsamples quadratic terms to keep dimensionality manageable.\n",
    "\n",
    "    By o3.\n",
    "    \"\"\"\n",
    "\n",
    "    def __init__(\n",
    "        self,\n",
    "        include_bias: bool = True,\n",
    "        include_linear: bool = True,\n",
    "        max_quadratic_features: Optional[int] = None,\n",
    "    ) -> None:\n",
    "        self.include_bias = include_bias\n",
    "        self.include_linear = include_linear\n",
    "        self.max_quadratic_features = max_quadratic_features\n",
    "        self._tri_idx_cache = {}\n",
    "\n",
    "    def _upper_tri_indices(self, d: int, device: torch.device):\n",
    "        # Cache indices so we don't re‑allocate on every call\n",
    "        if (d, device) not in self._tri_idx_cache:\n",
    "            self._tri_idx_cache[(d, device)] = torch.triu_indices(d, d, device=device)\n",
    "        return self._tri_idx_cache[(d, device)]\n",
    "\n",
    "    def __call__(self, x: Tensor) -> Tensor:\n",
    "        \"\"\"Compute the quadratic feature map.\n",
    "\n",
    "        Args:\n",
    "            x: (N, d) activations.\n",
    "        Returns:\n",
    "            Φ(x): (N, D) transformed feature matrix.\n",
    "        \"\"\"\n",
    "        if x.dim() != 2:\n",
    "            raise ValueError(\"Input must have shape (N, d)\")\n",
    "        N, d = x.shape\n",
    "        parts = []\n",
    "        if self.include_bias:\n",
    "            parts.append(torch.ones(N, 1, device=x.device, dtype=x.dtype))\n",
    "        if self.include_linear:\n",
    "            parts.append(x)\n",
    "\n",
    "        # Quadratic terms – only keep i ≤ j to avoid duplicates\n",
    "        tri_i, tri_j = self._upper_tri_indices(d, x.device)\n",
    "        quad_terms = x.unsqueeze(2) * x.unsqueeze(1)  # (N, d, d)\n",
    "        quad_terms = quad_terms[:, tri_i, tri_j]      # (N, d(d+1)/2)\n",
    "\n",
    "        if self.max_quadratic_features is not None and quad_terms.shape[1] > self.max_quadratic_features:\n",
    "            # Uniform random subsample to cap dimensionality\n",
    "            idx = torch.randperm(quad_terms.shape[1], device=x.device)[: self.max_quadratic_features]\n",
    "            quad_terms = quad_terms[:, idx]\n",
    "        parts.append(quad_terms)\n",
    "        return torch.cat(parts, dim=1)\n",
    "\n",
    "\n",
    "class NonLinearProbe(torch.nn.Module):\n",
    "    \"\"\"\n",
    "    Generic non‑linear probe: Φ(·) → linear ridge regression.\n",
    "\n",
    "    By o3\n",
    "    \"\"\"\n",
    "\n",
    "    def __init__(\n",
    "        self,\n",
    "        feature_map: Callable[[Tensor], Tensor],\n",
    "        reg_lambda: float = 1e-4,\n",
    "        device: torch.device | str = \"cpu\",\n",
    "    ) -> None:\n",
    "        super().__init__()\n",
    "        self.feature_map = feature_map\n",
    "        self.reg_lambda = reg_lambda\n",
    "        self.device = torch.device(device)\n",
    "        self.weight: Optional[Tensor] = None  # (D, k)\n",
    "\n",
    "    def fit(self, X: Tensor, y: Tensor, batch_size: Optional[int] = None) -> None:\n",
    "        \"\"\"Fit ridge regression weights.\n",
    "\n",
    "        Args:\n",
    "            X: (N, d) activations.\n",
    "            y: (N, k) targets (e.g., SAE residuals).\n",
    "        \"\"\"\n",
    "        if batch_size is not None:\n",
    "            return self.fit_batched(X, y, batch_size)\n",
    "        X, y = X.to(self.device), y.to(self.device)\n",
    "        Φ = self.feature_map(X)  # (N, D)\n",
    "        # Closed‑form ridge solution: W = (ΦᵀΦ + λI)^{-1} Φᵀ y\n",
    "        XtX = Φ.T @ Φ\n",
    "        if self.reg_lambda > 0:\n",
    "            XtX += self.reg_lambda * torch.eye(XtX.size(0), device=self.device, dtype=Φ.dtype)\n",
    "        self.weight = torch.linalg.solve(XtX, Φ.T @ y)\n",
    "    \n",
    "    def fit_batched(self, X: Tensor, y: Tensor, batch_size: int = 1024) -> None:\n",
    "        \"\"\"Fit ridge regression weights. By Claude.\n",
    "\n",
    "        Args:\n",
    "            X: (N, d) activations.\n",
    "            y: (N, k) targets (e.g., SAE residuals).\n",
    "            batch_size: int, batch size for processing large datasets.\n",
    "        \"\"\"\n",
    "        X, y = X.to(self.device), y.to(self.device)\n",
    "        N = X.shape[0]\n",
    "        assert X.ndim == 2, f\"X.shape: {X.shape}\"\n",
    "        \n",
    "        # Process in batches to avoid memory issues\n",
    "        XtX = None\n",
    "        XtY = None\n",
    "        \n",
    "        for i in tqdm.trange(0, N, batch_size, desc=f\"Fitting probe over batches (batch_size={batch_size})\"):\n",
    "            end_idx = min(i + batch_size, N)\n",
    "            X_batch = X[i:end_idx]\n",
    "            y_batch = y[i:end_idx]\n",
    "            \n",
    "            # Transform batch\n",
    "            Φ_batch = self.feature_map(X_batch)  # (batch_size, D)\n",
    "            assert Φ_batch.ndim == 2, f\"Φ_batch.shape: {Φ_batch.shape}\"\n",
    "            assert Φ_batch.shape[0] == y_batch.shape[0], f\"Φ_batch.shape: {Φ_batch.shape}, y_batch.shape: {y_batch.shape}\"\n",
    "            \n",
    "            # print(\"Φ_batch shape:\", Φ_batch.shape) # DEBUG\n",
    "            # print(\"y_batch shape:\", y_batch.shape) # DEBUG\n",
    "            # print(\"X_batch shape:\", X_batch.shape) # DEBUG\n",
    "\n",
    "            # Accumulate statistics\n",
    "            batch_XtX = Φ_batch.T @ Φ_batch\n",
    "            batch_XtY = Φ_batch.T @ y_batch\n",
    "            \n",
    "            if XtX is None:\n",
    "                XtX = batch_XtX\n",
    "                XtY = batch_XtY\n",
    "            else:\n",
    "                XtX += batch_XtX\n",
    "                XtY += batch_XtY\n",
    "        \n",
    "        # Closed‑form ridge solution: W = (ΦᵀΦ + λI)^{-1} Φᵀ y\n",
    "        if self.reg_lambda > 0:\n",
    "            XtX += self.reg_lambda * torch.eye(XtX.size(0), device=self.device, dtype=XtX.dtype)\n",
    "        \n",
    "        self.weight = torch.linalg.solve(XtX, XtY)\n",
    "\n",
    "    @torch.no_grad()\n",
    "    def predict(self, X: Tensor) -> Tensor:\n",
    "        if self.weight is None:\n",
    "            raise RuntimeError(\"Probe has not been fitted yet.\")\n",
    "        Φ = self.feature_map(X.to(self.device))\n",
    "        return Φ @ self.weight  # (N, k)\n",
    "\n",
    "    # TODO(Adriano) not entirely sure this will be numerically stable ngl\n",
    "    @torch.no_grad()\n",
    "    def r2(self, X: Tensor, y: Tensor, batch_size: Optional[int] = None) -> float:\n",
    "        if batch_size is not None:\n",
    "            return self.r2_batched(X, y, batch_size)\n",
    "        y_pred = self.predict(X)\n",
    "        ss_res = torch.sum((y.to(self.device) - y_pred) ** 2)\n",
    "        ss_tot = torch.sum((y.to(self.device) - y.mean(dim=0, keepdim=True).to(self.device)) ** 2)\n",
    "        return 1.0 - ss_res.item() / ss_tot.item()\n",
    "    \n",
    "    @torch.no_grad()\n",
    "    def r2_batched(self, X: Tensor, y: Tensor, batch_size: int = 1024) -> float:\n",
    "        X, y = X.to(self.device), y.to(self.device)\n",
    "        N = X.shape[0]\n",
    "        \n",
    "        # Calculate y_mean for ss_tot\n",
    "        y_mean = y.mean(dim=0, keepdim=True)\n",
    "        \n",
    "        ss_res = 0.0\n",
    "        ss_tot = 0.0\n",
    "        \n",
    "        for i in tqdm.trange(0, N, batch_size, desc=f\"Computing R² over batches (batch_size={batch_size})\"):\n",
    "            end_idx = min(i + batch_size, N)\n",
    "            X_batch = X[i:end_idx]\n",
    "            y_batch = y[i:end_idx]\n",
    "            \n",
    "            # Get predictions for this batch\n",
    "            y_pred_batch = self.predict(X_batch)\n",
    "            \n",
    "            # Accumulate sum of squared residuals\n",
    "            ss_res += torch.sum((y_batch - y_pred_batch) ** 2).item()\n",
    "            \n",
    "            # Accumulate total sum of squares\n",
    "            ss_tot += torch.sum((y_batch - y_mean) ** 2).item()\n",
    "        \n",
    "        return 1.0 - ss_res / ss_tot\n",
    "\n",
    "\n",
    "# Example usage - DEBUG by o3\n",
    "torch.manual_seed(0)\n",
    "N, d, k = 1024, 64, 32\n",
    "X = torch.randn(N, d)\n",
    "true_W_quadratic = torch.randn(d + d * (d + 1) // 2 + 1, k) * 0.1  # bias + linear + quad\n",
    "true_W_linear = torch.randn(d + 1, k) * 0.1  # linear + bias\n",
    "# NOTE the first term of linear will be bias...\n",
    "true_W_linear_as_quadratic = torch.cat([true_W_linear, torch.zeros(d*(d+1)//2, k)], dim=0)\n",
    "fmap = QuadraticFeatureMap(include_bias=True, include_linear=True)\n",
    "Φ = fmap(X)\n",
    "print(\"phi shape:\", Φ.shape, f\"from bias={1} plus quadratic={d*(d+1)//2} + linear={d}\")\n",
    "y = Φ @ true_W_quadratic + 0.01 * torch.randn(N, k)  # synthetic targets\n",
    "y_linear = Φ @ true_W_linear_as_quadratic + 0.01 * torch.randn(N, k)  # synthetic targets\n",
    "\n",
    "probe = NonLinearProbe(fmap, reg_lambda=1e-3)\n",
    "probe_batched = NonLinearProbe(fmap, reg_lambda=1e-3)\n",
    "probe_on_linear = NonLinearProbe(fmap, reg_lambda=1e-3)\n",
    "probe.fit(X, y)\n",
    "probe_batched.fit_batched(X, y)\n",
    "probe_on_linear.fit(X, y_linear)\n",
    "print(\"R²:\", probe.r2(X, y))\n",
    "print(\"R² batched:\", probe_batched.r2(X, y))\n",
    "print(\"R² on linear targets:\", probe_on_linear.r2(X, y_linear)) # NOTE it should fit this too!\n",
    "print(\"R² batched on linear targets:\", probe_on_linear.r2_batched(X, y_linear))\n"
   ]
  },
  {
   "cell_type": "code",
   "execution_count": 3,
   "metadata": {},
   "outputs": [
    {
     "name": "stdout",
     "output_type": "stream",
     "text": [
      "Linear R²: 0.06380545902088575\n",
      "Linear R² on quadratic targets: 0.06379495898092746\n"
     ]
    }
   ],
   "source": [
    "# Create a linear feature map for comparison\n",
    "class LinearFeatureMap:\n",
    "    \"\"\"Linear feature expansion with optional bias.\n",
    "    \n",
    "    Given activations X ∈ ℝ^{N×d}, returns X with an optional bias term.\n",
    "\n",
    "    By Claude.\n",
    "    \"\"\"\n",
    "    \n",
    "    def __init__(self, include_bias: bool = True) -> None:\n",
    "        self.include_bias = include_bias\n",
    "    \n",
    "    def __call__(self, x: Tensor) -> Tensor:\n",
    "        \"\"\"Compute the linear feature map.\n",
    "        \n",
    "        Args:\n",
    "            x: (N, d) activations.\n",
    "        Returns:\n",
    "            Φ(x): (N, d+1) or (N, d) transformed feature matrix.\n",
    "        \"\"\"\n",
    "        if x.dim() != 2:\n",
    "            raise ValueError(\"Input must have shape (N, d)\")\n",
    "        N, d = x.shape\n",
    "        \n",
    "        if self.include_bias:\n",
    "            bias = torch.ones(N, 1, device=x.device, dtype=x.dtype)\n",
    "            return torch.cat([bias, x], dim=1)\n",
    "        else:\n",
    "            return x\n",
    "\n",
    "N, d, k = 1024, 64, 32\n",
    "X = torch.randn(N, d)\n",
    "true_W_linear = torch.randn(d + 1, k) * 0.1  # linear + bias\n",
    "linear_fmap = LinearFeatureMap()\n",
    "Φ_linear = linear_fmap(X)\n",
    "y_linear = Φ_linear @ true_W_linear + 0.01 * torch.randn(N, k)  # synthetic targets\n",
    "y_nonlinear = Φ @ true_W_quadratic + 0.01 * torch.randn(N, k)  # synthetic targets\n",
    "\n",
    "# Technically a LINEAR probe - show that it does not work on the quadratic case...\n",
    "linear_probe = NonLinearProbe(linear_fmap, reg_lambda=1e-3)\n",
    "linear_probe.fit(X, y)\n",
    "linear_probe_on_quad = NonLinearProbe(linear_fmap, reg_lambda=1e-3)\n",
    "linear_probe_on_quad.fit(X, y_nonlinear)\n",
    "linear_probe_on_quad.r2(X, y_nonlinear)\n",
    "print(\"Linear R²:\", linear_probe.r2(X, y))\n",
    "print(\"Linear R² on quadratic targets:\", linear_probe_on_quad.r2(X, y_nonlinear))"
   ]
  },
  {
   "cell_type": "code",
   "execution_count": 44,
   "metadata": {},
   "outputs": [
    {
     "name": "stderr",
     "output_type": "stream",
     "text": [
      "100%|██████████| 100/100 [00:13<00:00,  7.29it/s]\n"
     ]
    },
    {
     "name": "stdout",
     "output_type": "stream",
     "text": [
      "torch.Size([10000, 128, 768])\n",
      "torch.Size([1268818, 768])\n",
      "torch.Size([1268818, 768])\n"
     ]
    }
   ],
   "source": [
    "activations = get_activations(model_name=\"gpt2\", layer=6)\n",
    "print(activations.shape)"
   ]
  },
  {
   "cell_type": "code",
   "execution_count": 4,
   "metadata": {},
   "outputs": [],
   "source": [
    "def apply_sae(\n",
    "    activations: Float[Tensor, \"n_samples n_features\"],\n",
    "    sae: SAE,\n",
    "    batch_size: int,\n",
    ") -> Float[Tensor, \"n_samples n_features\"]:\n",
    "    recons = []\n",
    "    activations_device = activations.device\n",
    "    sae_device = next(p.device for p in sae.parameters())\n",
    "    for i in tqdm.trange(\n",
    "        0, activations.shape[0], batch_size, desc=\"SAE forward (application)\"\n",
    "    ):\n",
    "        j = min(i + batch_size, activations.shape[0])\n",
    "        activations_batch = activations[i:j]\n",
    "        activations_batch = activations_batch.to(sae_device)\n",
    "        recons.append(sae(activations_batch).to(activations_device))\n",
    "    for r in recons:\n",
    "        r.cpu() # TODO(Adriano) fking OOM\n",
    "    recons_pt = torch.cat(recons, dim=0)\n",
    "    assert recons_pt.shape == activations.shape\n",
    "    return recons_pt"
   ]
  },
  {
   "cell_type": "code",
   "execution_count": 46,
   "metadata": {},
   "outputs": [
    {
     "name": "stderr",
     "output_type": "stream",
     "text": [
      "/mnt/align3_drive/adrianoh/miniconda3/envs/llm-density/lib/python3.12/site-packages/sae_lens/sae.py:151: UserWarning: \n",
      "This SAE has non-empty model_from_pretrained_kwargs. \n",
      "For optimal performance, load the model like so:\n",
      "model = HookedSAETransformer.from_pretrained_no_processing(..., **cfg.model_from_pretrained_kwargs)\n",
      "  warnings.warn(\n",
      "SAE forward (application): 100%|██████████| 1240/1240 [00:02<00:00, 451.56it/s]\n"
     ]
    },
    {
     "name": "stdout",
     "output_type": "stream",
     "text": [
      "residuals shape: torch.Size([1268818, 768])\n"
     ]
    },
    {
     "name": "stderr",
     "output_type": "stream",
     "text": [
      "Fitting probe over batches (batch_size=15000): 100%|██████████| 85/85 [00:49<00:00,  1.72it/s]\n",
      "Computing R² over batches (batch_size=15000): 100%|██████████| 85/85 [00:09<00:00,  9.42it/s]\n"
     ]
    },
    {
     "name": "stdout",
     "output_type": "stream",
     "text": [
      "Quadratic probe held-out R²: 0.29060292904234497\n",
      "Linear probe held-out R²: 0.3715992409469595\n"
     ]
    }
   ],
   "source": [
    "# 1 · Get activations and SAE residuals (your existing pipeline).\n",
    "# NOTE: excludes BOS, EOS, etc...\n",
    "import gc\n",
    "try:\n",
    "    del acts\n",
    "except:\n",
    "    pass\n",
    "try:\n",
    "    del sae\n",
    "except:\n",
    "    pass\n",
    "try:\n",
    "    del recons\n",
    "except:\n",
    "    pass\n",
    "try:\n",
    "    del residuals\n",
    "except:\n",
    "    pass\n",
    "gc.collect()\n",
    "torch.cuda.empty_cache()\n",
    "########################################################################\n",
    "model_name = \"gpt2\"\n",
    "layer = 6\n",
    "acts = activations.detach().requires_grad_(False).cuda()  # (N, d)\n",
    "assert acts.ndim == 2, f\"acts.shape: {acts.shape}\"\n",
    "sae = get_sae(model_name, layer).cuda()                   # frozen SAE\n",
    "recons = apply_sae(acts, sae, batch_size=1024)            # (N, d)\n",
    "assert recons.ndim == 2, f\"recons.shape: {recons.shape}\"\n",
    "residuals = acts - recons                                 # (N, d)  ← target for the probe\n",
    "del recons # TODO(Adriano) avoid this if you want to predict from the result\n",
    "del sae\n",
    "########################################################################\n",
    "gc.collect()\n",
    "torch.cuda.empty_cache()\n",
    "print(\"residuals shape:\", residuals.shape)\n",
    "########################################################################\n",
    "\n",
    "# 2 · Instantiate probes (λ and feature cap are tunables).\n",
    "# Quadratic probe\n",
    "quad_fmap = QuadraticFeatureMap(max_quadratic_features=25_000)\n",
    "quad_probe = NonLinearProbe(quad_fmap, reg_lambda=1e-4, device=\"cuda\")\n",
    "\n",
    "# Linear probe for comparison\n",
    "linear_fmap = LinearFeatureMap(include_bias=True)\n",
    "linear_probe = NonLinearProbe(linear_fmap, reg_lambda=1e-4, device=\"cuda\")\n",
    "\n",
    "# 3 · Fit & evaluate both probes.\n",
    "quad_probe.fit(acts, residuals, batch_size=15_000)\n",
    "linear_probe.fit(acts, residuals)\n",
    "print(\"Quadratic probe held-out R²:\", quad_probe.r2(acts, residuals, batch_size=15_000)) # LOL IT SUCKS\n",
    "print(\"Linear probe held-out R²:\", linear_probe.r2(acts, residuals))"
   ]
  },
  {
   "cell_type": "code",
   "execution_count": 47,
   "metadata": {},
   "outputs": [
    {
     "name": "stderr",
     "output_type": "stream",
     "text": [
      "100%|██████████| 100/100 [00:13<00:00,  7.46it/s]\n"
     ]
    },
    {
     "name": "stdout",
     "output_type": "stream",
     "text": [
      "torch.Size([10000, 128, 768])\n"
     ]
    },
    {
     "name": "stderr",
     "output_type": "stream",
     "text": [
      " 38%|███▊      | 38/100 [00:04<00:08,  7.61it/s]\n"
     ]
    },
    {
     "ename": "KeyboardInterrupt",
     "evalue": "",
     "output_type": "error",
     "traceback": [
      "\u001b[31m---------------------------------------------------------------------------\u001b[39m",
      "\u001b[31mKeyboardInterrupt\u001b[39m                         Traceback (most recent call last)",
      "\u001b[36mCell\u001b[39m\u001b[36m \u001b[39m\u001b[32mIn[47]\u001b[39m\u001b[32m, line 29\u001b[39m\n\u001b[32m     27\u001b[39m torch.cuda.empty_cache()\n\u001b[32m     28\u001b[39m activations, tokens_is_special, _ = get_activations(model_name=\u001b[33m\"\u001b[39m\u001b[33mgpt2\u001b[39m\u001b[33m\"\u001b[39m, layer=\u001b[32m6\u001b[39m, return_raw=\u001b[38;5;28;01mTrue\u001b[39;00m)\n\u001b[32m---> \u001b[39m\u001b[32m29\u001b[39m activations_prev_layer, _, _ = \u001b[43mget_activations\u001b[49m\u001b[43m(\u001b[49m\u001b[43mmodel_name\u001b[49m\u001b[43m=\u001b[49m\u001b[33;43m\"\u001b[39;49m\u001b[33;43mgpt2\u001b[39;49m\u001b[33;43m\"\u001b[39;49m\u001b[43m,\u001b[49m\u001b[43m \u001b[49m\u001b[43mlayer\u001b[49m\u001b[43m=\u001b[49m\u001b[32;43m5\u001b[39;49m\u001b[43m,\u001b[49m\u001b[43m \u001b[49m\u001b[43mreturn_raw\u001b[49m\u001b[43m=\u001b[49m\u001b[38;5;28;43;01mTrue\u001b[39;49;00m\u001b[43m)\u001b[49m\n\u001b[32m     30\u001b[39m \u001b[38;5;66;03m# Exclude EOS/BOS\u001b[39;00m\n\u001b[32m     31\u001b[39m activations = activations[:, \u001b[32m1\u001b[39m:-\u001b[32m10\u001b[39m, :]\n",
      "\u001b[36mCell\u001b[39m\u001b[36m \u001b[39m\u001b[32mIn[40]\u001b[39m\u001b[32m, line 102\u001b[39m, in \u001b[36mget_activations\u001b[39m\u001b[34m(model_name, layer, return_raw, n_batch)\u001b[39m\n\u001b[32m    100\u001b[39m     \u001b[38;5;28;01mfor\u001b[39;00m i \u001b[38;5;129;01min\u001b[39;00m tqdm.trange(\u001b[32m0\u001b[39m, tokens.shape[\u001b[32m0\u001b[39m], batch_size):\n\u001b[32m    101\u001b[39m         j = \u001b[38;5;28mmin\u001b[39m(i + batch_size, tokens.shape[\u001b[32m0\u001b[39m])\n\u001b[32m--> \u001b[39m\u001b[32m102\u001b[39m         \u001b[43mmodel\u001b[49m\u001b[43m.\u001b[49m\u001b[43mforward\u001b[49m\u001b[43m(\u001b[49m\u001b[43mtokens\u001b[49m\u001b[43m[\u001b[49m\u001b[43mi\u001b[49m\u001b[43m:\u001b[49m\u001b[43mj\u001b[49m\u001b[43m]\u001b[49m\u001b[43m)\u001b[49m\n\u001b[32m    103\u001b[39m \u001b[38;5;28;01mfinally\u001b[39;00m:\n\u001b[32m    104\u001b[39m     handle.remove()\n",
      "\u001b[36mFile \u001b[39m\u001b[32m/mnt/align3_drive/adrianoh/miniconda3/envs/llm-density/lib/python3.12/site-packages/transformers/models/gpt2/modeling_gpt2.py:1062\u001b[39m, in \u001b[36mGPT2LMHeadModel.forward\u001b[39m\u001b[34m(self, input_ids, past_key_values, attention_mask, token_type_ids, position_ids, head_mask, inputs_embeds, encoder_hidden_states, encoder_attention_mask, labels, use_cache, output_attentions, output_hidden_states, return_dict, **kwargs)\u001b[39m\n\u001b[32m   1054\u001b[39m \u001b[38;5;250m\u001b[39m\u001b[33mr\u001b[39m\u001b[33;03m\"\"\"\u001b[39;00m\n\u001b[32m   1055\u001b[39m \u001b[33;03mlabels (`torch.LongTensor` of shape `(batch_size, sequence_length)`, *optional*):\u001b[39;00m\n\u001b[32m   1056\u001b[39m \u001b[33;03m    Labels for language modeling. Note that the labels **are shifted** inside the model, i.e. you can set\u001b[39;00m\n\u001b[32m   1057\u001b[39m \u001b[33;03m    `labels = input_ids` Indices are selected in `[-100, 0, ..., config.vocab_size]` All labels set to `-100`\u001b[39;00m\n\u001b[32m   1058\u001b[39m \u001b[33;03m    are ignored (masked), the loss is only computed for labels in `[0, ..., config.vocab_size]`\u001b[39;00m\n\u001b[32m   1059\u001b[39m \u001b[33;03m\"\"\"\u001b[39;00m\n\u001b[32m   1060\u001b[39m return_dict = return_dict \u001b[38;5;28;01mif\u001b[39;00m return_dict \u001b[38;5;129;01mis\u001b[39;00m \u001b[38;5;129;01mnot\u001b[39;00m \u001b[38;5;28;01mNone\u001b[39;00m \u001b[38;5;28;01melse\u001b[39;00m \u001b[38;5;28mself\u001b[39m.config.use_return_dict\n\u001b[32m-> \u001b[39m\u001b[32m1062\u001b[39m transformer_outputs = \u001b[38;5;28;43mself\u001b[39;49m\u001b[43m.\u001b[49m\u001b[43mtransformer\u001b[49m\u001b[43m(\u001b[49m\n\u001b[32m   1063\u001b[39m \u001b[43m    \u001b[49m\u001b[43minput_ids\u001b[49m\u001b[43m,\u001b[49m\n\u001b[32m   1064\u001b[39m \u001b[43m    \u001b[49m\u001b[43mpast_key_values\u001b[49m\u001b[43m=\u001b[49m\u001b[43mpast_key_values\u001b[49m\u001b[43m,\u001b[49m\n\u001b[32m   1065\u001b[39m \u001b[43m    \u001b[49m\u001b[43mattention_mask\u001b[49m\u001b[43m=\u001b[49m\u001b[43mattention_mask\u001b[49m\u001b[43m,\u001b[49m\n\u001b[32m   1066\u001b[39m \u001b[43m    \u001b[49m\u001b[43mtoken_type_ids\u001b[49m\u001b[43m=\u001b[49m\u001b[43mtoken_type_ids\u001b[49m\u001b[43m,\u001b[49m\n\u001b[32m   1067\u001b[39m \u001b[43m    \u001b[49m\u001b[43mposition_ids\u001b[49m\u001b[43m=\u001b[49m\u001b[43mposition_ids\u001b[49m\u001b[43m,\u001b[49m\n\u001b[32m   1068\u001b[39m \u001b[43m    \u001b[49m\u001b[43mhead_mask\u001b[49m\u001b[43m=\u001b[49m\u001b[43mhead_mask\u001b[49m\u001b[43m,\u001b[49m\n\u001b[32m   1069\u001b[39m \u001b[43m    \u001b[49m\u001b[43minputs_embeds\u001b[49m\u001b[43m=\u001b[49m\u001b[43minputs_embeds\u001b[49m\u001b[43m,\u001b[49m\n\u001b[32m   1070\u001b[39m \u001b[43m    \u001b[49m\u001b[43mencoder_hidden_states\u001b[49m\u001b[43m=\u001b[49m\u001b[43mencoder_hidden_states\u001b[49m\u001b[43m,\u001b[49m\n\u001b[32m   1071\u001b[39m \u001b[43m    \u001b[49m\u001b[43mencoder_attention_mask\u001b[49m\u001b[43m=\u001b[49m\u001b[43mencoder_attention_mask\u001b[49m\u001b[43m,\u001b[49m\n\u001b[32m   1072\u001b[39m \u001b[43m    \u001b[49m\u001b[43muse_cache\u001b[49m\u001b[43m=\u001b[49m\u001b[43muse_cache\u001b[49m\u001b[43m,\u001b[49m\n\u001b[32m   1073\u001b[39m \u001b[43m    \u001b[49m\u001b[43moutput_attentions\u001b[49m\u001b[43m=\u001b[49m\u001b[43moutput_attentions\u001b[49m\u001b[43m,\u001b[49m\n\u001b[32m   1074\u001b[39m \u001b[43m    \u001b[49m\u001b[43moutput_hidden_states\u001b[49m\u001b[43m=\u001b[49m\u001b[43moutput_hidden_states\u001b[49m\u001b[43m,\u001b[49m\n\u001b[32m   1075\u001b[39m \u001b[43m    \u001b[49m\u001b[43mreturn_dict\u001b[49m\u001b[43m=\u001b[49m\u001b[43mreturn_dict\u001b[49m\u001b[43m,\u001b[49m\n\u001b[32m   1076\u001b[39m \u001b[43m\u001b[49m\u001b[43m)\u001b[49m\n\u001b[32m   1077\u001b[39m hidden_states = transformer_outputs[\u001b[32m0\u001b[39m]\n\u001b[32m   1079\u001b[39m \u001b[38;5;66;03m# Set device for model parallelism\u001b[39;00m\n",
      "\u001b[36mFile \u001b[39m\u001b[32m/mnt/align3_drive/adrianoh/miniconda3/envs/llm-density/lib/python3.12/site-packages/torch/nn/modules/module.py:1736\u001b[39m, in \u001b[36mModule._wrapped_call_impl\u001b[39m\u001b[34m(self, *args, **kwargs)\u001b[39m\n\u001b[32m   1734\u001b[39m     \u001b[38;5;28;01mreturn\u001b[39;00m \u001b[38;5;28mself\u001b[39m._compiled_call_impl(*args, **kwargs)  \u001b[38;5;66;03m# type: ignore[misc]\u001b[39;00m\n\u001b[32m   1735\u001b[39m \u001b[38;5;28;01melse\u001b[39;00m:\n\u001b[32m-> \u001b[39m\u001b[32m1736\u001b[39m     \u001b[38;5;28;01mreturn\u001b[39;00m \u001b[38;5;28;43mself\u001b[39;49m\u001b[43m.\u001b[49m\u001b[43m_call_impl\u001b[49m\u001b[43m(\u001b[49m\u001b[43m*\u001b[49m\u001b[43margs\u001b[49m\u001b[43m,\u001b[49m\u001b[43m \u001b[49m\u001b[43m*\u001b[49m\u001b[43m*\u001b[49m\u001b[43mkwargs\u001b[49m\u001b[43m)\u001b[49m\n",
      "\u001b[36mFile \u001b[39m\u001b[32m/mnt/align3_drive/adrianoh/miniconda3/envs/llm-density/lib/python3.12/site-packages/torch/nn/modules/module.py:1747\u001b[39m, in \u001b[36mModule._call_impl\u001b[39m\u001b[34m(self, *args, **kwargs)\u001b[39m\n\u001b[32m   1742\u001b[39m \u001b[38;5;66;03m# If we don't have any hooks, we want to skip the rest of the logic in\u001b[39;00m\n\u001b[32m   1743\u001b[39m \u001b[38;5;66;03m# this function, and just call forward.\u001b[39;00m\n\u001b[32m   1744\u001b[39m \u001b[38;5;28;01mif\u001b[39;00m \u001b[38;5;129;01mnot\u001b[39;00m (\u001b[38;5;28mself\u001b[39m._backward_hooks \u001b[38;5;129;01mor\u001b[39;00m \u001b[38;5;28mself\u001b[39m._backward_pre_hooks \u001b[38;5;129;01mor\u001b[39;00m \u001b[38;5;28mself\u001b[39m._forward_hooks \u001b[38;5;129;01mor\u001b[39;00m \u001b[38;5;28mself\u001b[39m._forward_pre_hooks\n\u001b[32m   1745\u001b[39m         \u001b[38;5;129;01mor\u001b[39;00m _global_backward_pre_hooks \u001b[38;5;129;01mor\u001b[39;00m _global_backward_hooks\n\u001b[32m   1746\u001b[39m         \u001b[38;5;129;01mor\u001b[39;00m _global_forward_hooks \u001b[38;5;129;01mor\u001b[39;00m _global_forward_pre_hooks):\n\u001b[32m-> \u001b[39m\u001b[32m1747\u001b[39m     \u001b[38;5;28;01mreturn\u001b[39;00m \u001b[43mforward_call\u001b[49m\u001b[43m(\u001b[49m\u001b[43m*\u001b[49m\u001b[43margs\u001b[49m\u001b[43m,\u001b[49m\u001b[43m \u001b[49m\u001b[43m*\u001b[49m\u001b[43m*\u001b[49m\u001b[43mkwargs\u001b[49m\u001b[43m)\u001b[49m\n\u001b[32m   1749\u001b[39m result = \u001b[38;5;28;01mNone\u001b[39;00m\n\u001b[32m   1750\u001b[39m called_always_called_hooks = \u001b[38;5;28mset\u001b[39m()\n",
      "\u001b[36mFile \u001b[39m\u001b[32m/mnt/align3_drive/adrianoh/miniconda3/envs/llm-density/lib/python3.12/site-packages/transformers/models/gpt2/modeling_gpt2.py:922\u001b[39m, in \u001b[36mGPT2Model.forward\u001b[39m\u001b[34m(self, input_ids, past_key_values, attention_mask, token_type_ids, position_ids, head_mask, inputs_embeds, encoder_hidden_states, encoder_attention_mask, use_cache, output_attentions, output_hidden_states, return_dict)\u001b[39m\n\u001b[32m    910\u001b[39m     outputs = \u001b[38;5;28mself\u001b[39m._gradient_checkpointing_func(\n\u001b[32m    911\u001b[39m         block.\u001b[34m__call__\u001b[39m,\n\u001b[32m    912\u001b[39m         hidden_states,\n\u001b[32m   (...)\u001b[39m\u001b[32m    919\u001b[39m         output_attentions,\n\u001b[32m    920\u001b[39m     )\n\u001b[32m    921\u001b[39m \u001b[38;5;28;01melse\u001b[39;00m:\n\u001b[32m--> \u001b[39m\u001b[32m922\u001b[39m     outputs = \u001b[43mblock\u001b[49m\u001b[43m(\u001b[49m\n\u001b[32m    923\u001b[39m \u001b[43m        \u001b[49m\u001b[43mhidden_states\u001b[49m\u001b[43m,\u001b[49m\n\u001b[32m    924\u001b[39m \u001b[43m        \u001b[49m\u001b[43mlayer_past\u001b[49m\u001b[43m=\u001b[49m\u001b[43mlayer_past\u001b[49m\u001b[43m,\u001b[49m\n\u001b[32m    925\u001b[39m \u001b[43m        \u001b[49m\u001b[43mattention_mask\u001b[49m\u001b[43m=\u001b[49m\u001b[43mattention_mask\u001b[49m\u001b[43m,\u001b[49m\n\u001b[32m    926\u001b[39m \u001b[43m        \u001b[49m\u001b[43mhead_mask\u001b[49m\u001b[43m=\u001b[49m\u001b[43mhead_mask\u001b[49m\u001b[43m[\u001b[49m\u001b[43mi\u001b[49m\u001b[43m]\u001b[49m\u001b[43m,\u001b[49m\n\u001b[32m    927\u001b[39m \u001b[43m        \u001b[49m\u001b[43mencoder_hidden_states\u001b[49m\u001b[43m=\u001b[49m\u001b[43mencoder_hidden_states\u001b[49m\u001b[43m,\u001b[49m\n\u001b[32m    928\u001b[39m \u001b[43m        \u001b[49m\u001b[43mencoder_attention_mask\u001b[49m\u001b[43m=\u001b[49m\u001b[43mencoder_attention_mask\u001b[49m\u001b[43m,\u001b[49m\n\u001b[32m    929\u001b[39m \u001b[43m        \u001b[49m\u001b[43muse_cache\u001b[49m\u001b[43m=\u001b[49m\u001b[43muse_cache\u001b[49m\u001b[43m,\u001b[49m\n\u001b[32m    930\u001b[39m \u001b[43m        \u001b[49m\u001b[43moutput_attentions\u001b[49m\u001b[43m=\u001b[49m\u001b[43moutput_attentions\u001b[49m\u001b[43m,\u001b[49m\n\u001b[32m    931\u001b[39m \u001b[43m    \u001b[49m\u001b[43m)\u001b[49m\n\u001b[32m    933\u001b[39m hidden_states = outputs[\u001b[32m0\u001b[39m]\n\u001b[32m    934\u001b[39m \u001b[38;5;28;01mif\u001b[39;00m use_cache \u001b[38;5;129;01mis\u001b[39;00m \u001b[38;5;28;01mTrue\u001b[39;00m:\n",
      "\u001b[36mFile \u001b[39m\u001b[32m/mnt/align3_drive/adrianoh/miniconda3/envs/llm-density/lib/python3.12/site-packages/torch/nn/modules/module.py:1736\u001b[39m, in \u001b[36mModule._wrapped_call_impl\u001b[39m\u001b[34m(self, *args, **kwargs)\u001b[39m\n\u001b[32m   1734\u001b[39m     \u001b[38;5;28;01mreturn\u001b[39;00m \u001b[38;5;28mself\u001b[39m._compiled_call_impl(*args, **kwargs)  \u001b[38;5;66;03m# type: ignore[misc]\u001b[39;00m\n\u001b[32m   1735\u001b[39m \u001b[38;5;28;01melse\u001b[39;00m:\n\u001b[32m-> \u001b[39m\u001b[32m1736\u001b[39m     \u001b[38;5;28;01mreturn\u001b[39;00m \u001b[38;5;28;43mself\u001b[39;49m\u001b[43m.\u001b[49m\u001b[43m_call_impl\u001b[49m\u001b[43m(\u001b[49m\u001b[43m*\u001b[49m\u001b[43margs\u001b[49m\u001b[43m,\u001b[49m\u001b[43m \u001b[49m\u001b[43m*\u001b[49m\u001b[43m*\u001b[49m\u001b[43mkwargs\u001b[49m\u001b[43m)\u001b[49m\n",
      "\u001b[36mFile \u001b[39m\u001b[32m/mnt/align3_drive/adrianoh/miniconda3/envs/llm-density/lib/python3.12/site-packages/torch/nn/modules/module.py:1844\u001b[39m, in \u001b[36mModule._call_impl\u001b[39m\u001b[34m(self, *args, **kwargs)\u001b[39m\n\u001b[32m   1841\u001b[39m     \u001b[38;5;28;01mreturn\u001b[39;00m inner()\n\u001b[32m   1843\u001b[39m \u001b[38;5;28;01mtry\u001b[39;00m:\n\u001b[32m-> \u001b[39m\u001b[32m1844\u001b[39m     \u001b[38;5;28;01mreturn\u001b[39;00m \u001b[43minner\u001b[49m\u001b[43m(\u001b[49m\u001b[43m)\u001b[49m\n\u001b[32m   1845\u001b[39m \u001b[38;5;28;01mexcept\u001b[39;00m \u001b[38;5;167;01mException\u001b[39;00m:\n\u001b[32m   1846\u001b[39m     \u001b[38;5;66;03m# run always called hooks if they have not already been run\u001b[39;00m\n\u001b[32m   1847\u001b[39m     \u001b[38;5;66;03m# For now only forward hooks have the always_call option but perhaps\u001b[39;00m\n\u001b[32m   1848\u001b[39m     \u001b[38;5;66;03m# this functionality should be added to full backward hooks as well.\u001b[39;00m\n\u001b[32m   1849\u001b[39m     \u001b[38;5;28;01mfor\u001b[39;00m hook_id, hook \u001b[38;5;129;01min\u001b[39;00m _global_forward_hooks.items():\n",
      "\u001b[36mFile \u001b[39m\u001b[32m/mnt/align3_drive/adrianoh/miniconda3/envs/llm-density/lib/python3.12/site-packages/torch/nn/modules/module.py:1803\u001b[39m, in \u001b[36mModule._call_impl.<locals>.inner\u001b[39m\u001b[34m()\u001b[39m\n\u001b[32m   1801\u001b[39m     hook_result = hook(\u001b[38;5;28mself\u001b[39m, args, kwargs, result)\n\u001b[32m   1802\u001b[39m \u001b[38;5;28;01melse\u001b[39;00m:\n\u001b[32m-> \u001b[39m\u001b[32m1803\u001b[39m     hook_result = \u001b[43mhook\u001b[49m\u001b[43m(\u001b[49m\u001b[38;5;28;43mself\u001b[39;49m\u001b[43m,\u001b[49m\u001b[43m \u001b[49m\u001b[43margs\u001b[49m\u001b[43m,\u001b[49m\u001b[43m \u001b[49m\u001b[43mresult\u001b[49m\u001b[43m)\u001b[49m\n\u001b[32m   1805\u001b[39m \u001b[38;5;28;01mif\u001b[39;00m hook_result \u001b[38;5;129;01mis\u001b[39;00m \u001b[38;5;129;01mnot\u001b[39;00m \u001b[38;5;28;01mNone\u001b[39;00m:\n\u001b[32m   1806\u001b[39m     result = hook_result\n",
      "\u001b[36mCell\u001b[39m\u001b[36m \u001b[39m\u001b[32mIn[40]\u001b[39m\u001b[32m, line 90\u001b[39m, in \u001b[36mget_activations.<locals>.gather_target_act_hook\u001b[39m\u001b[34m(mod, inputs, outputs)\u001b[39m\n\u001b[32m     88\u001b[39m \u001b[38;5;28;01massert\u001b[39;00m \u001b[38;5;28misinstance\u001b[39m(outputs, \u001b[38;5;28mtuple\u001b[39m)\n\u001b[32m     89\u001b[39m \u001b[38;5;28;01massert\u001b[39;00m \u001b[38;5;28misinstance\u001b[39m(outputs[\u001b[32m0\u001b[39m], torch.Tensor), \u001b[33mf\u001b[39m\u001b[33m\"\u001b[39m\u001b[33mExpected a single tensor output, got \u001b[39m\u001b[38;5;132;01m{\u001b[39;00moutputs\u001b[38;5;132;01m}\u001b[39;00m\u001b[33m\"\u001b[39m \u001b[38;5;66;03m# fmt: skip\u001b[39;00m\n\u001b[32m---> \u001b[39m\u001b[32m90\u001b[39m collected_outputs.append(\u001b[43moutputs\u001b[49m\u001b[43m[\u001b[49m\u001b[32;43m0\u001b[39;49m\u001b[43m]\u001b[49m\u001b[43m.\u001b[49m\u001b[43mdetach\u001b[49m\u001b[43m(\u001b[49m\u001b[43m)\u001b[49m\u001b[43m.\u001b[49m\u001b[43mrequires_grad_\u001b[49m\u001b[43m(\u001b[49m\u001b[38;5;28;43;01mFalse\u001b[39;49;00m\u001b[43m)\u001b[49m\u001b[43m.\u001b[49m\u001b[43mcpu\u001b[49m\u001b[43m(\u001b[49m\u001b[43m)\u001b[49m)\n\u001b[32m     91\u001b[39m \u001b[38;5;28;01mreturn\u001b[39;00m outputs\n",
      "\u001b[31mKeyboardInterrupt\u001b[39m: "
     ]
    }
   ],
   "source": [
    "# Make sure we have some memory\n",
    "try:\n",
    "    del activations\n",
    "except:\n",
    "    pass\n",
    "try:\n",
    "    del residuals\n",
    "except:\n",
    "    pass\n",
    "try:\n",
    "    del acts\n",
    "except:\n",
    "    pass\n",
    "try:\n",
    "    del sliding_activations\n",
    "except:\n",
    "    pass\n",
    "try:\n",
    "    del sliding_residuals\n",
    "except:\n",
    "    pass\n",
    "try:\n",
    "    del residuals_last\n",
    "except:\n",
    "    pass\n",
    "gc.collect()\n",
    "torch.cuda.empty_cache()\n",
    "activations, tokens_is_special, _ = get_activations(model_name=\"gpt2\", layer=6, return_raw=True)\n",
    "activations_prev_layer, _, _ = get_activations(model_name=\"gpt2\", layer=5, return_raw=True)\n",
    "# Exclude EOS/BOS\n",
    "activations = activations[:, 1:-10, :]\n",
    "activations_prev_layer = activations_prev_layer[:, 1:-10, :]\n",
    "#\n",
    "batch, seq, d_model = activations.shape\n",
    "sae = get_sae(model_name=\"gpt2\", layer=6).cuda()\n",
    "recons = apply_sae(activations.reshape(batch * seq, d_model), sae, batch_size=1024)\n",
    "recons = recons.reshape(batch, seq, d_model)\n",
    "residuals = activations - recons"
   ]
  },
  {
   "cell_type": "code",
   "execution_count": 25,
   "metadata": {},
   "outputs": [
    {
     "name": "stdout",
     "output_type": "stream",
     "text": [
      "Original activations shape: torch.Size([10000, 117, 768])\n",
      "Sliding window activations shape: torch.Size([980000, 15360])\n",
      "Expected number of windows: 980000\n"
     ]
    }
   ],
   "source": [
    "import einops\n",
    "def create_sliding_windows(tensor, window_size):\n",
    "    \"\"\"\n",
    "    By Claude, look at https://pytorch.org/docs/stable/generated/torch.nn.Unfold.html\n",
    "    \"\"\"\n",
    "    batch, seq, d_model = tensor.shape\n",
    "    \n",
    "    # Create windows along the sequence dimension\n",
    "    # Channel dimension should not be touched\n",
    "    # 1D spatial dimension\n",
    "    # tensor = einops.rearrange(tensor, \"b s d -> b d s\")\n",
    "    windows = tensor.unfold(size=window_size, step=1, dimension=1)\n",
    "    expected_shape = (batch, seq - window_size + 1, d_model, window_size)\n",
    "    assert windows.shape == expected_shape, f\"windows.shape: {windows.shape}, expected_shape: {expected_shape}\" # fmt: skip\n",
    "    windows = einops.rearrange(windows, \"b s d w -> (b s) (d w)\")\n",
    "    assert windows.shape == (batch * (seq - window_size + 1), d_model * window_size), f\"windows.shape: {windows.shape}\" # fmt: skip\n",
    "    return windows\n",
    "window_size = 20\n",
    "sliding_activations = create_sliding_windows(activations, window_size)\n",
    "\n",
    "print(f\"Original activations shape: {activations.shape}\")\n",
    "print(f\"Sliding window activations shape: {sliding_activations.shape}\")\n",
    "print(f\"Expected number of windows: {activations.shape[0] * (activations.shape[1] - window_size + 1)}\")\n"
   ]
  },
  {
   "cell_type": "code",
   "execution_count": 26,
   "metadata": {},
   "outputs": [
    {
     "name": "stdout",
     "output_type": "stream",
     "text": [
      "residuals_last shape: torch.Size([980000, 15360])\n",
      "activations_prev_layer_last shape: torch.Size([980000, 15360])\n"
     ]
    }
   ],
   "source": [
    "residuals_last = create_sliding_windows(residuals, window_size)\n",
    "activations_prev_layer_last = create_sliding_windows(activations_prev_layer, window_size)\n",
    "print(\"residuals_last shape:\", residuals_last.shape)\n",
    "print(\"activations_prev_layer_last shape:\", activations_prev_layer_last.shape)"
   ]
  },
  {
   "cell_type": "code",
   "execution_count": 27,
   "metadata": {},
   "outputs": [
    {
     "name": "stdout",
     "output_type": "stream",
     "text": [
      "residuals_last shape: torch.Size([980000, 768, 20])\n",
      "activations_prev_layer_last shape: torch.Size([980000, 768, 20])\n"
     ]
    }
   ],
   "source": [
    "residuals_last = residuals_last.reshape(-1, d_model, window_size)\n",
    "activations_prev_layer_last = activations_prev_layer_last.reshape(-1, d_model, window_size)\n",
    "print(\"residuals_last shape:\", residuals_last.shape)\n",
    "print(\"activations_prev_layer_last shape:\", activations_prev_layer_last.shape)"
   ]
  },
  {
   "cell_type": "code",
   "execution_count": 28,
   "metadata": {},
   "outputs": [
    {
     "name": "stdout",
     "output_type": "stream",
     "text": [
      "residuals_last shape: torch.Size([980000, 768])\n",
      "activations_prev_layer_last shape: torch.Size([980000, 768])\n"
     ]
    }
   ],
   "source": [
    "residuals_last = residuals_last[:, :, -1]\n",
    "activations_prev_layer_last = activations_prev_layer_last[:, :, -1]\n",
    "print(\"residuals_last shape:\", residuals_last.shape) # this is what I want\n",
    "print(\"activations_prev_layer_last shape:\", activations_prev_layer_last.shape) # this is what I want"
   ]
  },
  {
   "cell_type": "code",
   "execution_count": 29,
   "metadata": {},
   "outputs": [
    {
     "name": "stdout",
     "output_type": "stream",
     "text": [
      "X shape: torch.Size([980000, 16128])\n",
      "y shape: torch.Size([980000, 768])\n"
     ]
    },
    {
     "name": "stderr",
     "output_type": "stream",
     "text": [
      "Fitting probe over batches (batch_size=1024): 100%|██████████| 958/958 [00:14<00:00, 66.99it/s]\n",
      "Computing R² over batches (batch_size=1024): 100%|██████████| 958/958 [00:00<00:00, 996.18it/s]\n",
      " 14%|█▍        | 1/7 [00:30<03:01, 30.29s/it]"
     ]
    },
    {
     "name": "stdout",
     "output_type": "stream",
     "text": [
      "R² score for linear probe on residuals: 0.4907\n"
     ]
    },
    {
     "name": "stderr",
     "output_type": "stream",
     "text": [
      "Fitting probe over batches (batch_size=1024): 100%|██████████| 958/958 [00:14<00:00, 66.69it/s]\n",
      "Computing R² over batches (batch_size=1024): 100%|██████████| 958/958 [00:00<00:00, 1000.31it/s]\n",
      " 29%|██▊       | 2/7 [00:59<02:29, 29.95s/it]"
     ]
    },
    {
     "name": "stdout",
     "output_type": "stream",
     "text": [
      "R² score for linear probe on residuals: 0.4907\n"
     ]
    },
    {
     "name": "stderr",
     "output_type": "stream",
     "text": [
      "Fitting probe over batches (batch_size=1024): 100%|██████████| 958/958 [00:14<00:00, 66.51it/s]\n",
      "Computing R² over batches (batch_size=1024): 100%|██████████| 958/958 [00:00<00:00, 1000.01it/s]\n",
      " 43%|████▎     | 3/7 [01:51<02:38, 39.57s/it]"
     ]
    },
    {
     "name": "stdout",
     "output_type": "stream",
     "text": [
      "R² score for linear probe on residuals: 0.4907\n"
     ]
    },
    {
     "name": "stderr",
     "output_type": "stream",
     "text": [
      "Fitting probe over batches (batch_size=1024): 100%|██████████| 958/958 [00:14<00:00, 66.85it/s]\n",
      "Computing R² over batches (batch_size=1024): 100%|██████████| 958/958 [00:00<00:00, 1004.02it/s]\n",
      " 57%|█████▋    | 4/7 [02:20<01:46, 35.54s/it]"
     ]
    },
    {
     "name": "stdout",
     "output_type": "stream",
     "text": [
      "R² score for linear probe on residuals: 0.4907\n"
     ]
    },
    {
     "name": "stderr",
     "output_type": "stream",
     "text": [
      "Fitting probe over batches (batch_size=1024): 100%|██████████| 958/958 [00:14<00:00, 66.59it/s]\n",
      "Computing R² over batches (batch_size=1024): 100%|██████████| 958/958 [00:00<00:00, 994.52it/s]\n",
      " 71%|███████▏  | 5/7 [02:49<01:06, 33.30s/it]"
     ]
    },
    {
     "name": "stdout",
     "output_type": "stream",
     "text": [
      "R² score for linear probe on residuals: 0.4907\n"
     ]
    },
    {
     "name": "stderr",
     "output_type": "stream",
     "text": [
      "Fitting probe over batches (batch_size=1024): 100%|██████████| 958/958 [00:14<00:00, 66.45it/s]\n",
      "Computing R² over batches (batch_size=1024): 100%|██████████| 958/958 [00:00<00:00, 998.24it/s]\n",
      " 86%|████████▌ | 6/7 [03:21<00:32, 32.72s/it]"
     ]
    },
    {
     "name": "stdout",
     "output_type": "stream",
     "text": [
      "R² score for linear probe on residuals: 0.4907\n"
     ]
    },
    {
     "name": "stderr",
     "output_type": "stream",
     "text": [
      "Fitting probe over batches (batch_size=1024): 100%|██████████| 958/958 [00:14<00:00, 66.54it/s]\n",
      "Computing R² over batches (batch_size=1024): 100%|██████████| 958/958 [00:00<00:00, 1008.49it/s]\n",
      "100%|██████████| 7/7 [03:53<00:00, 33.35s/it]"
     ]
    },
    {
     "name": "stdout",
     "output_type": "stream",
     "text": [
      "R² score for linear probe on residuals: 0.4907\n"
     ]
    },
    {
     "name": "stderr",
     "output_type": "stream",
     "text": [
      "\n"
     ]
    }
   ],
   "source": [
    "gc.collect()\n",
    "torch.cuda.empty_cache()\n",
    "batch_train, d5_model = sliding_activations.shape\n",
    "X = torch.cat([sliding_activations, activations_prev_layer_last], dim=1)\n",
    "y = residuals_last\n",
    "print(\"X shape:\", X.shape)\n",
    "print(\"y shape:\", y.shape)\n",
    "\n",
    "reg_lambdas = [1e-4, 5e-4, 1e-3, 5e-3, 1e-2, 5e-2, 1e-1]\n",
    "r2_scores = []\n",
    "for reg_lambda in tqdm.tqdm(reg_lambdas):\n",
    "    # Cleanup\n",
    "    gc.collect()\n",
    "    torch.cuda.empty_cache()\n",
    "    # Create a linear feature map for our probe\n",
    "    linear_fmap = LinearFeatureMap(include_bias=True)\n",
    "    linear_probe = NonLinearProbe(linear_fmap, reg_lambda=reg_lambda, device=\"cuda\")\n",
    "    # Fit the probe\n",
    "    linear_probe.fit(X, y, batch_size=1024)\n",
    "    # Calculate R² score to evaluate how well the probe predicts residuals\n",
    "    r2_score = linear_probe.r2_batched(X, y, batch_size=1024)\n",
    "    print(f\"R² score for linear probe on residuals: {r2_score:.4f}\")\n",
    "    r2_scores.append(r2_score)"
   ]
  },
  {
   "cell_type": "code",
   "execution_count": 30,
   "metadata": {},
   "outputs": [
    {
     "data": {
      "image/png": "[encoded data removed]",
      "text/plain": [
       "<Figure size 1000x600 with 1 Axes>"
      ]
     },
     "metadata": {},
     "output_type": "display_data"
    }
   ],
   "source": [
    "# Plot R² scores as a function of regularization lambda\n",
    "import matplotlib.pyplot as plt\n",
    "\n",
    "plt.figure(figsize=(10, 6))\n",
    "plt.plot(reg_lambdas, r2_scores, marker='o', linestyle='-', linewidth=2)\n",
    "plt.xscale('log')  # Use log scale for x-axis since lambdas span multiple orders of magnitude\n",
    "plt.xlabel('Regularization Lambda', fontsize=12)\n",
    "plt.ylabel('R² Score', fontsize=12)\n",
    "plt.title('R² Score vs Regularization Strength', fontsize=14)\n",
    "plt.grid(True, which=\"both\", ls=\"--\", alpha=0.7)\n",
    "plt.tight_layout()\n",
    "plt.show()\n"
   ]
  },
  {
   "cell_type": "code",
   "execution_count": 5,
   "metadata": {},
   "outputs": [
    {
     "name": "stderr",
     "output_type": "stream",
     "text": [
      "Loading checkpoint shards: 100%|██████████| 3/3 [00:02<00:00,  1.21it/s]\n",
      "100%|██████████| 100/100 [04:35<00:00,  2.76s/it]\n"
     ]
    },
    {
     "name": "stdout",
     "output_type": "stream",
     "text": [
      "torch.Size([10000, 128, 2304])\n"
     ]
    },
    {
     "name": "stderr",
     "output_type": "stream",
     "text": [
      "Loading checkpoint shards: 100%|██████████| 3/3 [00:02<00:00,  1.35it/s]\n",
      " 64%|██████▍   | 64/100 [02:57<01:39,  2.77s/it]\n"
     ]
    },
    {
     "ename": "KeyboardInterrupt",
     "evalue": "",
     "output_type": "error",
     "traceback": [
      "\u001b[31m---------------------------------------------------------------------------\u001b[39m",
      "\u001b[31mKeyboardInterrupt\u001b[39m                         Traceback (most recent call last)",
      "\u001b[36mCell\u001b[39m\u001b[36m \u001b[39m\u001b[32mIn[5]\u001b[39m\u001b[32m, line 78\u001b[39m\n\u001b[32m     74\u001b[39m     \u001b[38;5;28;01mreturn\u001b[39;00m r2_scores\n\u001b[32m     77\u001b[39m model_name = \u001b[33m\"\u001b[39m\u001b[33mgoogle/gemma-2-2b\u001b[39m\u001b[33m\"\u001b[39m\n\u001b[32m---> \u001b[39m\u001b[32m78\u001b[39m r2s = \u001b[43mget_sliding_windows_r2\u001b[49m\u001b[43m(\u001b[49m\u001b[43mmodel_name\u001b[49m\u001b[43m,\u001b[49m\u001b[43m \u001b[49m\u001b[32;43m20\u001b[39;49m\u001b[43m,\u001b[49m\u001b[43m \u001b[49m\u001b[43mwindow_sizes\u001b[49m\u001b[43m,\u001b[49m\u001b[43m \u001b[49m\u001b[43mreg_lambdas\u001b[49m\u001b[43m)\u001b[49m\n\u001b[32m     79\u001b[39m \u001b[38;5;28mprint\u001b[39m(r2s)\n\u001b[32m     80\u001b[39m \u001b[38;5;28;01mwith\u001b[39;00m \u001b[38;5;28mopen\u001b[39m(\u001b[33m\"\u001b[39m\u001b[33mr2s.json\u001b[39m\u001b[33m\"\u001b[39m, \u001b[33m\"\u001b[39m\u001b[33mw\u001b[39m\u001b[33m\"\u001b[39m) \u001b[38;5;28;01mas\u001b[39;00m f:\n",
      "\u001b[36mCell\u001b[39m\u001b[36m \u001b[39m\u001b[32mIn[5]\u001b[39m\u001b[32m, line 20\u001b[39m, in \u001b[36mget_sliding_windows_r2\u001b[39m\u001b[34m(model_name, layer, window_sizes, reg_lambdas, use_recons)\u001b[39m\n\u001b[32m     17\u001b[39m \u001b[38;5;28;01mdef\u001b[39;00m\u001b[38;5;250m \u001b[39m\u001b[34mget_sliding_windows_r2\u001b[39m(model_name: \u001b[38;5;28mstr\u001b[39m, layer: \u001b[38;5;28mint\u001b[39m, window_sizes: \u001b[38;5;28mlist\u001b[39m[\u001b[38;5;28mint\u001b[39m], reg_lambdas: \u001b[38;5;28mlist\u001b[39m[\u001b[38;5;28mfloat\u001b[39m], use_recons: \u001b[38;5;28mbool\u001b[39m = \u001b[38;5;28;01mTrue\u001b[39;00m) -> \u001b[38;5;28mlist\u001b[39m[\u001b[38;5;28mfloat\u001b[39m]:\n\u001b[32m     18\u001b[39m     \u001b[38;5;66;03m#### 1. GET ACTIVATIONS ####\u001b[39;00m\n\u001b[32m     19\u001b[39m     activations, _, _ = get_activations(model_name=model_name, layer=\u001b[32m20\u001b[39m, return_raw=\u001b[38;5;28;01mTrue\u001b[39;00m)\u001b[38;5;66;03m#, n_batch=100)\u001b[39;00m\n\u001b[32m---> \u001b[39m\u001b[32m20\u001b[39m     activations_prev_layer, _, _ = \u001b[43mget_activations\u001b[49m\u001b[43m(\u001b[49m\u001b[43mmodel_name\u001b[49m\u001b[43m=\u001b[49m\u001b[43mmodel_name\u001b[49m\u001b[43m,\u001b[49m\u001b[43m \u001b[49m\u001b[43mlayer\u001b[49m\u001b[43m=\u001b[49m\u001b[32;43m21\u001b[39;49m\u001b[43m,\u001b[49m\u001b[43m \u001b[49m\u001b[43mreturn_raw\u001b[49m\u001b[43m=\u001b[49m\u001b[38;5;28;43;01mTrue\u001b[39;49;00m\u001b[43m)\u001b[49m\u001b[38;5;66;03m#, n_batch=100)\u001b[39;00m\n\u001b[32m     21\u001b[39m     \u001b[38;5;66;03m# Exclude EOS/BOS\u001b[39;00m\n\u001b[32m     22\u001b[39m     activations = activations[:, \u001b[32m1\u001b[39m:-\u001b[32m10\u001b[39m, :]\n",
      "\u001b[36mCell\u001b[39m\u001b[36m \u001b[39m\u001b[32mIn[1]\u001b[39m\u001b[32m, line 102\u001b[39m, in \u001b[36mget_activations\u001b[39m\u001b[34m(model_name, layer, return_raw, n_batch)\u001b[39m\n\u001b[32m    100\u001b[39m     \u001b[38;5;28;01mfor\u001b[39;00m i \u001b[38;5;129;01min\u001b[39;00m tqdm.trange(\u001b[32m0\u001b[39m, tokens.shape[\u001b[32m0\u001b[39m], batch_size):\n\u001b[32m    101\u001b[39m         j = \u001b[38;5;28mmin\u001b[39m(i + batch_size, tokens.shape[\u001b[32m0\u001b[39m])\n\u001b[32m--> \u001b[39m\u001b[32m102\u001b[39m         \u001b[43mmodel\u001b[49m\u001b[43m.\u001b[49m\u001b[43mforward\u001b[49m\u001b[43m(\u001b[49m\u001b[43mtokens\u001b[49m\u001b[43m[\u001b[49m\u001b[43mi\u001b[49m\u001b[43m:\u001b[49m\u001b[43mj\u001b[49m\u001b[43m]\u001b[49m\u001b[43m)\u001b[49m\n\u001b[32m    103\u001b[39m \u001b[38;5;28;01mfinally\u001b[39;00m:\n\u001b[32m    104\u001b[39m     handle.remove()\n",
      "\u001b[36mFile \u001b[39m\u001b[32m/mnt/align3_drive/adrianoh/miniconda3/envs/llm-density/lib/python3.12/site-packages/transformers/utils/generic.py:965\u001b[39m, in \u001b[36mcan_return_tuple.<locals>.wrapper\u001b[39m\u001b[34m(self, *args, **kwargs)\u001b[39m\n\u001b[32m    962\u001b[39m     set_attribute_for_modules(\u001b[38;5;28mself\u001b[39m, \u001b[33m\"\u001b[39m\u001b[33m_is_top_level_module\u001b[39m\u001b[33m\"\u001b[39m, \u001b[38;5;28;01mFalse\u001b[39;00m)\n\u001b[32m    964\u001b[39m \u001b[38;5;28;01mtry\u001b[39;00m:\n\u001b[32m--> \u001b[39m\u001b[32m965\u001b[39m     output = \u001b[43mfunc\u001b[49m\u001b[43m(\u001b[49m\u001b[38;5;28;43mself\u001b[39;49m\u001b[43m,\u001b[49m\u001b[43m \u001b[49m\u001b[43m*\u001b[49m\u001b[43margs\u001b[49m\u001b[43m,\u001b[49m\u001b[43m \u001b[49m\u001b[43m*\u001b[49m\u001b[43m*\u001b[49m\u001b[43mkwargs\u001b[49m\u001b[43m)\u001b[49m\n\u001b[32m    966\u001b[39m     \u001b[38;5;28;01mif\u001b[39;00m is_requested_to_return_tuple \u001b[38;5;129;01mor\u001b[39;00m (is_configured_to_return_tuple \u001b[38;5;129;01mand\u001b[39;00m is_top_level_module):\n\u001b[32m    967\u001b[39m         output = output.to_tuple()\n",
      "\u001b[36mFile \u001b[39m\u001b[32m/mnt/align3_drive/adrianoh/miniconda3/envs/llm-density/lib/python3.12/site-packages/transformers/utils/deprecation.py:172\u001b[39m, in \u001b[36mdeprecate_kwarg.<locals>.wrapper.<locals>.wrapped_func\u001b[39m\u001b[34m(*args, **kwargs)\u001b[39m\n\u001b[32m    168\u001b[39m \u001b[38;5;28;01melif\u001b[39;00m minimum_action \u001b[38;5;129;01min\u001b[39;00m (Action.NOTIFY, Action.NOTIFY_ALWAYS) \u001b[38;5;129;01mand\u001b[39;00m \u001b[38;5;129;01mnot\u001b[39;00m is_torchdynamo_compiling():\n\u001b[32m    169\u001b[39m     \u001b[38;5;66;03m# DeprecationWarning is ignored by default, so we use FutureWarning instead\u001b[39;00m\n\u001b[32m    170\u001b[39m     warnings.warn(message, \u001b[38;5;167;01mFutureWarning\u001b[39;00m, stacklevel=\u001b[32m2\u001b[39m)\n\u001b[32m--> \u001b[39m\u001b[32m172\u001b[39m \u001b[38;5;28;01mreturn\u001b[39;00m \u001b[43mfunc\u001b[49m\u001b[43m(\u001b[49m\u001b[43m*\u001b[49m\u001b[43margs\u001b[49m\u001b[43m,\u001b[49m\u001b[43m \u001b[49m\u001b[43m*\u001b[49m\u001b[43m*\u001b[49m\u001b[43mkwargs\u001b[49m\u001b[43m)\u001b[49m\n",
      "\u001b[36mFile \u001b[39m\u001b[32m/mnt/align3_drive/adrianoh/miniconda3/envs/llm-density/lib/python3.12/site-packages/transformers/models/gemma2/modeling_gemma2.py:851\u001b[39m, in \u001b[36mGemma2ForCausalLM.forward\u001b[39m\u001b[34m(self, input_ids, attention_mask, position_ids, past_key_values, inputs_embeds, labels, use_cache, output_attentions, output_hidden_states, cache_position, logits_to_keep, **loss_kwargs)\u001b[39m\n\u001b[32m    847\u001b[39m output_hidden_states = (\n\u001b[32m    848\u001b[39m     output_hidden_states \u001b[38;5;28;01mif\u001b[39;00m output_hidden_states \u001b[38;5;129;01mis\u001b[39;00m \u001b[38;5;129;01mnot\u001b[39;00m \u001b[38;5;28;01mNone\u001b[39;00m \u001b[38;5;28;01melse\u001b[39;00m \u001b[38;5;28mself\u001b[39m.config.output_hidden_states\n\u001b[32m    849\u001b[39m )\n\u001b[32m    850\u001b[39m \u001b[38;5;66;03m# decoder outputs consists of (dec_features, layer_state, dec_hidden, dec_attn)\u001b[39;00m\n\u001b[32m--> \u001b[39m\u001b[32m851\u001b[39m outputs: BaseModelOutputWithPast = \u001b[38;5;28;43mself\u001b[39;49m\u001b[43m.\u001b[49m\u001b[43mmodel\u001b[49m\u001b[43m(\u001b[49m\n\u001b[32m    852\u001b[39m \u001b[43m    \u001b[49m\u001b[43minput_ids\u001b[49m\u001b[43m=\u001b[49m\u001b[43minput_ids\u001b[49m\u001b[43m,\u001b[49m\n\u001b[32m    853\u001b[39m \u001b[43m    \u001b[49m\u001b[43mattention_mask\u001b[49m\u001b[43m=\u001b[49m\u001b[43mattention_mask\u001b[49m\u001b[43m,\u001b[49m\n\u001b[32m    854\u001b[39m \u001b[43m    \u001b[49m\u001b[43mposition_ids\u001b[49m\u001b[43m=\u001b[49m\u001b[43mposition_ids\u001b[49m\u001b[43m,\u001b[49m\n\u001b[32m    855\u001b[39m \u001b[43m    \u001b[49m\u001b[43mpast_key_values\u001b[49m\u001b[43m=\u001b[49m\u001b[43mpast_key_values\u001b[49m\u001b[43m,\u001b[49m\n\u001b[32m    856\u001b[39m \u001b[43m    \u001b[49m\u001b[43minputs_embeds\u001b[49m\u001b[43m=\u001b[49m\u001b[43minputs_embeds\u001b[49m\u001b[43m,\u001b[49m\n\u001b[32m    857\u001b[39m \u001b[43m    \u001b[49m\u001b[43muse_cache\u001b[49m\u001b[43m=\u001b[49m\u001b[43muse_cache\u001b[49m\u001b[43m,\u001b[49m\n\u001b[32m    858\u001b[39m \u001b[43m    \u001b[49m\u001b[43moutput_attentions\u001b[49m\u001b[43m=\u001b[49m\u001b[43moutput_attentions\u001b[49m\u001b[43m,\u001b[49m\n\u001b[32m    859\u001b[39m \u001b[43m    \u001b[49m\u001b[43moutput_hidden_states\u001b[49m\u001b[43m=\u001b[49m\u001b[43moutput_hidden_states\u001b[49m\u001b[43m,\u001b[49m\n\u001b[32m    860\u001b[39m \u001b[43m    \u001b[49m\u001b[43mcache_position\u001b[49m\u001b[43m=\u001b[49m\u001b[43mcache_position\u001b[49m\u001b[43m,\u001b[49m\n\u001b[32m    861\u001b[39m \u001b[43m    \u001b[49m\u001b[43m*\u001b[49m\u001b[43m*\u001b[49m\u001b[43mloss_kwargs\u001b[49m\u001b[43m,\u001b[49m\n\u001b[32m    862\u001b[39m \u001b[43m\u001b[49m\u001b[43m)\u001b[49m\n\u001b[32m    864\u001b[39m hidden_states = outputs.last_hidden_state\n\u001b[32m    865\u001b[39m \u001b[38;5;66;03m# Only compute necessary logits, and do not upcast them to float if we are not computing the loss\u001b[39;00m\n",
      "\u001b[36mFile \u001b[39m\u001b[32m/mnt/align3_drive/adrianoh/miniconda3/envs/llm-density/lib/python3.12/site-packages/torch/nn/modules/module.py:1736\u001b[39m, in \u001b[36mModule._wrapped_call_impl\u001b[39m\u001b[34m(self, *args, **kwargs)\u001b[39m\n\u001b[32m   1734\u001b[39m     \u001b[38;5;28;01mreturn\u001b[39;00m \u001b[38;5;28mself\u001b[39m._compiled_call_impl(*args, **kwargs)  \u001b[38;5;66;03m# type: ignore[misc]\u001b[39;00m\n\u001b[32m   1735\u001b[39m \u001b[38;5;28;01melse\u001b[39;00m:\n\u001b[32m-> \u001b[39m\u001b[32m1736\u001b[39m     \u001b[38;5;28;01mreturn\u001b[39;00m \u001b[38;5;28;43mself\u001b[39;49m\u001b[43m.\u001b[49m\u001b[43m_call_impl\u001b[49m\u001b[43m(\u001b[49m\u001b[43m*\u001b[49m\u001b[43margs\u001b[49m\u001b[43m,\u001b[49m\u001b[43m \u001b[49m\u001b[43m*\u001b[49m\u001b[43m*\u001b[49m\u001b[43mkwargs\u001b[49m\u001b[43m)\u001b[49m\n",
      "\u001b[36mFile \u001b[39m\u001b[32m/mnt/align3_drive/adrianoh/miniconda3/envs/llm-density/lib/python3.12/site-packages/torch/nn/modules/module.py:1747\u001b[39m, in \u001b[36mModule._call_impl\u001b[39m\u001b[34m(self, *args, **kwargs)\u001b[39m\n\u001b[32m   1742\u001b[39m \u001b[38;5;66;03m# If we don't have any hooks, we want to skip the rest of the logic in\u001b[39;00m\n\u001b[32m   1743\u001b[39m \u001b[38;5;66;03m# this function, and just call forward.\u001b[39;00m\n\u001b[32m   1744\u001b[39m \u001b[38;5;28;01mif\u001b[39;00m \u001b[38;5;129;01mnot\u001b[39;00m (\u001b[38;5;28mself\u001b[39m._backward_hooks \u001b[38;5;129;01mor\u001b[39;00m \u001b[38;5;28mself\u001b[39m._backward_pre_hooks \u001b[38;5;129;01mor\u001b[39;00m \u001b[38;5;28mself\u001b[39m._forward_hooks \u001b[38;5;129;01mor\u001b[39;00m \u001b[38;5;28mself\u001b[39m._forward_pre_hooks\n\u001b[32m   1745\u001b[39m         \u001b[38;5;129;01mor\u001b[39;00m _global_backward_pre_hooks \u001b[38;5;129;01mor\u001b[39;00m _global_backward_hooks\n\u001b[32m   1746\u001b[39m         \u001b[38;5;129;01mor\u001b[39;00m _global_forward_hooks \u001b[38;5;129;01mor\u001b[39;00m _global_forward_pre_hooks):\n\u001b[32m-> \u001b[39m\u001b[32m1747\u001b[39m     \u001b[38;5;28;01mreturn\u001b[39;00m \u001b[43mforward_call\u001b[49m\u001b[43m(\u001b[49m\u001b[43m*\u001b[49m\u001b[43margs\u001b[49m\u001b[43m,\u001b[49m\u001b[43m \u001b[49m\u001b[43m*\u001b[49m\u001b[43m*\u001b[49m\u001b[43mkwargs\u001b[49m\u001b[43m)\u001b[49m\n\u001b[32m   1749\u001b[39m result = \u001b[38;5;28;01mNone\u001b[39;00m\n\u001b[32m   1750\u001b[39m called_always_called_hooks = \u001b[38;5;28mset\u001b[39m()\n",
      "\u001b[36mFile \u001b[39m\u001b[32m/mnt/align3_drive/adrianoh/miniconda3/envs/llm-density/lib/python3.12/site-packages/transformers/utils/generic.py:965\u001b[39m, in \u001b[36mcan_return_tuple.<locals>.wrapper\u001b[39m\u001b[34m(self, *args, **kwargs)\u001b[39m\n\u001b[32m    962\u001b[39m     set_attribute_for_modules(\u001b[38;5;28mself\u001b[39m, \u001b[33m\"\u001b[39m\u001b[33m_is_top_level_module\u001b[39m\u001b[33m\"\u001b[39m, \u001b[38;5;28;01mFalse\u001b[39;00m)\n\u001b[32m    964\u001b[39m \u001b[38;5;28;01mtry\u001b[39;00m:\n\u001b[32m--> \u001b[39m\u001b[32m965\u001b[39m     output = \u001b[43mfunc\u001b[49m\u001b[43m(\u001b[49m\u001b[38;5;28;43mself\u001b[39;49m\u001b[43m,\u001b[49m\u001b[43m \u001b[49m\u001b[43m*\u001b[49m\u001b[43margs\u001b[49m\u001b[43m,\u001b[49m\u001b[43m \u001b[49m\u001b[43m*\u001b[49m\u001b[43m*\u001b[49m\u001b[43mkwargs\u001b[49m\u001b[43m)\u001b[49m\n\u001b[32m    966\u001b[39m     \u001b[38;5;28;01mif\u001b[39;00m is_requested_to_return_tuple \u001b[38;5;129;01mor\u001b[39;00m (is_configured_to_return_tuple \u001b[38;5;129;01mand\u001b[39;00m is_top_level_module):\n\u001b[32m    967\u001b[39m         output = output.to_tuple()\n",
      "\u001b[36mFile \u001b[39m\u001b[32m/mnt/align3_drive/adrianoh/miniconda3/envs/llm-density/lib/python3.12/site-packages/transformers/models/gemma2/modeling_gemma2.py:634\u001b[39m, in \u001b[36mGemma2Model.forward\u001b[39m\u001b[34m(self, input_ids, attention_mask, position_ids, past_key_values, inputs_embeds, use_cache, output_attentions, output_hidden_states, cache_position, last_cache_position, **flash_attn_kwargs)\u001b[39m\n\u001b[32m    621\u001b[39m     layer_outputs = \u001b[38;5;28mself\u001b[39m._gradient_checkpointing_func(\n\u001b[32m    622\u001b[39m         partial(decoder_layer.\u001b[34m__call__\u001b[39m, **flash_attn_kwargs),\n\u001b[32m    623\u001b[39m         hidden_states,\n\u001b[32m   (...)\u001b[39m\u001b[32m    631\u001b[39m         last_cache_position,\n\u001b[32m    632\u001b[39m     )\n\u001b[32m    633\u001b[39m \u001b[38;5;28;01melse\u001b[39;00m:\n\u001b[32m--> \u001b[39m\u001b[32m634\u001b[39m     layer_outputs = \u001b[43mdecoder_layer\u001b[49m\u001b[43m(\u001b[49m\n\u001b[32m    635\u001b[39m \u001b[43m        \u001b[49m\u001b[43mhidden_states\u001b[49m\u001b[43m,\u001b[49m\n\u001b[32m    636\u001b[39m \u001b[43m        \u001b[49m\u001b[43mposition_embeddings\u001b[49m\u001b[43m=\u001b[49m\u001b[43mposition_embeddings\u001b[49m\u001b[43m,\u001b[49m\n\u001b[32m    637\u001b[39m \u001b[43m        \u001b[49m\u001b[43mattention_mask\u001b[49m\u001b[43m=\u001b[49m\u001b[43mcausal_mask\u001b[49m\u001b[43m,\u001b[49m\n\u001b[32m    638\u001b[39m \u001b[43m        \u001b[49m\u001b[43mposition_ids\u001b[49m\u001b[43m=\u001b[49m\u001b[43mposition_ids\u001b[49m\u001b[43m,\u001b[49m\n\u001b[32m    639\u001b[39m \u001b[43m        \u001b[49m\u001b[43mpast_key_value\u001b[49m\u001b[43m=\u001b[49m\u001b[43mpast_key_values\u001b[49m\u001b[43m,\u001b[49m\n\u001b[32m    640\u001b[39m \u001b[43m        \u001b[49m\u001b[43moutput_attentions\u001b[49m\u001b[43m=\u001b[49m\u001b[43moutput_attentions\u001b[49m\u001b[43m,\u001b[49m\n\u001b[32m    641\u001b[39m \u001b[43m        \u001b[49m\u001b[43muse_cache\u001b[49m\u001b[43m=\u001b[49m\u001b[43muse_cache\u001b[49m\u001b[43m,\u001b[49m\n\u001b[32m    642\u001b[39m \u001b[43m        \u001b[49m\u001b[43mcache_position\u001b[49m\u001b[43m=\u001b[49m\u001b[43mcache_position\u001b[49m\u001b[43m,\u001b[49m\n\u001b[32m    643\u001b[39m \u001b[43m        \u001b[49m\u001b[43mlast_cache_position\u001b[49m\u001b[43m=\u001b[49m\u001b[43mlast_cache_position\u001b[49m\u001b[43m,\u001b[49m\n\u001b[32m    644\u001b[39m \u001b[43m        \u001b[49m\u001b[43m*\u001b[49m\u001b[43m*\u001b[49m\u001b[43mflash_attn_kwargs\u001b[49m\u001b[43m,\u001b[49m\n\u001b[32m    645\u001b[39m \u001b[43m    \u001b[49m\u001b[43m)\u001b[49m\n\u001b[32m    647\u001b[39m hidden_states = layer_outputs[\u001b[32m0\u001b[39m]\n\u001b[32m    649\u001b[39m \u001b[38;5;28;01mif\u001b[39;00m output_attentions:\n",
      "\u001b[36mFile \u001b[39m\u001b[32m/mnt/align3_drive/adrianoh/miniconda3/envs/llm-density/lib/python3.12/site-packages/torch/nn/modules/module.py:1736\u001b[39m, in \u001b[36mModule._wrapped_call_impl\u001b[39m\u001b[34m(self, *args, **kwargs)\u001b[39m\n\u001b[32m   1734\u001b[39m     \u001b[38;5;28;01mreturn\u001b[39;00m \u001b[38;5;28mself\u001b[39m._compiled_call_impl(*args, **kwargs)  \u001b[38;5;66;03m# type: ignore[misc]\u001b[39;00m\n\u001b[32m   1735\u001b[39m \u001b[38;5;28;01melse\u001b[39;00m:\n\u001b[32m-> \u001b[39m\u001b[32m1736\u001b[39m     \u001b[38;5;28;01mreturn\u001b[39;00m \u001b[38;5;28;43mself\u001b[39;49m\u001b[43m.\u001b[49m\u001b[43m_call_impl\u001b[49m\u001b[43m(\u001b[49m\u001b[43m*\u001b[49m\u001b[43margs\u001b[49m\u001b[43m,\u001b[49m\u001b[43m \u001b[49m\u001b[43m*\u001b[49m\u001b[43m*\u001b[49m\u001b[43mkwargs\u001b[49m\u001b[43m)\u001b[49m\n",
      "\u001b[36mFile \u001b[39m\u001b[32m/mnt/align3_drive/adrianoh/miniconda3/envs/llm-density/lib/python3.12/site-packages/torch/nn/modules/module.py:1747\u001b[39m, in \u001b[36mModule._call_impl\u001b[39m\u001b[34m(self, *args, **kwargs)\u001b[39m\n\u001b[32m   1742\u001b[39m \u001b[38;5;66;03m# If we don't have any hooks, we want to skip the rest of the logic in\u001b[39;00m\n\u001b[32m   1743\u001b[39m \u001b[38;5;66;03m# this function, and just call forward.\u001b[39;00m\n\u001b[32m   1744\u001b[39m \u001b[38;5;28;01mif\u001b[39;00m \u001b[38;5;129;01mnot\u001b[39;00m (\u001b[38;5;28mself\u001b[39m._backward_hooks \u001b[38;5;129;01mor\u001b[39;00m \u001b[38;5;28mself\u001b[39m._backward_pre_hooks \u001b[38;5;129;01mor\u001b[39;00m \u001b[38;5;28mself\u001b[39m._forward_hooks \u001b[38;5;129;01mor\u001b[39;00m \u001b[38;5;28mself\u001b[39m._forward_pre_hooks\n\u001b[32m   1745\u001b[39m         \u001b[38;5;129;01mor\u001b[39;00m _global_backward_pre_hooks \u001b[38;5;129;01mor\u001b[39;00m _global_backward_hooks\n\u001b[32m   1746\u001b[39m         \u001b[38;5;129;01mor\u001b[39;00m _global_forward_hooks \u001b[38;5;129;01mor\u001b[39;00m _global_forward_pre_hooks):\n\u001b[32m-> \u001b[39m\u001b[32m1747\u001b[39m     \u001b[38;5;28;01mreturn\u001b[39;00m \u001b[43mforward_call\u001b[49m\u001b[43m(\u001b[49m\u001b[43m*\u001b[49m\u001b[43margs\u001b[49m\u001b[43m,\u001b[49m\u001b[43m \u001b[49m\u001b[43m*\u001b[49m\u001b[43m*\u001b[49m\u001b[43mkwargs\u001b[49m\u001b[43m)\u001b[49m\n\u001b[32m   1749\u001b[39m result = \u001b[38;5;28;01mNone\u001b[39;00m\n\u001b[32m   1750\u001b[39m called_always_called_hooks = \u001b[38;5;28mset\u001b[39m()\n",
      "\u001b[36mFile \u001b[39m\u001b[32m/mnt/align3_drive/adrianoh/miniconda3/envs/llm-density/lib/python3.12/site-packages/transformers/models/gemma2/modeling_gemma2.py:322\u001b[39m, in \u001b[36mGemma2DecoderLayer.forward\u001b[39m\u001b[34m(self, hidden_states, position_embeddings, attention_mask, position_ids, past_key_value, output_attentions, use_cache, cache_position, last_cache_position, **kwargs)\u001b[39m\n\u001b[32m    319\u001b[39m hidden_states = \u001b[38;5;28mself\u001b[39m.input_layernorm(hidden_states)\n\u001b[32m    321\u001b[39m \u001b[38;5;66;03m# Self Attention\u001b[39;00m\n\u001b[32m--> \u001b[39m\u001b[32m322\u001b[39m hidden_states, self_attn_weights = \u001b[38;5;28;43mself\u001b[39;49m\u001b[43m.\u001b[49m\u001b[43mself_attn\u001b[49m\u001b[43m(\u001b[49m\n\u001b[32m    323\u001b[39m \u001b[43m    \u001b[49m\u001b[43mhidden_states\u001b[49m\u001b[43m=\u001b[49m\u001b[43mhidden_states\u001b[49m\u001b[43m,\u001b[49m\n\u001b[32m    324\u001b[39m \u001b[43m    \u001b[49m\u001b[43mposition_embeddings\u001b[49m\u001b[43m=\u001b[49m\u001b[43mposition_embeddings\u001b[49m\u001b[43m,\u001b[49m\n\u001b[32m    325\u001b[39m \u001b[43m    \u001b[49m\u001b[43mattention_mask\u001b[49m\u001b[43m=\u001b[49m\u001b[43mattention_mask\u001b[49m\u001b[43m,\u001b[49m\n\u001b[32m    326\u001b[39m \u001b[43m    \u001b[49m\u001b[43mposition_ids\u001b[49m\u001b[43m=\u001b[49m\u001b[43mposition_ids\u001b[49m\u001b[43m,\u001b[49m\n\u001b[32m    327\u001b[39m \u001b[43m    \u001b[49m\u001b[43mpast_key_value\u001b[49m\u001b[43m=\u001b[49m\u001b[43mpast_key_value\u001b[49m\u001b[43m,\u001b[49m\n\u001b[32m    328\u001b[39m \u001b[43m    \u001b[49m\u001b[43moutput_attentions\u001b[49m\u001b[43m=\u001b[49m\u001b[43moutput_attentions\u001b[49m\u001b[43m,\u001b[49m\n\u001b[32m    329\u001b[39m \u001b[43m    \u001b[49m\u001b[43muse_cache\u001b[49m\u001b[43m=\u001b[49m\u001b[43muse_cache\u001b[49m\u001b[43m,\u001b[49m\n\u001b[32m    330\u001b[39m \u001b[43m    \u001b[49m\u001b[43mcache_position\u001b[49m\u001b[43m=\u001b[49m\u001b[43mcache_position\u001b[49m\u001b[43m,\u001b[49m\n\u001b[32m    331\u001b[39m \u001b[43m    \u001b[49m\u001b[43m*\u001b[49m\u001b[43m*\u001b[49m\u001b[43mkwargs\u001b[49m\u001b[43m,\u001b[49m\n\u001b[32m    332\u001b[39m \u001b[43m\u001b[49m\u001b[43m)\u001b[49m\n\u001b[32m    333\u001b[39m hidden_states = \u001b[38;5;28mself\u001b[39m.post_attention_layernorm(hidden_states)\n\u001b[32m    334\u001b[39m hidden_states = residual + hidden_states\n",
      "\u001b[36mFile \u001b[39m\u001b[32m/mnt/align3_drive/adrianoh/miniconda3/envs/llm-density/lib/python3.12/site-packages/torch/nn/modules/module.py:1736\u001b[39m, in \u001b[36mModule._wrapped_call_impl\u001b[39m\u001b[34m(self, *args, **kwargs)\u001b[39m\n\u001b[32m   1734\u001b[39m     \u001b[38;5;28;01mreturn\u001b[39;00m \u001b[38;5;28mself\u001b[39m._compiled_call_impl(*args, **kwargs)  \u001b[38;5;66;03m# type: ignore[misc]\u001b[39;00m\n\u001b[32m   1735\u001b[39m \u001b[38;5;28;01melse\u001b[39;00m:\n\u001b[32m-> \u001b[39m\u001b[32m1736\u001b[39m     \u001b[38;5;28;01mreturn\u001b[39;00m \u001b[38;5;28;43mself\u001b[39;49m\u001b[43m.\u001b[49m\u001b[43m_call_impl\u001b[49m\u001b[43m(\u001b[49m\u001b[43m*\u001b[49m\u001b[43margs\u001b[49m\u001b[43m,\u001b[49m\u001b[43m \u001b[49m\u001b[43m*\u001b[49m\u001b[43m*\u001b[49m\u001b[43mkwargs\u001b[49m\u001b[43m)\u001b[49m\n",
      "\u001b[36mFile \u001b[39m\u001b[32m/mnt/align3_drive/adrianoh/miniconda3/envs/llm-density/lib/python3.12/site-packages/torch/nn/modules/module.py:1747\u001b[39m, in \u001b[36mModule._call_impl\u001b[39m\u001b[34m(self, *args, **kwargs)\u001b[39m\n\u001b[32m   1742\u001b[39m \u001b[38;5;66;03m# If we don't have any hooks, we want to skip the rest of the logic in\u001b[39;00m\n\u001b[32m   1743\u001b[39m \u001b[38;5;66;03m# this function, and just call forward.\u001b[39;00m\n\u001b[32m   1744\u001b[39m \u001b[38;5;28;01mif\u001b[39;00m \u001b[38;5;129;01mnot\u001b[39;00m (\u001b[38;5;28mself\u001b[39m._backward_hooks \u001b[38;5;129;01mor\u001b[39;00m \u001b[38;5;28mself\u001b[39m._backward_pre_hooks \u001b[38;5;129;01mor\u001b[39;00m \u001b[38;5;28mself\u001b[39m._forward_hooks \u001b[38;5;129;01mor\u001b[39;00m \u001b[38;5;28mself\u001b[39m._forward_pre_hooks\n\u001b[32m   1745\u001b[39m         \u001b[38;5;129;01mor\u001b[39;00m _global_backward_pre_hooks \u001b[38;5;129;01mor\u001b[39;00m _global_backward_hooks\n\u001b[32m   1746\u001b[39m         \u001b[38;5;129;01mor\u001b[39;00m _global_forward_hooks \u001b[38;5;129;01mor\u001b[39;00m _global_forward_pre_hooks):\n\u001b[32m-> \u001b[39m\u001b[32m1747\u001b[39m     \u001b[38;5;28;01mreturn\u001b[39;00m \u001b[43mforward_call\u001b[49m\u001b[43m(\u001b[49m\u001b[43m*\u001b[49m\u001b[43margs\u001b[49m\u001b[43m,\u001b[49m\u001b[43m \u001b[49m\u001b[43m*\u001b[49m\u001b[43m*\u001b[49m\u001b[43mkwargs\u001b[49m\u001b[43m)\u001b[49m\n\u001b[32m   1749\u001b[39m result = \u001b[38;5;28;01mNone\u001b[39;00m\n\u001b[32m   1750\u001b[39m called_always_called_hooks = \u001b[38;5;28mset\u001b[39m()\n",
      "\u001b[36mFile \u001b[39m\u001b[32m/mnt/align3_drive/adrianoh/miniconda3/envs/llm-density/lib/python3.12/site-packages/transformers/models/gemma2/modeling_gemma2.py:232\u001b[39m, in \u001b[36mGemma2Attention.forward\u001b[39m\u001b[34m(self, hidden_states, position_embeddings, attention_mask, past_key_value, cache_position, **kwargs)\u001b[39m\n\u001b[32m    224\u001b[39m \u001b[38;5;28;01mif\u001b[39;00m past_key_value \u001b[38;5;129;01mis\u001b[39;00m \u001b[38;5;129;01mnot\u001b[39;00m \u001b[38;5;28;01mNone\u001b[39;00m:\n\u001b[32m    225\u001b[39m     \u001b[38;5;66;03m# sin and cos are specific to RoPE models; cache_position needed for the static cache\u001b[39;00m\n\u001b[32m    226\u001b[39m     cache_kwargs = {\n\u001b[32m    227\u001b[39m         \u001b[33m\"\u001b[39m\u001b[33msin\u001b[39m\u001b[33m\"\u001b[39m: sin,\n\u001b[32m    228\u001b[39m         \u001b[33m\"\u001b[39m\u001b[33mcos\u001b[39m\u001b[33m\"\u001b[39m: cos,\n\u001b[32m    229\u001b[39m         \u001b[33m\"\u001b[39m\u001b[33mcache_position\u001b[39m\u001b[33m\"\u001b[39m: cache_position,\n\u001b[32m    230\u001b[39m         \u001b[33m\"\u001b[39m\u001b[33msliding_window\u001b[39m\u001b[33m\"\u001b[39m: \u001b[38;5;28mself\u001b[39m.sliding_window,\n\u001b[32m    231\u001b[39m     }\n\u001b[32m--> \u001b[39m\u001b[32m232\u001b[39m     key_states, value_states = \u001b[43mpast_key_value\u001b[49m\u001b[43m.\u001b[49m\u001b[43mupdate\u001b[49m\u001b[43m(\u001b[49m\u001b[43mkey_states\u001b[49m\u001b[43m,\u001b[49m\u001b[43m \u001b[49m\u001b[43mvalue_states\u001b[49m\u001b[43m,\u001b[49m\u001b[43m \u001b[49m\u001b[38;5;28;43mself\u001b[39;49m\u001b[43m.\u001b[49m\u001b[43mlayer_idx\u001b[49m\u001b[43m,\u001b[49m\u001b[43m \u001b[49m\u001b[43mcache_kwargs\u001b[49m\u001b[43m)\u001b[49m\n\u001b[32m    234\u001b[39m     \u001b[38;5;66;03m# Here we need to slice as we use a static cache by default, but FA2 does not support it\u001b[39;00m\n\u001b[32m    235\u001b[39m     \u001b[38;5;28;01mif\u001b[39;00m attention_mask \u001b[38;5;129;01mis\u001b[39;00m \u001b[38;5;129;01mnot\u001b[39;00m \u001b[38;5;28;01mNone\u001b[39;00m \u001b[38;5;129;01mand\u001b[39;00m \u001b[38;5;28mself\u001b[39m.config._attn_implementation == \u001b[33m\"\u001b[39m\u001b[33mflash_attention_2\u001b[39m\u001b[33m\"\u001b[39m:\n",
      "\u001b[36mFile \u001b[39m\u001b[32m/mnt/align3_drive/adrianoh/miniconda3/envs/llm-density/lib/python3.12/site-packages/transformers/cache_utils.py:1768\u001b[39m, in \u001b[36mHybridCache.update\u001b[39m\u001b[34m(self, key_states, value_states, layer_idx, cache_kwargs)\u001b[39m\n\u001b[32m   1765\u001b[39m \u001b[38;5;66;03m# These two `if` blocks are only reached in multigpu and if `layer_device_map` is not passed. They are used\u001b[39;00m\n\u001b[32m   1766\u001b[39m \u001b[38;5;66;03m# when the cache is initialized in the forward pass (e.g. Gemma2)\u001b[39;00m\n\u001b[32m   1767\u001b[39m \u001b[38;5;28;01mif\u001b[39;00m \u001b[38;5;28mself\u001b[39m.key_cache[layer_idx].device != key_states.device:\n\u001b[32m-> \u001b[39m\u001b[32m1768\u001b[39m     \u001b[38;5;28mself\u001b[39m.key_cache[layer_idx] = \u001b[38;5;28;43mself\u001b[39;49m\u001b[43m.\u001b[49m\u001b[43mkey_cache\u001b[49m\u001b[43m[\u001b[49m\u001b[43mlayer_idx\u001b[49m\u001b[43m]\u001b[49m\u001b[43m.\u001b[49m\u001b[43mto\u001b[49m\u001b[43m(\u001b[49m\u001b[43mkey_states\u001b[49m\u001b[43m.\u001b[49m\u001b[43mdevice\u001b[49m\u001b[43m)\u001b[49m\n\u001b[32m   1769\u001b[39m \u001b[38;5;28;01mif\u001b[39;00m \u001b[38;5;28mself\u001b[39m.value_cache[layer_idx].device != value_states.device:\n\u001b[32m   1770\u001b[39m     \u001b[38;5;28mself\u001b[39m.value_cache[layer_idx] = \u001b[38;5;28mself\u001b[39m.value_cache[layer_idx].to(value_states.device)\n",
      "\u001b[31mKeyboardInterrupt\u001b[39m: "
     ]
    }
   ],
   "source": [
    "\"\"\"\n",
    "Now we try Gemmascopea??\n",
    "\"\"\"\n",
    "import json\n",
    "import itertools\n",
    "try:\n",
    "    del activations\n",
    "except:\n",
    "    pass\n",
    "try:\n",
    "    del residuals\n",
    "except:\n",
    "    pass\n",
    "reg_lambdas = [1e-4]#, 5e-4, 1e-3, 5e-3, 1e-2, 5e-2, 1e-1]\n",
    "window_sizes = [10] # ...\n",
    "use_recons = [True, False]\n",
    "def get_sliding_windows_r2(model_name: str, layer: int, window_sizes: list[int], reg_lambdas: list[float], use_recons: bool = True) -> list[float]:\n",
    "    #### 1. GET ACTIVATIONS ####\n",
    "    activations, _, _ = get_activations(model_name=model_name, layer=20, return_raw=True)#, n_batch=100)\n",
    "    activations_prev_layer, _, _ = get_activations(model_name=model_name, layer=21, return_raw=True)#, n_batch=100)\n",
    "    # Exclude EOS/BOS\n",
    "    activations = activations[:, 1:-10, :]\n",
    "    activations_prev_layer = activations_prev_layer[:, 1:-10, :]\n",
    "    #\n",
    "    batch, seq, d_model = activations.shape\n",
    "\n",
    "    #### 2. GET RESIDUALS ####\n",
    "    sae = get_sae(model_name=model_name, layer=layer).cuda()\n",
    "    recons = apply_sae(activations.reshape(batch * seq, d_model), sae, batch_size=1024)\n",
    "    recons = recons.reshape(batch, seq, d_model)\n",
    "    if use_recons:\n",
    "        recons, activations = activations, recons\n",
    "    assert recons.shape == activations.shape\n",
    "    residuals = activations - recons\n",
    "    del sae\n",
    "    del recons # TODO(Adriano) sanity check this maybe please?\n",
    "    gc.collect()\n",
    "    torch.cuda.empty_cache()\n",
    "\n",
    "\n",
    "    r2_scores = []\n",
    "    for window_size in tqdm.tqdm(window_sizes, desc=\"Window sizes\"):\n",
    "        #### 3. CREATE SLIDING WINDOWS ####\n",
    "        sliding_activations = create_sliding_windows(activations, window_size)\n",
    "        residuals_last = create_sliding_windows(residuals, window_size)\n",
    "        activations_prev_layer_last = create_sliding_windows(activations_prev_layer, window_size)\n",
    "        residuals_last = residuals_last.reshape(-1, d_model, window_size)[:, :, -1]\n",
    "        activations_prev_layer_last = activations_prev_layer_last.reshape(-1, d_model, window_size)[:, :, -1]\n",
    "\n",
    "        X = torch.cat([sliding_activations, activations_prev_layer_last], dim=1)\n",
    "        y = residuals_last\n",
    "\n",
    "        del sliding_activations\n",
    "        del residuals_last\n",
    "        del activations_prev_layer_last\n",
    "        gc.collect()\n",
    "        torch.cuda.empty_cache()\n",
    "        # Don't do the print cuz it's logspam :/\n",
    "        for reg_lambda in reg_lambdas:#tqdm.tqdm(reg_lambdas, desc=\"Regularization lambdas\"):\n",
    "            assert isinstance(reg_lambda, float)\n",
    "            assert isinstance(window_size, int)\n",
    "            assert isinstance(use_recons, bool)\n",
    "            try:\n",
    "                linear_probe = NonLinearProbe(linear_fmap, reg_lambda=reg_lambda, device=\"cuda\")\n",
    "                linear_probe.fit(X, y, batch_size=1024)\n",
    "                r2_score = linear_probe.r2_batched(X, y, batch_size=1024)\n",
    "                # Make sure it's JSON serializeable\n",
    "                assert isinstance(r2_score, float)\n",
    "                # Save\n",
    "                r2_scores.append({\"reg_lambda\": reg_lambda, \"window_size\": window_size, \"r2_score\": r2_score, 'using_recons': use_recons})\n",
    "            except:\n",
    "                # Save non entries to denote errors\n",
    "                r2_scores.append({\"reg_lambda\": reg_lambda, \"window_size\": window_size, \"r2_score\": None, 'using_recons': use_recons})\n",
    "    return r2_scores\n",
    "\n",
    "\n",
    "model_name = \"google/gemma-2-2b\"\n",
    "r2s = get_sliding_windows_r2(model_name, 20, window_sizes, reg_lambdas)\n",
    "print(r2s)\n",
    "with open(\"r2s.json\", \"w\") as f:\n",
    "    json.dump(r2s, f)\n"
   ]
  },
  {
   "cell_type": "code",
   "execution_count": 39,
   "metadata": {},
   "outputs": [
    {
     "data": {
      "image/png": "[encoded data removed]",
      "text/plain": [
       "<Figure size 1000x600 with 1 Axes>"
      ]
     },
     "metadata": {},
     "output_type": "display_data"
    }
   ],
   "source": [
    "import matplotlib.pyplot as plt\n",
    "import numpy as np\n",
    "\n",
    "# Create the plot\n",
    "plt.figure(figsize=(10, 6))\n",
    "\n",
    "# Separate data points by whether they use recons or not\n",
    "recons_points = [item for item in r2s if item.get(\"using_recons\", False)]\n",
    "no_recons_points = [item for item in r2s if not item.get(\"using_recons\", False)]\n",
    "\n",
    "# Plot points that use recons in red\n",
    "if recons_points:\n",
    "    plt.scatter(\n",
    "        [item[\"r2_score\"] for item in recons_points],\n",
    "        [item[\"reg_lambda\"] for item in recons_points],\n",
    "        color='red',\n",
    "        label='Using Recons',\n",
    "        alpha=0.7,\n",
    "        s=80\n",
    "    )\n",
    "\n",
    "# Plot points that don't use recons in blue\n",
    "if no_recons_points:\n",
    "    plt.scatter(\n",
    "        [item[\"r2_score\"] for item in no_recons_points],\n",
    "        [item[\"reg_lambda\"] for item in no_recons_points],\n",
    "        color='blue',\n",
    "        label='Not Using Recons',\n",
    "        alpha=0.7,\n",
    "        s=80\n",
    "    )\n",
    "\n",
    "# Add labels and annotations\n",
    "for item in r2s:\n",
    "    plt.annotate(\n",
    "        f\"w={item['window_size']}\",\n",
    "        (item[\"r2_score\"], item[\"reg_lambda\"]),\n",
    "        xytext=(5, 0),\n",
    "        textcoords='offset points',\n",
    "        fontsize=8\n",
    "    )\n",
    "\n",
    "plt.xlabel('R² Score')\n",
    "plt.ylabel('Regularization Lambda')\n",
    "plt.title(f'R² Scores vs Regularization Lambda (Model: {model_name})')\n",
    "plt.yscale('log')  # Log scale for regularization values\n",
    "plt.grid(True, alpha=0.3)\n",
    "plt.legend()\n",
    "plt.tight_layout()\n",
    "plt.show()\n"
   ]
  }
 ],
 "metadata": {
  "language_info": {
   "name": "python"
  }
 },
 "nbformat": 4,
 "nbformat_minor": 2
}
